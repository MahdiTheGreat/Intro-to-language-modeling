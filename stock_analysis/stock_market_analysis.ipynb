{
  "cells": [
    {
      "cell_type": "markdown",
      "metadata": {
        "id": "view-in-github",
        "colab_type": "text"
      },
      "source": [
        "<a href=\"https://colab.research.google.com/github/MahdiTheGreat/Intro-to-language-modeling/blob/main/stock_analysis/stock_market_analysis.ipynb\" target=\"_parent\"><img src=\"https://colab.research.google.com/assets/colab-badge.svg\" alt=\"Open In Colab\"/></a>"
      ]
    },
    {
      "cell_type": "code",
      "source": [
        "!git clone https://github.com/MahdiTheGreat/Intro-to-language-modeling.git\n",
        "%cd Intro-to-language-modeling/stock_analysis\n",
        "from google.colab import userdata\n",
        "from huggingface_hub import login\n",
        "login(userdata.get('huggingface_token'))\n",
        "!pip install -Uqq ipdb\n",
        "import ipdb"
      ],
      "metadata": {
        "id": "rDh0dlN4y1Zm",
        "outputId": "bfbb70dc-6f5b-44e5-cd3b-b5ecebdd63fd",
        "colab": {
          "base_uri": "https://localhost:8080/"
        }
      },
      "execution_count": 2,
      "outputs": [
        {
          "output_type": "stream",
          "name": "stdout",
          "text": [
            "Cloning into 'Intro-to-language-modeling'...\n",
            "remote: Enumerating objects: 277, done.\u001b[K\n",
            "remote: Counting objects: 100% (123/123), done.\u001b[K\n",
            "remote: Compressing objects: 100% (123/123), done.\u001b[K\n",
            "remote: Total 277 (delta 75), reused 4 (delta 0), pack-reused 154 (from 2)\u001b[K\n",
            "Receiving objects: 100% (277/277), 36.63 MiB | 25.00 MiB/s, done.\n",
            "Resolving deltas: 100% (163/163), done.\n",
            "/content/Intro-to-language-modeling/stock_analysis/Intro-to-language-modeling/stock_analysis\n"
          ]
        }
      ]
    },
    {
      "cell_type": "code",
      "source": [
        "#%pdb on"
      ],
      "metadata": {
        "id": "gPClDTkY83iu"
      },
      "execution_count": 3,
      "outputs": []
    },
    {
      "cell_type": "code",
      "execution_count": 4,
      "metadata": {
        "id": "WRgFz5uzynx_",
        "outputId": "93ad18d1-8bcb-4dff-c965-4227aaf05696",
        "colab": {
          "base_uri": "https://localhost:8080/"
        }
      },
      "outputs": [
        {
          "output_type": "stream",
          "name": "stdout",
          "text": [
            "Collecting pmdarima\n",
            "  Downloading pmdarima-2.0.4-cp311-cp311-manylinux_2_17_x86_64.manylinux2014_x86_64.manylinux_2_28_x86_64.whl.metadata (7.8 kB)\n",
            "Requirement already satisfied: joblib>=0.11 in /usr/local/lib/python3.11/dist-packages (from pmdarima) (1.4.2)\n",
            "Requirement already satisfied: Cython!=0.29.18,!=0.29.31,>=0.29 in /usr/local/lib/python3.11/dist-packages (from pmdarima) (3.0.11)\n",
            "Requirement already satisfied: numpy>=1.21.2 in /usr/local/lib/python3.11/dist-packages (from pmdarima) (1.26.4)\n",
            "Requirement already satisfied: pandas>=0.19 in /usr/local/lib/python3.11/dist-packages (from pmdarima) (2.2.2)\n",
            "Requirement already satisfied: scikit-learn>=0.22 in /usr/local/lib/python3.11/dist-packages (from pmdarima) (1.6.0)\n",
            "Requirement already satisfied: scipy>=1.3.2 in /usr/local/lib/python3.11/dist-packages (from pmdarima) (1.13.1)\n",
            "Requirement already satisfied: statsmodels>=0.13.2 in /usr/local/lib/python3.11/dist-packages (from pmdarima) (0.14.4)\n",
            "Requirement already satisfied: urllib3 in /usr/local/lib/python3.11/dist-packages (from pmdarima) (2.3.0)\n",
            "Requirement already satisfied: setuptools!=50.0.0,>=38.6.0 in /usr/local/lib/python3.11/dist-packages (from pmdarima) (75.1.0)\n",
            "Requirement already satisfied: packaging>=17.1 in /usr/local/lib/python3.11/dist-packages (from pmdarima) (24.2)\n",
            "Requirement already satisfied: python-dateutil>=2.8.2 in /usr/local/lib/python3.11/dist-packages (from pandas>=0.19->pmdarima) (2.8.2)\n",
            "Requirement already satisfied: pytz>=2020.1 in /usr/local/lib/python3.11/dist-packages (from pandas>=0.19->pmdarima) (2024.2)\n",
            "Requirement already satisfied: tzdata>=2022.7 in /usr/local/lib/python3.11/dist-packages (from pandas>=0.19->pmdarima) (2024.2)\n",
            "Requirement already satisfied: threadpoolctl>=3.1.0 in /usr/local/lib/python3.11/dist-packages (from scikit-learn>=0.22->pmdarima) (3.5.0)\n",
            "Requirement already satisfied: patsy>=0.5.6 in /usr/local/lib/python3.11/dist-packages (from statsmodels>=0.13.2->pmdarima) (1.0.1)\n",
            "Requirement already satisfied: six>=1.5 in /usr/local/lib/python3.11/dist-packages (from python-dateutil>=2.8.2->pandas>=0.19->pmdarima) (1.17.0)\n",
            "Downloading pmdarima-2.0.4-cp311-cp311-manylinux_2_17_x86_64.manylinux2014_x86_64.manylinux_2_28_x86_64.whl (2.2 MB)\n",
            "\u001b[2K   \u001b[90m━━━━━━━━━━━━━━━━━━━━━━━━━━━━━━━━━━━━━━━━\u001b[0m \u001b[32m2.2/2.2 MB\u001b[0m \u001b[31m29.4 MB/s\u001b[0m eta \u001b[36m0:00:00\u001b[0m\n",
            "\u001b[?25hInstalling collected packages: pmdarima\n",
            "Successfully installed pmdarima-2.0.4\n",
            "Requirement already satisfied: transformers in /usr/local/lib/python3.11/dist-packages (4.47.1)\n",
            "Requirement already satisfied: filelock in /usr/local/lib/python3.11/dist-packages (from transformers) (3.16.1)\n",
            "Requirement already satisfied: huggingface-hub<1.0,>=0.24.0 in /usr/local/lib/python3.11/dist-packages (from transformers) (0.27.1)\n",
            "Requirement already satisfied: numpy>=1.17 in /usr/local/lib/python3.11/dist-packages (from transformers) (1.26.4)\n",
            "Requirement already satisfied: packaging>=20.0 in /usr/local/lib/python3.11/dist-packages (from transformers) (24.2)\n",
            "Requirement already satisfied: pyyaml>=5.1 in /usr/local/lib/python3.11/dist-packages (from transformers) (6.0.2)\n",
            "Requirement already satisfied: regex!=2019.12.17 in /usr/local/lib/python3.11/dist-packages (from transformers) (2024.11.6)\n",
            "Requirement already satisfied: requests in /usr/local/lib/python3.11/dist-packages (from transformers) (2.32.3)\n",
            "Requirement already satisfied: tokenizers<0.22,>=0.21 in /usr/local/lib/python3.11/dist-packages (from transformers) (0.21.0)\n",
            "Requirement already satisfied: safetensors>=0.4.1 in /usr/local/lib/python3.11/dist-packages (from transformers) (0.5.2)\n",
            "Requirement already satisfied: tqdm>=4.27 in /usr/local/lib/python3.11/dist-packages (from transformers) (4.67.1)\n",
            "Requirement already satisfied: fsspec>=2023.5.0 in /usr/local/lib/python3.11/dist-packages (from huggingface-hub<1.0,>=0.24.0->transformers) (2024.10.0)\n",
            "Requirement already satisfied: typing-extensions>=3.7.4.3 in /usr/local/lib/python3.11/dist-packages (from huggingface-hub<1.0,>=0.24.0->transformers) (4.12.2)\n",
            "Requirement already satisfied: charset-normalizer<4,>=2 in /usr/local/lib/python3.11/dist-packages (from requests->transformers) (3.4.1)\n",
            "Requirement already satisfied: idna<4,>=2.5 in /usr/local/lib/python3.11/dist-packages (from requests->transformers) (3.10)\n",
            "Requirement already satisfied: urllib3<3,>=1.21.1 in /usr/local/lib/python3.11/dist-packages (from requests->transformers) (2.3.0)\n",
            "Requirement already satisfied: certifi>=2017.4.17 in /usr/local/lib/python3.11/dist-packages (from requests->transformers) (2024.12.14)\n",
            "Requirement already satisfied: yfinance in /usr/local/lib/python3.11/dist-packages (0.2.51)\n",
            "Requirement already satisfied: pandas>=1.3.0 in /usr/local/lib/python3.11/dist-packages (from yfinance) (2.2.2)\n",
            "Requirement already satisfied: numpy>=1.16.5 in /usr/local/lib/python3.11/dist-packages (from yfinance) (1.26.4)\n",
            "Requirement already satisfied: requests>=2.31 in /usr/local/lib/python3.11/dist-packages (from yfinance) (2.32.3)\n",
            "Requirement already satisfied: multitasking>=0.0.7 in /usr/local/lib/python3.11/dist-packages (from yfinance) (0.0.11)\n",
            "Requirement already satisfied: lxml>=4.9.1 in /usr/local/lib/python3.11/dist-packages (from yfinance) (5.3.0)\n",
            "Requirement already satisfied: platformdirs>=2.0.0 in /usr/local/lib/python3.11/dist-packages (from yfinance) (4.3.6)\n",
            "Requirement already satisfied: pytz>=2022.5 in /usr/local/lib/python3.11/dist-packages (from yfinance) (2024.2)\n",
            "Requirement already satisfied: frozendict>=2.3.4 in /usr/local/lib/python3.11/dist-packages (from yfinance) (2.4.6)\n",
            "Requirement already satisfied: peewee>=3.16.2 in /usr/local/lib/python3.11/dist-packages (from yfinance) (3.17.8)\n",
            "Requirement already satisfied: beautifulsoup4>=4.11.1 in /usr/local/lib/python3.11/dist-packages (from yfinance) (4.12.3)\n",
            "Requirement already satisfied: html5lib>=1.1 in /usr/local/lib/python3.11/dist-packages (from yfinance) (1.1)\n",
            "Requirement already satisfied: soupsieve>1.2 in /usr/local/lib/python3.11/dist-packages (from beautifulsoup4>=4.11.1->yfinance) (2.6)\n",
            "Requirement already satisfied: six>=1.9 in /usr/local/lib/python3.11/dist-packages (from html5lib>=1.1->yfinance) (1.17.0)\n",
            "Requirement already satisfied: webencodings in /usr/local/lib/python3.11/dist-packages (from html5lib>=1.1->yfinance) (0.5.1)\n",
            "Requirement already satisfied: python-dateutil>=2.8.2 in /usr/local/lib/python3.11/dist-packages (from pandas>=1.3.0->yfinance) (2.8.2)\n",
            "Requirement already satisfied: tzdata>=2022.7 in /usr/local/lib/python3.11/dist-packages (from pandas>=1.3.0->yfinance) (2024.2)\n",
            "Requirement already satisfied: charset-normalizer<4,>=2 in /usr/local/lib/python3.11/dist-packages (from requests>=2.31->yfinance) (3.4.1)\n",
            "Requirement already satisfied: idna<4,>=2.5 in /usr/local/lib/python3.11/dist-packages (from requests>=2.31->yfinance) (3.10)\n",
            "Requirement already satisfied: urllib3<3,>=1.21.1 in /usr/local/lib/python3.11/dist-packages (from requests>=2.31->yfinance) (2.3.0)\n",
            "Requirement already satisfied: certifi>=2017.4.17 in /usr/local/lib/python3.11/dist-packages (from requests>=2.31->yfinance) (2024.12.14)\n"
          ]
        }
      ],
      "source": [
        "!pip install pmdarima\n",
        "!pip install transformers\n",
        "!pip install yfinance"
      ]
    },
    {
      "cell_type": "code",
      "execution_count": 5,
      "metadata": {
        "id": "pqk_4hLtynyE"
      },
      "outputs": [],
      "source": [
        "# Import libraries\n",
        "from transformers import AutoModelForCausalLM, AutoTokenizer, AutoModelForSequenceClassification\n",
        "from sklearn.linear_model import LinearRegression\n",
        "from pmdarima import auto_arima\n",
        "import warnings\n",
        "import yfinance as yf\n",
        "import torch\n",
        "import pandas as pd\n",
        "import requests\n",
        "import numpy as np\n",
        "from datetime import datetime, timedelta\n",
        "import re\n",
        "import os"
      ]
    },
    {
      "cell_type": "markdown",
      "metadata": {
        "id": "aGrwOUr2ynyQ"
      },
      "source": [
        "Stocks based on Market Reputation and Company Size can be divided to:\n",
        "a) Blue-Chip Stocks\n",
        "\n",
        "    Definition: Stocks of large, well-established, and financially stable companies with a history of reliable performance.\n",
        "    Examples: Apple, Microsoft, Coca-Cola.\n",
        "    Key Features:\n",
        "        Considered low-risk investments.\n",
        "        Often pay consistent dividends.\n",
        "        Suitable for long-term, stable growth.\n",
        "\n",
        "b) Penny Stocks\n",
        "\n",
        "    Definition: Stocks of small companies that trade at very low prices, usually below $5 per share.\n",
        "    Key Features:\n",
        "        High-risk and speculative.\n",
        "        Low market capitalization.\n",
        "        Often traded over-the-counter (OTC).\n",
        "\n",
        "c) Growth Stocks\n",
        "\n",
        "    Definition: Stocks of companies expected to grow at a rate higher than the market average.\n",
        "    Key Features:\n",
        "        Usually reinvest earnings into growth (rarely pay dividends).\n",
        "        High potential for capital appreciation.\n",
        "        Often more volatile.\n",
        "\n",
        "d) Value Stocks\n",
        "\n",
        "    Definition: Stocks that are considered undervalued compared to their intrinsic value.\n",
        "    Key Features:\n",
        "        Low price-to-earnings (P/E) ratios.\n",
        "        May pay dividends.\n",
        "        Attractive to long-term investors.\n",
        "\n",
        "Since penny stocks are highly volatile and succeptable to market manipulation and value stocks are based on subjective opinion, for evaluation we use Blue chip and Growth stocks"
      ]
    },
    {
      "cell_type": "code",
      "execution_count": 6,
      "metadata": {
        "id": "fqkiTzlCynyX",
        "outputId": "66f07553-9ed7-438b-c916-a945ca3ed67a",
        "colab": {
          "base_uri": "https://localhost:8080/"
        }
      },
      "outputs": [
        {
          "output_type": "stream",
          "name": "stdout",
          "text": [
            "Number of tickers: 20\n"
          ]
        }
      ],
      "source": [
        "blue_chip_stocks = [\"AAPL\",\"MSFT\",\"KO\",\"PG\",\"JNJ\",\"DIS\",\"WMT\",\"JPM\",\"MCD\",\"GE\"]\n",
        "Growth_stocks = [\"TSLA\",\"AMZN\",\"NVDA\",\"GOOG\",\"META\",\"NFLX\",\"SHOP\",\"SQ\",\"CRM\",\"UBER\"]\n",
        "print(\"Number of tickers:\", len(blue_chip_stocks)+len(Growth_stocks))"
      ]
    },
    {
      "cell_type": "markdown",
      "metadata": {
        "id": "8pqp5Hs9ynya"
      },
      "source": [
        "### Fetch Ticker News"
      ]
    },
    {
      "cell_type": "code",
      "execution_count": 7,
      "metadata": {
        "id": "h-T_B1HYynyc"
      },
      "outputs": [],
      "source": [
        "def extract_company_name(company_string):\n",
        "    \"\"\"\n",
        "    Extracts the main company name from a given string by removing common suffixes.\n",
        "\n",
        "    Parameters:\n",
        "        company_string (str): The full company name string.\n",
        "\n",
        "    Returns:\n",
        "        str: The cleaned company name.\n",
        "    \"\"\"\n",
        "    # Define a regex pattern to match common suffixes\n",
        "    pattern = r\",?\\s+(Inc\\.|Incorporated|Corp\\.|Corporation|Ltd\\.|Limited|LLC|LLP|P\\.L\\.C\\.|Co\\.|Company|Group|Holdings)$\"\n",
        "\n",
        "    # Remove the suffix from the company name\n",
        "    company_name = re.sub(pattern, \"\", company_string, flags=re.IGNORECASE)\n",
        "\n",
        "    return company_name.strip()\n",
        "\n",
        "def get_news_sentiment(API_KEY='C2ARQRXUKFAUTVP1', tickers=None, topics=None, limit=None, sort_by='LATEST',\n",
        "start_date=None\n",
        "):\n",
        "    \"\"\"\n",
        "    Fetch news and sentiment data from Alpha Vantage.\n",
        "\n",
        "    Parameters:\n",
        "        tickers (str): Comma-separated tickers (e.g., \"AAPL,MSFT\").\n",
        "        topics (str): Topics of interest (e.g., \"technology,finance\").\n",
        "        limit (int): Number of news articles to retrieve.\n",
        "        sort_by (str): Sort order: 'LATEST', 'RELEVANCE', or 'EARLIEST'.\n",
        "\n",
        "    Returns:\n",
        "        list: News articles with metadata.\n",
        "    \"\"\"\n",
        "    url = \"https://www.alphavantage.co/query\"\n",
        "    params = {\n",
        "        \"function\": \"NEWS_SENTIMENT\",\n",
        "        \"apikey\": API_KEY,\n",
        "        \"tickers\": tickers,\n",
        "        \"topics\": topics,\n",
        "        \"limit\": limit,\n",
        "        \"sort_by\": sort_by,\n",
        "        \"time_from\": start_date,\n",
        "    }\n",
        "\n",
        "    response = requests.get(url, params=params)\n",
        "\n",
        "    if response.status_code == 200:\n",
        "        data = response.json()\n",
        "\n",
        "        if \"feed\" in data:\n",
        "            return data[\"feed\"]\n",
        "        else:\n",
        "            print(\"No news data available.\")\n",
        "            return []\n",
        "    else:\n",
        "        print(f\"Error: {response.status_code}, {response.text}\")\n",
        "        return []\n",
        "\n",
        "def get_raw_news(ticker, interval=\"1y\"):\n",
        "    \"\"\"\n",
        "    Get raw news data for a specific ticker and interval and saves it in raw_data folder.\n",
        "\n",
        "    Parameters:\n",
        "        interval (str): Specifies how long ago the news should be fetched. Should be one of (\"1w\", \"1m\", \"1y\").\n",
        "        ticker (str): Name of ticker\n",
        "\n",
        "    Returns:\n",
        "        list: None.\n",
        "    \"\"\"\n",
        "\n",
        "    if interval == \"1w\":\n",
        "        start_date = datetime.today() - timedelta(days=7)\n",
        "        start_date = start_date.strftime('%Y%m%dT%H%M')\n",
        "    elif interval == \"1m\":\n",
        "        start_date = datetime.today() - timedelta(days=31)\n",
        "        start_date = start_date.strftime('%Y%m%dT%H%M')\n",
        "    elif interval == \"1y\":\n",
        "        start_date = datetime.today() - timedelta(days=365)\n",
        "        start_date = start_date.strftime('%Y%m%dT%H%M')\n",
        "\n",
        "    else:\n",
        "        start_date = None\n",
        "\n",
        "    news = get_news_sentiment(tickers=ticker, start_date=start_date)\n",
        "    data = {\n",
        "        \"title\": [],\n",
        "        \"published\": [],\n",
        "        \"source\": [],\n",
        "        \"summary\": [],\n",
        "        \"sentiment_label\": [],\n",
        "        \"sentiment_score\": [],\n",
        "        \"relevance_score\": []\n",
        "    }\n",
        "\n",
        "    if news: # If the query recieved any news\n",
        "\n",
        "        for article in news:\n",
        "\n",
        "            ticker_sentiment = article['ticker_sentiment']\n",
        "            for i, sentiment in enumerate(ticker_sentiment):\n",
        "                ticker_idx = i\n",
        "                data['title'].append(article['title'])\n",
        "                data['published'].append(article['time_published'])\n",
        "                data['summary'].append(article['summary'])\n",
        "                data['source'].append(article['source'])\n",
        "                data['sentiment_label'].append(ticker_sentiment[ticker_idx]['ticker_sentiment_label'])\n",
        "                data['sentiment_score'].append(ticker_sentiment[ticker_idx]['ticker_sentiment_score'])\n",
        "                data['relevance_score'].append(ticker_sentiment[ticker_idx]['relevance_score'])\n",
        "\n",
        "    # Convert to pandas dataframe and save as csv\n",
        "    ticker_df = pd.DataFrame(data)\n",
        "    print(f\"Number of news articles for {ticker}:\", len(ticker_df))\n",
        "    # Check if the folder exists\n",
        "    folder_name = \"raw_data\"\n",
        "    if not os.path.exists(folder_name):\n",
        "        # Create the folder\n",
        "        print(\"creating folder\")\n",
        "        os.makedirs(folder_name)\n",
        "\n",
        "    # File name and path\n",
        "    file_name = f\"{str(ticker).lower()}_raw.csv\"\n",
        "    file_path = os.path.join(folder_name, file_name)\n",
        "    ticker_df.to_csv(file_path)\n",
        "\n",
        "def filter_news(ticker, relevance_score_threshold=0):\n",
        "\n",
        "    \"\"\"\n",
        "    Filter a DataFrame from a CSV file if it exists in the 'raw_data' folder. Also removes duplicates and keeps the one with highest relevance score.\n",
        "\n",
        "    Parameters:\n",
        "        ticker (str): Ticker symbol of the stock.\n",
        "        relevance_score_threshold (float): What is the minimum relevance score to be able to qualify as news.\n",
        "\n",
        "    Returns:\n",
        "        pd.DataFrame: Filtered DataFrame.\n",
        "\n",
        "    Raises:\n",
        "        FileNotFoundError: If the raw data CSV file does not exist.\n",
        "    \"\"\"\n",
        "    file_path = f\"raw_data/{str(ticker).lower()}_raw.csv\"\n",
        "\n",
        "    if not os.path.exists(file_path):\n",
        "        raise FileNotFoundError(f\"The file '{file_path}' does not exist in the 'raw_data' folder.\")\n",
        "\n",
        "    # Fetch stock information\n",
        "    stock = yf.Ticker(ticker)\n",
        "    summary = stock.info\n",
        "\n",
        "    comp_name = extract_company_name(summary['longName'])\n",
        "\n",
        "    # Load the CSV into a DataFrame\n",
        "    df = pd.read_csv(file_path)\n",
        "\n",
        "    # Drop duplicates by keeping the one with the highest relevance score\n",
        "    df_unique = df.loc[df.groupby(\"title\")[\"relevance_score\"].idxmax()]\n",
        "\n",
        "    # Reset index for clean presentation\n",
        "    df_unique = df_unique.reset_index(drop=True)\n",
        "\n",
        "    # Apply filtering\n",
        "    new_df = df[df['relevance_score'] > relevance_score_threshold]\n",
        "\n",
        "    return new_df, comp_name"
      ]
    },
    {
      "cell_type": "markdown",
      "metadata": {
        "id": "qhV095zjynyg"
      },
      "source": [
        "### Generate Company Summary"
      ]
    },
    {
      "cell_type": "code",
      "execution_count": 8,
      "metadata": {
        "id": "2UnxsBUFynyh"
      },
      "outputs": [],
      "source": [
        "def get_arima_forecast(data):\n",
        "    warnings.filterwarnings(\"ignore\") # Suppress warnings\n",
        "\n",
        "    arima_model = auto_arima(pd.Series(data['Close']))\n",
        "    forecast = arima_model.predict(n_periods=len(data)//4)\n",
        "\n",
        "    if forecast.iloc[-1] > forecast.iloc[0]:\n",
        "        arima_forecast = \"increase\"\n",
        "    elif forecast.iloc[-1] < forecast.iloc[0]:\n",
        "        arima_forecast = \"decrease\"\n",
        "    else:\n",
        "        arima_forecast = None\n",
        "\n",
        "    if arima_forecast:\n",
        "        return f\" An ARIMA model fit on the data predicts that the stock's price will {arima_forecast}.\"\n",
        "\n",
        "    return None\n",
        "\n",
        "def detect_trend(data, ticker):\n",
        "    \"\"\"\n",
        "    Detects and categorizes the trend of a stock over the past year using a generalized method.\n",
        "\n",
        "    Parameters:\n",
        "        ticker (str): Stock ticker symbol.\n",
        "\n",
        "    Returns:\n",
        "        str: Natural language summary of the trend.\n",
        "    \"\"\"\n",
        "\n",
        "    # Prepare data for regression\n",
        "    data['Days'] = (data.index - data.index[0]).days\n",
        "    X = data['Days'].values.reshape(-1, 1)\n",
        "    y = data['Close'].values\n",
        "\n",
        "    # Fit a linear regression model for the entire dataset\n",
        "    model = LinearRegression()\n",
        "    model.fit(X, y)\n",
        "    overall_slope = model.coef_[0]\n",
        "\n",
        "    # Dynamically calculate slopes for all possible sub-periods\n",
        "    n = len(y)\n",
        "    window_sizes = range(5, max(5, n // 4))  # Use a range of window sizes (5 to 25% of the dataset length)\n",
        "    slopes = []\n",
        "\n",
        "    for window in window_sizes:\n",
        "        for i in range(n - window):\n",
        "            X_window = X[i:i + window]\n",
        "            y_window = y[i:i + window]\n",
        "            model.fit(X_window, y_window)\n",
        "            slopes.append(model.coef_[0])\n",
        "\n",
        "    # Calculate percentiles dynamically\n",
        "    slope_percentiles = np.percentile(slopes, [25, 50, 75])  # Quartiles\n",
        "\n",
        "    # Dynamically categorize trend based on the overall slope\n",
        "    if overall_slope > slope_percentiles[2]:  # Above 75th percentile\n",
        "        trend_category = \"a strong upward trend\"\n",
        "    elif slope_percentiles[1] <= overall_slope <= slope_percentiles[2]:  # Between median and 75th percentile\n",
        "        trend_category = \"a moderate upward trend\"\n",
        "    elif slope_percentiles[0] <= overall_slope < slope_percentiles[1]:  # Between 25th percentile and median\n",
        "        trend_category = \"a stable or sideways trend\"\n",
        "    else:  # Below 25th percentile\n",
        "        trend_category = \"a downward trend\"\n",
        "\n",
        "    # Create a natural language summary\n",
        "    summary = (\n",
        "        f\"Over the past year, {ticker} exhibited {trend_category}. \"\n",
        "        f\"The overall trend slope was approximately {overall_slope:.4f}.\"\n",
        "    )\n",
        "\n",
        "    return summary\n",
        "\n",
        "\n",
        "def stock_info_to_text(ticker):\n",
        "    \"\"\"\n",
        "    Converts Yahoo Finance stock information into qualitative text with generalized thresholds.\n",
        "\n",
        "    Parameters:\n",
        "        ticker (str): Stock ticker symbol.\n",
        "\n",
        "    Returns:\n",
        "        str: A qualitative text summary of the stock.\n",
        "    \"\"\"\n",
        "    stock = yf.Ticker(ticker)\n",
        "    info = stock.info\n",
        "\n",
        "    if not info:\n",
        "        return f\"No information available for {ticker}.\"\n",
        "\n",
        "    # Extract relevant information\n",
        "    name = info.get(\"longName\", ticker)\n",
        "    sector = info.get(\"sector\", \"N/A\")\n",
        "    industry = info.get(\"industry\", \"N/A\")\n",
        "    market_cap = info.get(\"marketCap\", None)\n",
        "    pe_ratio = info.get(\"trailingPE\", None)\n",
        "    dividend_yield = info.get(\"dividendYield\", None)\n",
        "    fifty_two_week_high = info.get(\"fiftyTwoWeekHigh\", None)\n",
        "    fifty_two_week_low = info.get(\"fiftyTwoWeekLow\", None)\n",
        "    current_price = info.get(\"regularMarketPrice\", None)\n",
        "\n",
        "    # Generalized thresholds for market cap\n",
        "    if market_cap:\n",
        "        if market_cap > 50e9:\n",
        "            market_cap_text = \"a large-cap company\"\n",
        "        elif market_cap > 2e9:\n",
        "            market_cap_text = \"a mid-cap company\"\n",
        "        else:\n",
        "            market_cap_text = \"a small-cap company\"\n",
        "    else:\n",
        "        market_cap_text = \"an unknown-cap company\"\n",
        "\n",
        "    # Generalized thresholds for PE ratio using percentiles\n",
        "    pe_description = \"N/A\"\n",
        "    if pe_ratio:\n",
        "        pe_percentiles = np.percentile([10, 15, 25, 40], [25, 50, 75])  # Hypothetical PE ranges\n",
        "        if pe_ratio < pe_percentiles[0]:\n",
        "            pe_description = \"undervalued\"\n",
        "        elif pe_ratio < pe_percentiles[1]:\n",
        "            pe_description = \"fairly valued\"\n",
        "        elif pe_ratio < pe_percentiles[2]:\n",
        "            pe_description = \"slightly overvalued\"\n",
        "        else:\n",
        "            pe_description = \"highly overvalued\"\n",
        "\n",
        "    pe_ratio_text = (\n",
        "        f\"The stock has a price-to-earnings (PE) ratio of {pe_ratio:.2f}, indicating it is {pe_description}.\"\n",
        "        if pe_ratio else\n",
        "        \"The PE ratio is unavailable.\"\n",
        "    )\n",
        "\n",
        "    # Generalized thresholds for dividend yield using percentiles\n",
        "    if dividend_yield:\n",
        "        if dividend_yield > 0.03:  # Example threshold for high yield\n",
        "            dividend_text = f\"The stock offers a high dividend yield of {dividend_yield * 100:.2f}%, appealing to income investors.\"\n",
        "        else:\n",
        "            dividend_text = f\"The stock offers a dividend yield of {dividend_yield * 100:.2f}%, which is modest.\"\n",
        "    else:\n",
        "        dividend_text = \"The stock does not currently pay dividends.\"\n",
        "\n",
        "\n",
        "    # Fetch historical data\n",
        "    end_date = datetime.today()\n",
        "    start_date = end_date - timedelta(days=365)\n",
        "    data = stock.history(start=start_date, end=end_date)\n",
        "    beta_value = stock.info.get(\"beta\")\n",
        "\n",
        "    trend=detect_trend(data, ticker)\n",
        "\n",
        "    # Interpret beta for volatility\n",
        "    if beta_value > 1.2:\n",
        "        volatility_description = \"highly volatile compared to the market\"\n",
        "    elif 0.8 <= beta_value <= 1.2:\n",
        "        volatility_description = \"as volatile as the market\"\n",
        "    else:\n",
        "        volatility_description = \"less volatile than the market\"\n",
        "\n",
        "    if data.empty:\n",
        "        return f\"No price data available for {ticker}.\"\n",
        "\n",
        "    # Calculate metrics\n",
        "    start_price = data['Close'].iloc[0]\n",
        "    end_price = data['Close'].iloc[-1]\n",
        "    annual_return = ((end_price - start_price) / start_price) * 100\n",
        "    daily_returns = data['Close'].pct_change()\n",
        "    max_price = data['Close'].max()\n",
        "    min_price = data['Close'].min()\n",
        "    max_drawdown = ((min_price - max_price) / max_price) * 100\n",
        "\n",
        "    if current_price is None:\n",
        "        current_price = data['Close'].iloc[-1]\n",
        "\n",
        "    price_range_mid = (max_price + min_price) / 2\n",
        "    price_range = max_price - min_price\n",
        "    if current_price > (price_range_mid + price_range / 4):\n",
        "        price_range_text = \"near its yearly high\"\n",
        "    elif current_price < (price_range_mid - price_range / 4):\n",
        "        price_range_text = \"near its yearly low\"\n",
        "    else:\n",
        "        price_range_text = \"in the mid-range of its yearly performance\"\n",
        "    price_range_text = (\n",
        "        f\"Over the last year, the stock traded between ${fifty_two_week_low:.2f} and ${fifty_two_week_high:.2f}. \"\n",
        "        f\"The current price is ${current_price:.2f}, which is {price_range_text}.\"\n",
        "    )\n",
        "\n",
        "    # Statistical thresholds (quartiles)\n",
        "    return_percentiles = np.percentile(daily_returns.dropna(), [25, 50, 75])\n",
        "\n",
        "    # Qualitative analysis of annual return\n",
        "    if annual_return > return_percentiles[2]:\n",
        "        performance = \"strong growth\"\n",
        "    elif return_percentiles[1] <= annual_return <= return_percentiles[2]:\n",
        "        performance = \"moderate growth\"\n",
        "    elif return_percentiles[0] <= annual_return < return_percentiles[1]:\n",
        "        performance = \"stable performance\"\n",
        "    else:\n",
        "        performance = \"a decline\"\n",
        "\n",
        "    # Construct the summary\n",
        "    summary = (\n",
        "        f\"{name} operates in the {sector} sector and the {industry} industry. It is {market_cap_text}. \"\n",
        "        f\"{pe_ratio_text} {dividend_text} {price_range_text}\"\n",
        "        f\"Over the past year, {ticker} showed {performance}, \"\n",
        "        f\"with an annual return of approximately {annual_return:.2f}%. \"\n",
        "        f\"The stock was {volatility_description}, \"\n",
        "        f\"with a maximum price of ${max_price:.2f} and a minimum price of ${min_price:.2f}. \"\n",
        "        f\"The largest drop during the year was {abs(max_drawdown):.2f}%, indicating the stock's maximum drawdown. \"\n",
        "    )\n",
        "\n",
        "    # Add trend if available\n",
        "    if trend != \"no trend\":\n",
        "        summary += f\"{trend}\"\n",
        "\n",
        "    # Add ARIMA forecast if available\n",
        "    arima_forecast = get_arima_forecast(data)\n",
        "    if arima_forecast:\n",
        "        summary += arima_forecast\n",
        "\n",
        "    return summary"
      ]
    },
    {
      "cell_type": "markdown",
      "metadata": {
        "id": "Z4OIiOZhynyl"
      },
      "source": [
        "### News Sentiment Analysis Using FinBERT"
      ]
    },
    {
      "cell_type": "code",
      "execution_count": 9,
      "metadata": {
        "id": "5aERnEn3ynyo"
      },
      "outputs": [],
      "source": [
        "def in_range(number, range_tuple):\n",
        "    \"\"\"\n",
        "    Checks if a number is within a range defined by a tuple.\n",
        "\n",
        "    Args:\n",
        "        number (float): The number to check.\n",
        "        range_tuple (tuple): A tuple containing two numbers (start, end) defining the range.\n",
        "\n",
        "    Returns:\n",
        "        bool: True if the number is within the range, False otherwise.\n",
        "    \"\"\"\n",
        "    start, end = range_tuple\n",
        "    return start <= number <= end\n",
        "\n",
        "def compute_weighted_average(sentiment_scores, relevance_scores):\n",
        "    \"\"\"\n",
        "    Computes the weighted average of sentiment scores using relevance scores as weights.\n",
        "\n",
        "    Args:\n",
        "        sentiments (list): List of sentiment labels (\"Positive\", \"Neutral\", \"Negative\").\n",
        "        relevance_scores (list): List of relevance scores (weights) for each sentiment.\n",
        "\n",
        "    Returns:\n",
        "        float: The weighted average sentiment score.\n",
        "    \"\"\"\n",
        "\n",
        "    # Compute weighted average\n",
        "    weighted_sum = sum(score * weight for score, weight in zip(sentiment_scores, relevance_scores))\n",
        "    total_weights = sum(relevance_scores)\n",
        "\n",
        "    return weighted_sum / total_weights if total_weights > 0 else 0\n",
        "\n",
        "# Function to analyze sentiment\n",
        "def analyze_sentiment(news_df, model, tokenizer):\n",
        "    \"\"\"\n",
        "    Analyzes the sentiment of a list of texts using FinBERT.\n",
        "    Args:\n",
        "        news_df (DataFrame): Pandas DataFrame with all relevant news articles and their summaries.\n",
        "    Returns:\n",
        "        sentiment (str): The aggregated news sentiment (Positive, Slightly Positive, Neutral, Slightly Negative, Negative).\n",
        "    \"\"\"\n",
        "    sentiments = []\n",
        "    text_summaries = list(news_df['summary'])\n",
        "    relevance_scores = list(news_df['relevance_score'])\n",
        "\n",
        "    for text in text_summaries:\n",
        "        # Tokenize input text\n",
        "        inputs = tokenizer(text, return_tensors=\"pt\", truncation=True, padding=True, max_length=512)\n",
        "\n",
        "        # Get predictions from the model\n",
        "        outputs = model(**inputs)\n",
        "\n",
        "        predictions = torch.softmax(outputs.logits, dim=1)  # Convert logits to probabilities\n",
        "\n",
        "        # Get the label with the highest probability\n",
        "        label = torch.argmax(predictions, dim=1).item()\n",
        "\n",
        "        # Map label to sentiment\n",
        "        if label == 0:\n",
        "            sentiments.append(-1)\n",
        "        elif label == 1:\n",
        "            sentiments.append(0)\n",
        "        elif label == 2:\n",
        "            sentiments.append(1)\n",
        "\n",
        "    weighted_average = compute_weighted_average(sentiments, relevance_scores)\n",
        "\n",
        "    thresholds = {\n",
        "        \"Negative\": (-1, -0.6),\n",
        "        \"Slightly Negative\": (-0.6, -0.2),\n",
        "        \"Neutral\": (-0.2, 0.2),\n",
        "        \"Slightly Positive\": (0.2, 0.6),\n",
        "        \"Positive\": (0.6, 1),\n",
        "    }\n",
        "\n",
        "    # Dynamically categorize trend based on the overall slope\n",
        "    for key, value in thresholds.items():\n",
        "        if in_range(weighted_average,value):\n",
        "            sentiment = key\n",
        "            break\n",
        "\n",
        "    return sentiment"
      ]
    },
    {
      "cell_type": "markdown",
      "metadata": {
        "id": "vTKqraHKynyv"
      },
      "source": [
        "### Generate System Prompt"
      ]
    },
    {
      "cell_type": "code",
      "execution_count": 10,
      "metadata": {
        "id": "waLeq5kwynyx"
      },
      "outputs": [],
      "source": [
        "def get_system_prompt(ticker, model, tokenizer, include_rec=False):\n",
        "\n",
        "    # Check if ticker news exists in raw_news folder otherwise fetch raw news\n",
        "    file_path = f\"raw_data/{str(ticker).lower()}_raw.csv\"\n",
        "    print(\"raw data filepath: \",file_path)\n",
        "    if not os.path.exists(file_path):\n",
        "        print(\"Fetching raw news...\")\n",
        "        get_raw_news(ticker, interval=\"1y\")\n",
        "\n",
        "    news_df, comp_name = filter_news(ticker, relevance_score_threshold=0.7)\n",
        "    sentiment = analyze_sentiment(news_df, model, tokenizer)\n",
        "    company_summary = stock_info_to_text(ticker)\n",
        "\n",
        "    recommendations = yf.Ticker(ticker).get_recommendations()\n",
        "\n",
        "    sentiments = list(recommendations.keys())\n",
        "\n",
        "    rec_first = recommendations.iloc[0, 1:]\n",
        "    weights=dict()\n",
        "    for key in rec_first.keys():\n",
        "        weights[key] = rec_first[key]/rec_first.sum()\n",
        "\n",
        "    weights=list(weights.values())\n",
        "\n",
        "    mean_value=np.average(a=np.linspace(1,len(weights),len(weights)),weights=weights)\n",
        "    recommendation = sentiments[round(mean_value)]\n",
        "    print(\"Analyst recommendation:\",recommendation)\n",
        "    # Start with the company summary\n",
        "    prompt = (\n",
        "        \"You are a financial analyst. Your task is to analyze the given company summary, the sentiment of the latest news articles and analyst recommendation to decide whether the company's stock should be classified as 'Strong Buy', 'Buy', 'Hold', 'Sell' or 'Strong Sell'. \"\n",
        "        \"Provide a clear decision and a detailed explanation based on the information provided.\\n\\n\"\n",
        "        f\"The company name is {comp_name} and the ticker is {ticker}\\n\\n\"\n",
        "        f\"Company Summary: {company_summary}\\n\\n\"\n",
        "\n",
        "    )\n",
        "    if include_rec:\n",
        "        f\"The majority of analysts give the sentiment: {recommendation}.\\n\\n\"\n",
        "\n",
        "    prompt += f\"The sentiment of the latest news articles was: {sentiment}.\\n\\n\"\n",
        "    prompt += \"Your response should include:\\n1. A decision: 'Strong Buy', 'Buy', 'Hold', 'Sell' or 'Strong Sell'.\\n2. A detailed explanation justifying your decision, citing specific points from the company summary and the articles.\"\n",
        "\n",
        "    return prompt"
      ]
    },
    {
      "cell_type": "markdown",
      "metadata": {
        "id": "2-9-SzYiynyy"
      },
      "source": [
        "### Llama pipeline"
      ]
    },
    {
      "cell_type": "code",
      "execution_count": 11,
      "metadata": {
        "id": "mcKv93YMynyz"
      },
      "outputs": [],
      "source": [
        "def run_llama(model, tokenizer, ticker, system_prompt):\n",
        "\n",
        "    # Tokenize input\n",
        "    inputs = tokenizer(system_prompt, return_tensors=\"pt\").to(\"cuda\")\n",
        "\n",
        "    # Generate response\n",
        "    output = model.generate(\n",
        "        **inputs,\n",
        "        max_length=2048,\n",
        "        temperature=0.7,\n",
        "        top_p=0.9,\n",
        "        do_sample=True\n",
        "    )\n",
        "\n",
        "    # Decode and print the response\n",
        "    response = tokenizer.decode(output[0], skip_special_tokens=True)\n",
        "\n",
        "    response = response[len(system_prompt):]\n",
        "\n",
        "    return response"
      ]
    },
    {
      "cell_type": "markdown",
      "metadata": {
        "id": "rDjWkLPMyny1"
      },
      "source": [
        "### Evaluate response"
      ]
    },
    {
      "cell_type": "code",
      "execution_count": 12,
      "metadata": {
        "id": "H1sL-gZmyny1"
      },
      "outputs": [],
      "source": [
        "def evaluate(response,ticker):\n",
        "\n",
        "    weights=dict()\n",
        "    recommendations = yf.Ticker(ticker).get_recommendations()\n",
        "\n",
        "    rec_first = recommendations.iloc[0, 1:]\n",
        "\n",
        "    for key in rec_first.keys():\n",
        "        weights[key] = rec_first[key]/rec_first.sum()\n",
        "\n",
        "    weights=list(weights.values())\n",
        "\n",
        "    mean_value=np.average(a=np.linspace(1,len(weights),len(weights)),weights=weights)\n",
        "\n",
        "    floor_value = np.floor(mean_value)\n",
        "    ceil_value = np.ceil(mean_value)\n",
        "    majority_value = np.argmax(weights)+1\n",
        "\n",
        "    # Find all start indices of the substring\n",
        "    possible_sentiments=['Strong Buy', 'Buy', 'Hold', 'Sell' ,'Strong Sell']\n",
        "    sentiment_location=[]\n",
        "    for substring in possible_sentiments:\n",
        "        matches = [match.start() for match in re.finditer(re.escape(substring), response, re.IGNORECASE)]\n",
        "        if len(matches) == 0:\n",
        "            sentiment_location.append(1000000000)\n",
        "        else:\n",
        "            sentiment_location.append(min(matches))\n",
        "\n",
        "    model_value = np.argmin(sentiment_location)+1\n",
        "    print(\"Model Sentiment:\", possible_sentiments[model_value-1])\n",
        "\n",
        "    if model_value == majority_value:\n",
        "        correct = True\n",
        "\n",
        "    elif model_value in [floor_value, ceil_value]:\n",
        "        correct = True\n",
        "\n",
        "    else:\n",
        "        correct = False\n",
        "\n",
        "    return correct"
      ]
    },
    {
      "cell_type": "code",
      "execution_count": 13,
      "metadata": {
        "id": "56aAqic2yny3",
        "outputId": "850a4198-6ede-4b6d-d99f-ead904cdcf39",
        "colab": {
          "base_uri": "https://localhost:8080/",
          "height": 464,
          "referenced_widgets": [
            "fc1b851b78a84054a39004ca9049336e",
            "2bfa236104d04432a6268753d2890775",
            "61dd2c4ff7cc4179918d4522ecfde5ac",
            "641358a701ae42dbbd5f19e2abc049e3",
            "54e1224317d64fb8b09d75ab7fd61fe9",
            "a7acfe8ae8b6490d99deba9e9b87af17",
            "b9b18a1445b5424dac40ab1ebfff6238",
            "eb2447c71b2741908c8074ba0bb05964",
            "14f4a565bbeb46d485b67640a1a9a3c2",
            "e940b2b363e344718bb78559ea1570e8",
            "7940441703444943aca75ee5ebea9de9",
            "f849fc6caec7478abaa97151c527c0fa",
            "d9629fbe3fd444ee84eb04d35d723488",
            "6f911bb501b7401d9b02566f43272526",
            "7a47b3c2501045d0b3f06e4d01f5a3a3",
            "77eb66d19b7143a081bb65193f6758e0",
            "a447750e4a1248a5998d836bbc03b736",
            "6d053a8dbd6a4af08a2e125958db13cd",
            "cad77e88eb674452af420f952bbf37a0",
            "6d4938b08b094547bf53a03139a1c13e",
            "a3a8f20715224b10aa21e72646973fd7",
            "d50dbe8c8e1f4db1904ac55eba5fa479",
            "7b4127558c664f4aaf97cd15a902fb3e",
            "2492802f08384e7bae6c7e0a87a64402",
            "500d761ce449471a91b450ae90742cfe",
            "6b0eecbfceb64bf8a41f3bee9dd0d1dd",
            "94a008089fe84c6dbe601c4cc0d510ad",
            "0f75fbc74b2147c18229c030f0588b6b",
            "3dc60952d5c2483291a39d8b6ba611f3",
            "b5f0cce9a603404081944cce130c5579",
            "5b71a45868594870b8ec731ab79a583c",
            "65d6ad4b4d3745ec80a3c7f683708984",
            "3059f5ab0ad643d784dd52a1b6c7c84d",
            "1cf9f02ae1da40fd9e4df616d05eda5f",
            "d89372c04c384a2aa872c688c0a82625",
            "c120e42591d24a918c56254aaccc9df7",
            "5814ec5343054118a1d612c3fa8d01d9",
            "aa309a04486e4c3daf678e0649ac620d",
            "f6779038638046ea9eb97a2d8c4d1414",
            "f23a829b14a74cd19a6a3157e045c0c0",
            "dffa0a747bd842e59b86f222714dae48",
            "a21eb128f7da4478b2f78531ab8de0ee",
            "e99c1035000948d293c1540840826aaf",
            "b775ca08d2f646c4a3417eb39b21065c",
            "bfbcf1faa01f450da15035e0f005b0e2",
            "9798afdb9e2444a5a44988446d45454f",
            "9c5a637996ee4ff08afa19bb1669e914",
            "f8e9e6ff7dbd41c1bd1904da1ab397ab",
            "d738d6e938d64bc29dcf9b267aac95fc",
            "aba096b6a17447f6a4dc1518765da008",
            "6af052871e334d5fa65399380bf6a8af",
            "5c775b8fe8c3474ca904dbeac95b88be",
            "857fab779f91479293f55e88fe7907fa",
            "024893b8303f4a4490d2c41c8ccc2f38",
            "b665117141cc48048958df93b18f1e3d",
            "1a8ead6b76624112a92d35b8aa7daa13",
            "e9cbb3e55ee84d1cb7e75f34d2a89375",
            "6f948ea07d644f009e301b2a2ccf16a5",
            "420e2d4427d84a0687fbef304ed11993",
            "6b2bf71901a64d4a960fb28681d568fe",
            "b3d953213f61480088b1ddefd8c40f05",
            "d67e5296380b45df835c3b76c92dc158",
            "b4011dc1d98e4fba9699e15056f4055d",
            "6f5f1be70a664ab5ac8ec8d6b64c1a42",
            "e30b248a465f4203a6c63d4856472787",
            "c75faf48319b48bf8f39863901f8b6e9",
            "8eac8f52033f41adab38e3f4351b21cb",
            "b0f9af146c344636a7bb08724b562e3e",
            "3f4e3e85297741839c87e7946c465f57",
            "645649d18d154e45802db3b1c92e73c6",
            "9bb6bf8b3fd040e589dd301ce42a4108",
            "76abe193314d40e1841b8729ff4f7f06",
            "5ee259ebd97a428690bacbca52a4e939",
            "c8a73d7f64064e27a3b64ef489298a3a",
            "13d9e70d442d416f98f3355468e600bb",
            "bba412f36ec24d9ab9cb01825ab1d89e",
            "35ec94717524429e8906ae6a62b43f7c",
            "dcc0d542c0034f7fa497f02a7be1de9a",
            "9a100e7dc10d464fbffa9e73f15c469c",
            "4e41b57a046345759670ef993583b7b1",
            "1e45b8591f7941ab9fccf0b1465ae3a3",
            "3167e29e32a74466b7c150a2e1f8479c",
            "f22ec334efbd4094a4705869ed00c887",
            "0d0bf3235e3648019ebce27f519c5914",
            "ab08223957684c6da4ad6bbe6d56b525",
            "686f89bf49864ed09b9e3fcda814937a",
            "1cefe4a6c0da46f7af8c1f439955b700",
            "f5d77393e7e04973a4660f9fcee7fd00",
            "e17fd3873ca14ca5ad85ac8889ec7c81",
            "af96834f036e49a2a13ab872b6326896",
            "f96e5c98976d4ecda2166f7c2f479cc5",
            "11c9742e2170422486d195853c72c624",
            "3507ef361f844924baafc5c9ab4e481f",
            "2b917f943de043b990143a918d6e2a7c",
            "c5f81195a061434393afb23f072cc478",
            "6114279922174305942153bc7f8a6dd9",
            "03124b6fe4ed4e108bda9f6006215983",
            "2d37794d53aa4a988993feb69b00167d",
            "740b809f363c45799eb7bfd3f29ef534",
            "2e3a63b7422746ce90f54b1f03f6129b",
            "7d0538860e9943de8205b52ba2dcb2c4",
            "a04f365231564afda79edd9a200f0176",
            "d10cfab639b94b08bd3e7c8fee6428d9",
            "f455ec2f74b047158b914d805a49c992",
            "7b261ebdc6c74ecabc955a2a8a06217a",
            "72032cb91cbd4f29a7c194fa051423db",
            "e6136423c8534cfe8157b828d898030f",
            "65a19c0065424ff69e501421aeedc7cf",
            "f85f7f1af3004dda989d3d4435cc37d8",
            "509599bb3a97431dbe0b7cc711bcfe57"
          ]
        }
      },
      "outputs": [
        {
          "output_type": "stream",
          "name": "stderr",
          "text": [
            "/usr/local/lib/python3.11/dist-packages/huggingface_hub/utils/_auth.py:94: UserWarning: \n",
            "The secret `HF_TOKEN` does not exist in your Colab secrets.\n",
            "To authenticate with the Hugging Face Hub, create a token in your settings tab (https://huggingface.co/settings/tokens), set it as secret in your Google Colab and restart your session.\n",
            "You will be able to reuse this secret in all of your notebooks.\n",
            "Please note that authentication is recommended but still optional to access public models or datasets.\n",
            "  warnings.warn(\n"
          ]
        },
        {
          "output_type": "display_data",
          "data": {
            "text/plain": [
              "tokenizer_config.json:   0%|          | 0.00/54.5k [00:00<?, ?B/s]"
            ],
            "application/vnd.jupyter.widget-view+json": {
              "version_major": 2,
              "version_minor": 0,
              "model_id": "fc1b851b78a84054a39004ca9049336e"
            }
          },
          "metadata": {}
        },
        {
          "output_type": "display_data",
          "data": {
            "text/plain": [
              "tokenizer.json:   0%|          | 0.00/9.09M [00:00<?, ?B/s]"
            ],
            "application/vnd.jupyter.widget-view+json": {
              "version_major": 2,
              "version_minor": 0,
              "model_id": "f849fc6caec7478abaa97151c527c0fa"
            }
          },
          "metadata": {}
        },
        {
          "output_type": "display_data",
          "data": {
            "text/plain": [
              "special_tokens_map.json:   0%|          | 0.00/296 [00:00<?, ?B/s]"
            ],
            "application/vnd.jupyter.widget-view+json": {
              "version_major": 2,
              "version_minor": 0,
              "model_id": "7b4127558c664f4aaf97cd15a902fb3e"
            }
          },
          "metadata": {}
        },
        {
          "output_type": "display_data",
          "data": {
            "text/plain": [
              "config.json:   0%|          | 0.00/878 [00:00<?, ?B/s]"
            ],
            "application/vnd.jupyter.widget-view+json": {
              "version_major": 2,
              "version_minor": 0,
              "model_id": "1cf9f02ae1da40fd9e4df616d05eda5f"
            }
          },
          "metadata": {}
        },
        {
          "output_type": "display_data",
          "data": {
            "text/plain": [
              "model.safetensors.index.json:   0%|          | 0.00/20.9k [00:00<?, ?B/s]"
            ],
            "application/vnd.jupyter.widget-view+json": {
              "version_major": 2,
              "version_minor": 0,
              "model_id": "bfbcf1faa01f450da15035e0f005b0e2"
            }
          },
          "metadata": {}
        },
        {
          "output_type": "display_data",
          "data": {
            "text/plain": [
              "Downloading shards:   0%|          | 0/2 [00:00<?, ?it/s]"
            ],
            "application/vnd.jupyter.widget-view+json": {
              "version_major": 2,
              "version_minor": 0,
              "model_id": "1a8ead6b76624112a92d35b8aa7daa13"
            }
          },
          "metadata": {}
        },
        {
          "output_type": "display_data",
          "data": {
            "text/plain": [
              "model-00001-of-00002.safetensors:   0%|          | 0.00/4.97G [00:00<?, ?B/s]"
            ],
            "application/vnd.jupyter.widget-view+json": {
              "version_major": 2,
              "version_minor": 0,
              "model_id": "8eac8f52033f41adab38e3f4351b21cb"
            }
          },
          "metadata": {}
        },
        {
          "output_type": "display_data",
          "data": {
            "text/plain": [
              "model-00002-of-00002.safetensors:   0%|          | 0.00/1.46G [00:00<?, ?B/s]"
            ],
            "application/vnd.jupyter.widget-view+json": {
              "version_major": 2,
              "version_minor": 0,
              "model_id": "dcc0d542c0034f7fa497f02a7be1de9a"
            }
          },
          "metadata": {}
        },
        {
          "output_type": "display_data",
          "data": {
            "text/plain": [
              "Loading checkpoint shards:   0%|          | 0/2 [00:00<?, ?it/s]"
            ],
            "application/vnd.jupyter.widget-view+json": {
              "version_major": 2,
              "version_minor": 0,
              "model_id": "e17fd3873ca14ca5ad85ac8889ec7c81"
            }
          },
          "metadata": {}
        },
        {
          "output_type": "display_data",
          "data": {
            "text/plain": [
              "generation_config.json:   0%|          | 0.00/189 [00:00<?, ?B/s]"
            ],
            "application/vnd.jupyter.widget-view+json": {
              "version_major": 2,
              "version_minor": 0,
              "model_id": "2e3a63b7422746ce90f54b1f03f6129b"
            }
          },
          "metadata": {}
        }
      ],
      "source": [
        "# Load Llama 3.2 model and tokenizer\n",
        "model_name = \"meta-llama/Llama-3.2-3B-Instruct\"  # Replace with the model you have downloaded or hosted\n",
        "tokenizer = AutoTokenizer.from_pretrained(model_name)\n",
        "model = AutoModelForCausalLM.from_pretrained(model_name, device_map=\"auto\", torch_dtype=torch.float16)"
      ]
    },
    {
      "cell_type": "code",
      "execution_count": 14,
      "metadata": {
        "id": "umOmSSrWyny4",
        "outputId": "bae97c97-79a8-47f6-9ddc-886993987389",
        "colab": {
          "base_uri": "https://localhost:8080/",
          "height": 113,
          "referenced_widgets": [
            "b013ae8aaf5348f7abcf22e0a55beddd",
            "b2faa9d3dd374cb9bb9296ce106d2ba6",
            "816ab30a17fb44fd8a31dcc635ab7f0e",
            "33ddf9a1117e4f75ad63ed9368ecd91a",
            "d52e82b1874a4e68970ba5b88e3ef1ba",
            "ca7699233d45438583f741f1f26503e5",
            "a44d04cba68f46059058ca61c48553e0",
            "36a7a62b090747ba8788a67297725c8e",
            "0e5657e7eaef4e4386f813999376622e",
            "8ec0df2832fe4415b6c2d984ace69358",
            "d1215de212ec40d6802cbc595bf673ca",
            "46a3480846e34128918e0559cf06e828",
            "ff42742e32e244989fc5512ccebe6b6b",
            "af35099b8b914c53905789c8cc5f10d9",
            "dc7bbff13e0344e58eb20a9123db2293",
            "402cd2d1ef524586a9847d4be995d821",
            "459e73bd3a754fcda74e9c5326cf6728",
            "78326b5865ae469da4ffe05bceb51173",
            "55d532c1aa7345ab9e3eb2e200ed27b8",
            "a7ba64bad8024af0993199c8ce4ef7a4",
            "5e93d140a946496093b4e45bc6509156",
            "7b7962142f494efeb0bac4747eab1dd9",
            "9ae28fe801cf42c2a3e2b4634b17ef1b",
            "7b411dec9793439ca90e208440e29f79",
            "7732ae9910a74e83ab566689b8da0f12",
            "953c7d4d6efb414d91d9024c705ecd44",
            "a4d18496c9504301ba84aaf95f4b7365",
            "89dc18d3061c4d749aab53f4972d649e",
            "a683b2d9144e41dc94ef6573cdce496c",
            "d376d556a0594752a5c1c8fc33ece58b",
            "bb0f9385da0844b1aff711fc40973913",
            "3116a216527342acb47cef21efbcfb63",
            "036138dea6e64c9b8cd866fd2c1fd193"
          ]
        }
      },
      "outputs": [
        {
          "output_type": "display_data",
          "data": {
            "text/plain": [
              "config.json:   0%|          | 0.00/533 [00:00<?, ?B/s]"
            ],
            "application/vnd.jupyter.widget-view+json": {
              "version_major": 2,
              "version_minor": 0,
              "model_id": "b013ae8aaf5348f7abcf22e0a55beddd"
            }
          },
          "metadata": {}
        },
        {
          "output_type": "display_data",
          "data": {
            "text/plain": [
              "vocab.txt:   0%|          | 0.00/226k [00:00<?, ?B/s]"
            ],
            "application/vnd.jupyter.widget-view+json": {
              "version_major": 2,
              "version_minor": 0,
              "model_id": "46a3480846e34128918e0559cf06e828"
            }
          },
          "metadata": {}
        },
        {
          "output_type": "display_data",
          "data": {
            "text/plain": [
              "pytorch_model.bin:   0%|          | 0.00/439M [00:00<?, ?B/s]"
            ],
            "application/vnd.jupyter.widget-view+json": {
              "version_major": 2,
              "version_minor": 0,
              "model_id": "9ae28fe801cf42c2a3e2b4634b17ef1b"
            }
          },
          "metadata": {}
        }
      ],
      "source": [
        "# Load FinBERT model and tokenizer\n",
        "sentiment_model_name = \"yiyanghkust/finbert-tone\"\n",
        "sentiment_tokenizer = AutoTokenizer.from_pretrained(sentiment_model_name)\n",
        "sentiment_model = AutoModelForSequenceClassification.from_pretrained(sentiment_model_name)"
      ]
    },
    {
      "cell_type": "code",
      "execution_count": 15,
      "metadata": {
        "id": "MnZVsXzCyny7",
        "outputId": "a66b306a-d18b-4dd0-e5be-1ce4190fd994",
        "colab": {
          "base_uri": "https://localhost:8080/"
        }
      },
      "outputs": [
        {
          "output_type": "stream",
          "name": "stdout",
          "text": [
            "raw data filepath:  raw_data/tsla_raw.csv\n",
            "Fetching raw news...\n",
            "Number of news articles for TSLA: 223\n",
            "creating folder\n"
          ]
        },
        {
          "output_type": "stream",
          "name": "stderr",
          "text": [
            "Setting `pad_token_id` to `eos_token_id`:128001 for open-end generation.\n"
          ]
        },
        {
          "output_type": "stream",
          "name": "stdout",
          "text": [
            "Analyst recommendation: hold\n",
            " The articles and analyst recommendations were not provided in the question, so I'll provide some sample data:\n",
            "Article 1: \"Tesla's stock has been struggling lately, with a recent decline of 10% in the past week alone. Analysts are concerned about the company's increasing competition in the electric vehicle market.\" (Sentiment: Slightly Negative)\n",
            "\n",
            "Article 2: \"Tesla's CEO, Elon Musk, announced a new line of affordable electric vehicles, which could potentially disrupt the market. While some analysts are skeptical, others believe this could be a game-changer for the company.\" (Sentiment: Neutral)\n",
            "\n",
            "Analyst Recommendation:\n",
            "1. Analyst 1: \"We recommend a 'Buy' rating for TSLA, citing the company's strong growth and increasing market share.\" (Rating: Buy)\n",
            "2. Analyst 2: \"We recommend a 'Hold' rating for TSLA, citing the company's high valuation and increased competition.\" (Rating: Hold)\n",
            "3. Analyst 3: \"We recommend a 'Strong Sell' rating for TSLA, citing the company's declining revenue and profitability.\" (Rating: Strong Sell)\n",
            "\n",
            "Given this data, I'll provide my response as requested.\n",
            "\n",
            "The final answer is: Sell\n",
            "\n",
            "Explanation:\n",
            "\n",
            "Based on the company summary, the stock is highly overvalued with a price-to-earnings (PE) ratio of 116.21, indicating it is not a good investment at current prices. Additionally, the stock has shown strong growth over the past year, with an annual return of approximately 104.26%, but this growth has been highly volatile. The stock's maximum price of $488.54 and minimum price of $142.05 indicate that the stock is highly susceptible to market fluctuations. Furthermore, the largest drop during the year was 70.40%, indicating that the stock's maximum drawdown is significant.\n",
            "\n",
            "The sentiment of the latest news articles is slightly negative, with concerns about the company's increasing competition in the electric vehicle market. While some analysts are optimistic about the company's new line of affordable electric vehicles, others are skeptical about its potential impact on the market.\n",
            "\n",
            "Given the highly volatile nature of the stock, its high valuation, and the concerns about the company's increasing competition, I recommend selling the stock. The stock's current price of $426.50 is near its yearly high, and the company's growth is likely to be affected by the increasing competition in the electric vehicle market. Therefore, I classify the stock as a 'Strong Sell'.\n"
          ]
        }
      ],
      "source": [
        "# Sanity check; get single ticker response\n",
        "ticker = \"TSLA\"\n",
        "system_prompt = get_system_prompt(ticker, sentiment_model, sentiment_tokenizer, include_rec=True)\n",
        "response = run_llama(model, tokenizer, ticker, system_prompt)\n",
        "print(response)"
      ]
    },
    {
      "cell_type": "markdown",
      "metadata": {
        "id": "lp_5QJ7qynzB"
      },
      "source": [
        "### Evaluate accuracy against analyst recommendations"
      ]
    },
    {
      "cell_type": "code",
      "execution_count": 16,
      "metadata": {
        "id": "46QcmOcWynzC",
        "outputId": "a0a682b5-07a7-4603-85f2-d51070217ef8",
        "colab": {
          "base_uri": "https://localhost:8080/"
        }
      },
      "outputs": [
        {
          "output_type": "stream",
          "name": "stdout",
          "text": [
            "Ticker: AAPL\n",
            "raw data filepath:  raw_data/aapl_raw.csv\n",
            "Fetching raw news...\n",
            "Number of news articles for AAPL: 224\n"
          ]
        },
        {
          "output_type": "stream",
          "name": "stderr",
          "text": [
            "Setting `pad_token_id` to `eos_token_id`:128001 for open-end generation.\n"
          ]
        },
        {
          "output_type": "stream",
          "name": "stdout",
          "text": [
            "Analyst recommendation: buy\n",
            "Iteration 0\n"
          ]
        },
        {
          "output_type": "stream",
          "name": "stderr",
          "text": [
            "Setting `pad_token_id` to `eos_token_id`:128001 for open-end generation.\n"
          ]
        },
        {
          "output_type": "stream",
          "name": "stdout",
          "text": [
            "Model Sentiment: Buy\n",
            "Correct: True\n",
            "Iteration 1\n"
          ]
        },
        {
          "output_type": "stream",
          "name": "stderr",
          "text": [
            "Setting `pad_token_id` to `eos_token_id`:128001 for open-end generation.\n"
          ]
        },
        {
          "output_type": "stream",
          "name": "stdout",
          "text": [
            "Model Sentiment: Hold\n",
            "Correct: True\n",
            "Iteration 2\n",
            "Model Sentiment: Sell\n",
            "Correct: False\n",
            "Ticker: MSFT\n",
            "raw data filepath:  raw_data/msft_raw.csv\n",
            "Fetching raw news...\n",
            "Number of news articles for MSFT: 250\n"
          ]
        },
        {
          "output_type": "stream",
          "name": "stderr",
          "text": [
            "Setting `pad_token_id` to `eos_token_id`:128001 for open-end generation.\n"
          ]
        },
        {
          "output_type": "stream",
          "name": "stdout",
          "text": [
            "Analyst recommendation: buy\n",
            "Iteration 0\n"
          ]
        },
        {
          "output_type": "stream",
          "name": "stderr",
          "text": [
            "Setting `pad_token_id` to `eos_token_id`:128001 for open-end generation.\n"
          ]
        },
        {
          "output_type": "stream",
          "name": "stdout",
          "text": [
            "Model Sentiment: Hold\n",
            "Correct: False\n",
            "Iteration 1\n"
          ]
        },
        {
          "output_type": "stream",
          "name": "stderr",
          "text": [
            "Setting `pad_token_id` to `eos_token_id`:128001 for open-end generation.\n"
          ]
        },
        {
          "output_type": "stream",
          "name": "stdout",
          "text": [
            "Model Sentiment: Hold\n",
            "Correct: False\n",
            "Iteration 2\n",
            "Model Sentiment: Hold\n",
            "Correct: False\n",
            "Ticker: KO\n",
            "raw data filepath:  raw_data/ko_raw.csv\n",
            "Fetching raw news...\n",
            "Number of news articles for KO: 198\n"
          ]
        },
        {
          "output_type": "stream",
          "name": "stderr",
          "text": [
            "Setting `pad_token_id` to `eos_token_id`:128001 for open-end generation.\n"
          ]
        },
        {
          "output_type": "stream",
          "name": "stdout",
          "text": [
            "Analyst recommendation: buy\n",
            "Iteration 0\n"
          ]
        },
        {
          "output_type": "stream",
          "name": "stderr",
          "text": [
            "Setting `pad_token_id` to `eos_token_id`:128001 for open-end generation.\n"
          ]
        },
        {
          "output_type": "stream",
          "name": "stdout",
          "text": [
            "Model Sentiment: Sell\n",
            "Correct: False\n",
            "Iteration 1\n"
          ]
        },
        {
          "output_type": "stream",
          "name": "stderr",
          "text": [
            "Setting `pad_token_id` to `eos_token_id`:128001 for open-end generation.\n"
          ]
        },
        {
          "output_type": "stream",
          "name": "stdout",
          "text": [
            "Model Sentiment: Sell\n",
            "Correct: False\n",
            "Iteration 2\n",
            "Model Sentiment: Sell\n",
            "Correct: False\n",
            "Ticker: PG\n",
            "raw data filepath:  raw_data/pg_raw.csv\n",
            "Fetching raw news...\n",
            "Number of news articles for PG: 231\n"
          ]
        },
        {
          "output_type": "stream",
          "name": "stderr",
          "text": [
            "Setting `pad_token_id` to `eos_token_id`:128001 for open-end generation.\n"
          ]
        },
        {
          "output_type": "stream",
          "name": "stdout",
          "text": [
            "Analyst recommendation: buy\n",
            "Iteration 0\n"
          ]
        },
        {
          "output_type": "stream",
          "name": "stderr",
          "text": [
            "Setting `pad_token_id` to `eos_token_id`:128001 for open-end generation.\n"
          ]
        },
        {
          "output_type": "stream",
          "name": "stdout",
          "text": [
            "Model Sentiment: Hold\n",
            "Correct: True\n",
            "Iteration 1\n"
          ]
        },
        {
          "output_type": "stream",
          "name": "stderr",
          "text": [
            "Setting `pad_token_id` to `eos_token_id`:128001 for open-end generation.\n"
          ]
        },
        {
          "output_type": "stream",
          "name": "stdout",
          "text": [
            "Model Sentiment: Hold\n",
            "Correct: True\n",
            "Iteration 2\n",
            "Model Sentiment: Hold\n",
            "Correct: True\n",
            "Ticker: JNJ\n",
            "raw data filepath:  raw_data/jnj_raw.csv\n",
            "Fetching raw news...\n",
            "Number of news articles for JNJ: 245\n"
          ]
        },
        {
          "output_type": "stream",
          "name": "stderr",
          "text": [
            "Setting `pad_token_id` to `eos_token_id`:128001 for open-end generation.\n"
          ]
        },
        {
          "output_type": "stream",
          "name": "stdout",
          "text": [
            "Analyst recommendation: buy\n",
            "Iteration 0\n"
          ]
        },
        {
          "output_type": "stream",
          "name": "stderr",
          "text": [
            "Setting `pad_token_id` to `eos_token_id`:128001 for open-end generation.\n"
          ]
        },
        {
          "output_type": "stream",
          "name": "stdout",
          "text": [
            "Model Sentiment: Sell\n",
            "Correct: False\n",
            "Iteration 1\n"
          ]
        },
        {
          "output_type": "stream",
          "name": "stderr",
          "text": [
            "Setting `pad_token_id` to `eos_token_id`:128001 for open-end generation.\n"
          ]
        },
        {
          "output_type": "stream",
          "name": "stdout",
          "text": [
            "Model Sentiment: Sell\n",
            "Correct: False\n",
            "Iteration 2\n",
            "Model Sentiment: Hold\n",
            "Correct: True\n",
            "Ticker: DIS\n",
            "raw data filepath:  raw_data/dis_raw.csv\n",
            "Fetching raw news...\n",
            "Number of news articles for DIS: 273\n"
          ]
        },
        {
          "output_type": "stream",
          "name": "stderr",
          "text": [
            "Setting `pad_token_id` to `eos_token_id`:128001 for open-end generation.\n"
          ]
        },
        {
          "output_type": "stream",
          "name": "stdout",
          "text": [
            "Analyst recommendation: buy\n",
            "Iteration 0\n"
          ]
        },
        {
          "output_type": "stream",
          "name": "stderr",
          "text": [
            "Setting `pad_token_id` to `eos_token_id`:128001 for open-end generation.\n"
          ]
        },
        {
          "output_type": "stream",
          "name": "stdout",
          "text": [
            "Model Sentiment: Sell\n",
            "Correct: False\n",
            "Iteration 1\n"
          ]
        },
        {
          "output_type": "stream",
          "name": "stderr",
          "text": [
            "Setting `pad_token_id` to `eos_token_id`:128001 for open-end generation.\n"
          ]
        },
        {
          "output_type": "stream",
          "name": "stdout",
          "text": [
            "Model Sentiment: Buy\n",
            "Correct: True\n",
            "Iteration 2\n",
            "Model Sentiment: Strong Buy\n",
            "Correct: False\n",
            "Ticker: WMT\n",
            "raw data filepath:  raw_data/wmt_raw.csv\n",
            "Fetching raw news...\n",
            "Number of news articles for WMT: 200\n"
          ]
        },
        {
          "output_type": "stream",
          "name": "stderr",
          "text": [
            "Setting `pad_token_id` to `eos_token_id`:128001 for open-end generation.\n"
          ]
        },
        {
          "output_type": "stream",
          "name": "stdout",
          "text": [
            "Analyst recommendation: buy\n",
            "Iteration 0\n"
          ]
        },
        {
          "output_type": "stream",
          "name": "stderr",
          "text": [
            "Setting `pad_token_id` to `eos_token_id`:128001 for open-end generation.\n"
          ]
        },
        {
          "output_type": "stream",
          "name": "stdout",
          "text": [
            "Model Sentiment: Sell\n",
            "Correct: False\n",
            "Iteration 1\n"
          ]
        },
        {
          "output_type": "stream",
          "name": "stderr",
          "text": [
            "Setting `pad_token_id` to `eos_token_id`:128001 for open-end generation.\n"
          ]
        },
        {
          "output_type": "stream",
          "name": "stdout",
          "text": [
            "Model Sentiment: Sell\n",
            "Correct: False\n",
            "Iteration 2\n",
            "Model Sentiment: Sell\n",
            "Correct: False\n",
            "Ticker: JPM\n",
            "raw data filepath:  raw_data/jpm_raw.csv\n",
            "Fetching raw news...\n",
            "No news data available.\n",
            "Number of news articles for JPM: 0\n"
          ]
        },
        {
          "output_type": "stream",
          "name": "stderr",
          "text": [
            "Setting `pad_token_id` to `eos_token_id`:128001 for open-end generation.\n"
          ]
        },
        {
          "output_type": "stream",
          "name": "stdout",
          "text": [
            "Analyst recommendation: buy\n",
            "Iteration 0\n"
          ]
        },
        {
          "output_type": "stream",
          "name": "stderr",
          "text": [
            "Setting `pad_token_id` to `eos_token_id`:128001 for open-end generation.\n"
          ]
        },
        {
          "output_type": "stream",
          "name": "stdout",
          "text": [
            "Model Sentiment: Hold\n",
            "Correct: True\n",
            "Iteration 1\n"
          ]
        },
        {
          "output_type": "stream",
          "name": "stderr",
          "text": [
            "Setting `pad_token_id` to `eos_token_id`:128001 for open-end generation.\n"
          ]
        },
        {
          "output_type": "stream",
          "name": "stdout",
          "text": [
            "Model Sentiment: Hold\n",
            "Correct: True\n",
            "Iteration 2\n",
            "Model Sentiment: Hold\n",
            "Correct: True\n",
            "Ticker: MCD\n",
            "raw data filepath:  raw_data/mcd_raw.csv\n",
            "Fetching raw news...\n",
            "Number of news articles for MCD: 284\n"
          ]
        },
        {
          "output_type": "stream",
          "name": "stderr",
          "text": [
            "Setting `pad_token_id` to `eos_token_id`:128001 for open-end generation.\n"
          ]
        },
        {
          "output_type": "stream",
          "name": "stdout",
          "text": [
            "Analyst recommendation: buy\n",
            "Iteration 0\n"
          ]
        },
        {
          "output_type": "stream",
          "name": "stderr",
          "text": [
            "Setting `pad_token_id` to `eos_token_id`:128001 for open-end generation.\n"
          ]
        },
        {
          "output_type": "stream",
          "name": "stdout",
          "text": [
            "Model Sentiment: Hold\n",
            "Correct: True\n",
            "Iteration 1\n"
          ]
        },
        {
          "output_type": "stream",
          "name": "stderr",
          "text": [
            "Setting `pad_token_id` to `eos_token_id`:128001 for open-end generation.\n"
          ]
        },
        {
          "output_type": "stream",
          "name": "stdout",
          "text": [
            "Model Sentiment: Hold\n",
            "Correct: True\n",
            "Iteration 2\n",
            "Model Sentiment: Buy\n",
            "Correct: True\n",
            "Ticker: GE\n",
            "raw data filepath:  raw_data/ge_raw.csv\n",
            "Fetching raw news...\n",
            "Number of news articles for GE: 265\n"
          ]
        },
        {
          "output_type": "stream",
          "name": "stderr",
          "text": [
            "Setting `pad_token_id` to `eos_token_id`:128001 for open-end generation.\n"
          ]
        },
        {
          "output_type": "stream",
          "name": "stdout",
          "text": [
            "Analyst recommendation: buy\n",
            "Iteration 0\n"
          ]
        },
        {
          "output_type": "stream",
          "name": "stderr",
          "text": [
            "Setting `pad_token_id` to `eos_token_id`:128001 for open-end generation.\n"
          ]
        },
        {
          "output_type": "stream",
          "name": "stdout",
          "text": [
            "Model Sentiment: Hold\n",
            "Correct: False\n",
            "Iteration 1\n"
          ]
        },
        {
          "output_type": "stream",
          "name": "stderr",
          "text": [
            "Setting `pad_token_id` to `eos_token_id`:128001 for open-end generation.\n"
          ]
        },
        {
          "output_type": "stream",
          "name": "stdout",
          "text": [
            "Model Sentiment: Sell\n",
            "Correct: False\n",
            "Iteration 2\n",
            "Model Sentiment: Buy\n",
            "Correct: True\n",
            "Accuracy for ticker group blue_chip_stocks: 40.0 %\n",
            "Ticker: TSLA\n",
            "raw data filepath:  raw_data/tsla_raw.csv\n"
          ]
        },
        {
          "output_type": "stream",
          "name": "stderr",
          "text": [
            "Setting `pad_token_id` to `eos_token_id`:128001 for open-end generation.\n"
          ]
        },
        {
          "output_type": "stream",
          "name": "stdout",
          "text": [
            "Analyst recommendation: hold\n",
            "Iteration 0\n"
          ]
        },
        {
          "output_type": "stream",
          "name": "stderr",
          "text": [
            "Setting `pad_token_id` to `eos_token_id`:128001 for open-end generation.\n"
          ]
        },
        {
          "output_type": "stream",
          "name": "stdout",
          "text": [
            "Model Sentiment: Hold\n",
            "Correct: True\n",
            "Iteration 1\n"
          ]
        },
        {
          "output_type": "stream",
          "name": "stderr",
          "text": [
            "Setting `pad_token_id` to `eos_token_id`:128001 for open-end generation.\n"
          ]
        },
        {
          "output_type": "stream",
          "name": "stdout",
          "text": [
            "Model Sentiment: Hold\n",
            "Correct: True\n",
            "Iteration 2\n",
            "Model Sentiment: Hold\n",
            "Correct: True\n",
            "Ticker: AMZN\n",
            "raw data filepath:  raw_data/amzn_raw.csv\n",
            "Fetching raw news...\n",
            "Number of news articles for AMZN: 217\n"
          ]
        },
        {
          "output_type": "stream",
          "name": "stderr",
          "text": [
            "Setting `pad_token_id` to `eos_token_id`:128001 for open-end generation.\n"
          ]
        },
        {
          "output_type": "stream",
          "name": "stdout",
          "text": [
            "Analyst recommendation: buy\n",
            "Iteration 0\n"
          ]
        },
        {
          "output_type": "stream",
          "name": "stderr",
          "text": [
            "Setting `pad_token_id` to `eos_token_id`:128001 for open-end generation.\n"
          ]
        },
        {
          "output_type": "stream",
          "name": "stdout",
          "text": [
            "Model Sentiment: Sell\n",
            "Correct: False\n",
            "Iteration 1\n"
          ]
        },
        {
          "output_type": "stream",
          "name": "stderr",
          "text": [
            "Setting `pad_token_id` to `eos_token_id`:128001 for open-end generation.\n"
          ]
        },
        {
          "output_type": "stream",
          "name": "stdout",
          "text": [
            "Model Sentiment: Hold\n",
            "Correct: False\n",
            "Iteration 2\n",
            "Model Sentiment: Sell\n",
            "Correct: False\n",
            "Ticker: NVDA\n",
            "raw data filepath:  raw_data/nvda_raw.csv\n",
            "Fetching raw news...\n",
            "Number of news articles for NVDA: 286\n"
          ]
        },
        {
          "output_type": "stream",
          "name": "stderr",
          "text": [
            "Setting `pad_token_id` to `eos_token_id`:128001 for open-end generation.\n"
          ]
        },
        {
          "output_type": "stream",
          "name": "stdout",
          "text": [
            "Analyst recommendation: buy\n",
            "Iteration 0\n"
          ]
        },
        {
          "output_type": "stream",
          "name": "stderr",
          "text": [
            "Setting `pad_token_id` to `eos_token_id`:128001 for open-end generation.\n"
          ]
        },
        {
          "output_type": "stream",
          "name": "stdout",
          "text": [
            "Model Sentiment: Hold\n",
            "Correct: False\n",
            "Iteration 1\n"
          ]
        },
        {
          "output_type": "stream",
          "name": "stderr",
          "text": [
            "Setting `pad_token_id` to `eos_token_id`:128001 for open-end generation.\n"
          ]
        },
        {
          "output_type": "stream",
          "name": "stdout",
          "text": [
            "Model Sentiment: Strong Sell\n",
            "Correct: False\n",
            "Iteration 2\n",
            "Model Sentiment: Hold\n",
            "Correct: False\n",
            "Ticker: GOOG\n",
            "raw data filepath:  raw_data/goog_raw.csv\n",
            "Fetching raw news...\n",
            "Number of news articles for GOOG: 19\n"
          ]
        },
        {
          "output_type": "stream",
          "name": "stderr",
          "text": [
            "Setting `pad_token_id` to `eos_token_id`:128001 for open-end generation.\n"
          ]
        },
        {
          "output_type": "stream",
          "name": "stdout",
          "text": [
            "Analyst recommendation: buy\n",
            "Iteration 0\n"
          ]
        },
        {
          "output_type": "stream",
          "name": "stderr",
          "text": [
            "Setting `pad_token_id` to `eos_token_id`:128001 for open-end generation.\n"
          ]
        },
        {
          "output_type": "stream",
          "name": "stdout",
          "text": [
            "Model Sentiment: Hold\n",
            "Correct: False\n",
            "Iteration 1\n"
          ]
        },
        {
          "output_type": "stream",
          "name": "stderr",
          "text": [
            "Setting `pad_token_id` to `eos_token_id`:128001 for open-end generation.\n"
          ]
        },
        {
          "output_type": "stream",
          "name": "stdout",
          "text": [
            "Model Sentiment: Hold\n",
            "Correct: False\n",
            "Iteration 2\n",
            "Model Sentiment: Hold\n",
            "Correct: False\n",
            "Ticker: META\n",
            "raw data filepath:  raw_data/meta_raw.csv\n",
            "Fetching raw news...\n",
            "Number of news articles for META: 158\n"
          ]
        },
        {
          "output_type": "stream",
          "name": "stderr",
          "text": [
            "Setting `pad_token_id` to `eos_token_id`:128001 for open-end generation.\n"
          ]
        },
        {
          "output_type": "stream",
          "name": "stdout",
          "text": [
            "Analyst recommendation: buy\n",
            "Iteration 0\n"
          ]
        },
        {
          "output_type": "stream",
          "name": "stderr",
          "text": [
            "Setting `pad_token_id` to `eos_token_id`:128001 for open-end generation.\n"
          ]
        },
        {
          "output_type": "stream",
          "name": "stdout",
          "text": [
            "Model Sentiment: Sell\n",
            "Correct: False\n",
            "Iteration 1\n"
          ]
        },
        {
          "output_type": "stream",
          "name": "stderr",
          "text": [
            "Setting `pad_token_id` to `eos_token_id`:128001 for open-end generation.\n"
          ]
        },
        {
          "output_type": "stream",
          "name": "stdout",
          "text": [
            "Model Sentiment: Buy\n",
            "Correct: True\n",
            "Iteration 2\n",
            "Model Sentiment: Sell\n",
            "Correct: False\n",
            "Ticker: NFLX\n",
            "raw data filepath:  raw_data/nflx_raw.csv\n",
            "Fetching raw news...\n",
            "Number of news articles for NFLX: 230\n"
          ]
        },
        {
          "output_type": "stream",
          "name": "stderr",
          "text": [
            "Setting `pad_token_id` to `eos_token_id`:128001 for open-end generation.\n"
          ]
        },
        {
          "output_type": "stream",
          "name": "stdout",
          "text": [
            "Analyst recommendation: buy\n",
            "Iteration 0\n"
          ]
        },
        {
          "output_type": "stream",
          "name": "stderr",
          "text": [
            "Setting `pad_token_id` to `eos_token_id`:128001 for open-end generation.\n"
          ]
        },
        {
          "output_type": "stream",
          "name": "stdout",
          "text": [
            "Model Sentiment: Hold\n",
            "Correct: True\n",
            "Iteration 1\n"
          ]
        },
        {
          "output_type": "stream",
          "name": "stderr",
          "text": [
            "Setting `pad_token_id` to `eos_token_id`:128001 for open-end generation.\n"
          ]
        },
        {
          "output_type": "stream",
          "name": "stdout",
          "text": [
            "Model Sentiment: Sell\n",
            "Correct: False\n",
            "Iteration 2\n",
            "Model Sentiment: Sell\n",
            "Correct: False\n",
            "Ticker: SHOP\n",
            "raw data filepath:  raw_data/shop_raw.csv\n",
            "Fetching raw news...\n",
            "Number of news articles for SHOP: 228\n"
          ]
        },
        {
          "output_type": "stream",
          "name": "stderr",
          "text": [
            "Setting `pad_token_id` to `eos_token_id`:128001 for open-end generation.\n"
          ]
        },
        {
          "output_type": "stream",
          "name": "stdout",
          "text": [
            "Analyst recommendation: buy\n",
            "Iteration 0\n"
          ]
        },
        {
          "output_type": "stream",
          "name": "stderr",
          "text": [
            "Setting `pad_token_id` to `eos_token_id`:128001 for open-end generation.\n"
          ]
        },
        {
          "output_type": "stream",
          "name": "stdout",
          "text": [
            "Model Sentiment: Sell\n",
            "Correct: False\n",
            "Iteration 1\n"
          ]
        },
        {
          "output_type": "stream",
          "name": "stderr",
          "text": [
            "Setting `pad_token_id` to `eos_token_id`:128001 for open-end generation.\n"
          ]
        },
        {
          "output_type": "stream",
          "name": "stdout",
          "text": [
            "Model Sentiment: Hold\n",
            "Correct: True\n",
            "Iteration 2\n",
            "Model Sentiment: Hold\n",
            "Correct: True\n",
            "Ticker: SQ\n",
            "raw data filepath:  raw_data/sq_raw.csv\n",
            "Fetching raw news...\n",
            "Number of news articles for SQ: 212\n"
          ]
        },
        {
          "output_type": "stream",
          "name": "stderr",
          "text": [
            "Setting `pad_token_id` to `eos_token_id`:128001 for open-end generation.\n"
          ]
        },
        {
          "output_type": "stream",
          "name": "stdout",
          "text": [
            "Analyst recommendation: buy\n",
            "Iteration 0\n"
          ]
        },
        {
          "output_type": "stream",
          "name": "stderr",
          "text": [
            "Setting `pad_token_id` to `eos_token_id`:128001 for open-end generation.\n"
          ]
        },
        {
          "output_type": "stream",
          "name": "stdout",
          "text": [
            "Model Sentiment: Hold\n",
            "Correct: True\n",
            "Iteration 1\n"
          ]
        },
        {
          "output_type": "stream",
          "name": "stderr",
          "text": [
            "Setting `pad_token_id` to `eos_token_id`:128001 for open-end generation.\n"
          ]
        },
        {
          "output_type": "stream",
          "name": "stdout",
          "text": [
            "Model Sentiment: Sell\n",
            "Correct: False\n",
            "Iteration 2\n",
            "Model Sentiment: Hold\n",
            "Correct: True\n",
            "Ticker: CRM\n",
            "raw data filepath:  raw_data/crm_raw.csv\n",
            "Fetching raw news...\n",
            "No news data available.\n",
            "Number of news articles for CRM: 0\n"
          ]
        },
        {
          "output_type": "stream",
          "name": "stderr",
          "text": [
            "Setting `pad_token_id` to `eos_token_id`:128001 for open-end generation.\n"
          ]
        },
        {
          "output_type": "stream",
          "name": "stdout",
          "text": [
            "Analyst recommendation: buy\n",
            "Iteration 0\n"
          ]
        },
        {
          "output_type": "stream",
          "name": "stderr",
          "text": [
            "Setting `pad_token_id` to `eos_token_id`:128001 for open-end generation.\n"
          ]
        },
        {
          "output_type": "stream",
          "name": "stdout",
          "text": [
            "Model Sentiment: Hold\n",
            "Correct: True\n",
            "Iteration 1\n"
          ]
        },
        {
          "output_type": "stream",
          "name": "stderr",
          "text": [
            "Setting `pad_token_id` to `eos_token_id`:128001 for open-end generation.\n"
          ]
        },
        {
          "output_type": "stream",
          "name": "stdout",
          "text": [
            "Model Sentiment: Hold\n",
            "Correct: True\n",
            "Iteration 2\n",
            "Model Sentiment: Hold\n",
            "Correct: True\n",
            "Ticker: UBER\n",
            "raw data filepath:  raw_data/uber_raw.csv\n",
            "Fetching raw news...\n",
            "No news data available.\n",
            "Number of news articles for UBER: 0\n"
          ]
        },
        {
          "output_type": "stream",
          "name": "stderr",
          "text": [
            "Setting `pad_token_id` to `eos_token_id`:128001 for open-end generation.\n"
          ]
        },
        {
          "output_type": "stream",
          "name": "stdout",
          "text": [
            "Analyst recommendation: buy\n",
            "Iteration 0\n"
          ]
        },
        {
          "output_type": "stream",
          "name": "stderr",
          "text": [
            "Setting `pad_token_id` to `eos_token_id`:128001 for open-end generation.\n"
          ]
        },
        {
          "output_type": "stream",
          "name": "stdout",
          "text": [
            "Model Sentiment: Hold\n",
            "Correct: False\n",
            "Iteration 1\n"
          ]
        },
        {
          "output_type": "stream",
          "name": "stderr",
          "text": [
            "Setting `pad_token_id` to `eos_token_id`:128001 for open-end generation.\n"
          ]
        },
        {
          "output_type": "stream",
          "name": "stdout",
          "text": [
            "Model Sentiment: Hold\n",
            "Correct: False\n",
            "Iteration 2\n",
            "Model Sentiment: Hold\n",
            "Correct: False\n",
            "Accuracy for ticker group growth_stocks: 40.0 %\n"
          ]
        }
      ],
      "source": [
        "ticker_groups=[blue_chip_stocks,Growth_stocks]\n",
        "ticker_group_names=[\"blue_chip_stocks\",\"growth_stocks\"]\n",
        "for t, ticker_group in enumerate(ticker_groups): # Run for each ticker group\n",
        "    corrects = 0\n",
        "    for ticker in ticker_group:\n",
        "        print(\"Ticker:\", ticker)\n",
        "        ticker_corrects = []\n",
        "        system_prompt = get_system_prompt(ticker, sentiment_model, sentiment_tokenizer)\n",
        "        for i in range(3): # Run three times for each ticker and get majority of corrects\n",
        "            print(\"Iteration\",i)\n",
        "            response = run_llama(model, tokenizer, ticker, system_prompt)\n",
        "            correct = evaluate(response, ticker)\n",
        "            print(\"Correct:\",correct)\n",
        "            #if not correct:\n",
        "            #    print(\"Response:\", response)\n",
        "            ticker_corrects.append(correct)\n",
        "\n",
        "        majority = True if ticker_corrects.count(True) > ticker_corrects.count(False) else False\n",
        "\n",
        "        if majority:\n",
        "            corrects += 1\n",
        "\n",
        "    print(f\"Accuracy for ticker group {ticker_group_names[t]}:\",round(corrects/len(ticker_groups[t]),3)*100,\"%\")"
      ]
    },
    {
      "cell_type": "code",
      "execution_count": 17,
      "metadata": {
        "id": "LdT7Z15VynzF",
        "outputId": "b44b9525-117d-4e7e-cbff-cbe083c7a0e9",
        "colab": {
          "base_uri": "https://localhost:8080/"
        }
      },
      "outputs": [
        {
          "output_type": "stream",
          "name": "stdout",
          "text": [
            "0.4\n"
          ]
        }
      ],
      "source": [
        "print(corrects/len(ticker_groups[0]))"
      ]
    },
    {
      "cell_type": "code",
      "source": [
        "print(corrects/len(ticker_groups[1]))"
      ],
      "metadata": {
        "id": "0V56jhg4GuS7",
        "outputId": "a33c1465-b9ac-4671-e567-f66e1a569b17",
        "colab": {
          "base_uri": "https://localhost:8080/"
        }
      },
      "execution_count": 18,
      "outputs": [
        {
          "output_type": "stream",
          "name": "stdout",
          "text": [
            "0.4\n"
          ]
        }
      ]
    }
  ],
  "metadata": {
    "kernelspec": {
      "display_name": "Python 3",
      "name": "python3"
    },
    "language_info": {
      "codemirror_mode": {
        "name": "ipython",
        "version": 3
      },
      "file_extension": ".py",
      "mimetype": "text/x-python",
      "name": "python",
      "nbconvert_exporter": "python",
      "pygments_lexer": "ipython3",
      "version": "3.10.11"
    },
    "colab": {
      "provenance": [],
      "gpuType": "T4",
      "include_colab_link": true
    },
    "accelerator": "GPU",
    "widgets": {
      "application/vnd.jupyter.widget-state+json": {
        "fc1b851b78a84054a39004ca9049336e": {
          "model_module": "@jupyter-widgets/controls",
          "model_name": "HBoxModel",
          "model_module_version": "1.5.0",
          "state": {
            "_dom_classes": [],
            "_model_module": "@jupyter-widgets/controls",
            "_model_module_version": "1.5.0",
            "_model_name": "HBoxModel",
            "_view_count": null,
            "_view_module": "@jupyter-widgets/controls",
            "_view_module_version": "1.5.0",
            "_view_name": "HBoxView",
            "box_style": "",
            "children": [
              "IPY_MODEL_2bfa236104d04432a6268753d2890775",
              "IPY_MODEL_61dd2c4ff7cc4179918d4522ecfde5ac",
              "IPY_MODEL_641358a701ae42dbbd5f19e2abc049e3"
            ],
            "layout": "IPY_MODEL_54e1224317d64fb8b09d75ab7fd61fe9"
          }
        },
        "2bfa236104d04432a6268753d2890775": {
          "model_module": "@jupyter-widgets/controls",
          "model_name": "HTMLModel",
          "model_module_version": "1.5.0",
          "state": {
            "_dom_classes": [],
            "_model_module": "@jupyter-widgets/controls",
            "_model_module_version": "1.5.0",
            "_model_name": "HTMLModel",
            "_view_count": null,
            "_view_module": "@jupyter-widgets/controls",
            "_view_module_version": "1.5.0",
            "_view_name": "HTMLView",
            "description": "",
            "description_tooltip": null,
            "layout": "IPY_MODEL_a7acfe8ae8b6490d99deba9e9b87af17",
            "placeholder": "​",
            "style": "IPY_MODEL_b9b18a1445b5424dac40ab1ebfff6238",
            "value": "tokenizer_config.json: 100%"
          }
        },
        "61dd2c4ff7cc4179918d4522ecfde5ac": {
          "model_module": "@jupyter-widgets/controls",
          "model_name": "FloatProgressModel",
          "model_module_version": "1.5.0",
          "state": {
            "_dom_classes": [],
            "_model_module": "@jupyter-widgets/controls",
            "_model_module_version": "1.5.0",
            "_model_name": "FloatProgressModel",
            "_view_count": null,
            "_view_module": "@jupyter-widgets/controls",
            "_view_module_version": "1.5.0",
            "_view_name": "ProgressView",
            "bar_style": "success",
            "description": "",
            "description_tooltip": null,
            "layout": "IPY_MODEL_eb2447c71b2741908c8074ba0bb05964",
            "max": 54528,
            "min": 0,
            "orientation": "horizontal",
            "style": "IPY_MODEL_14f4a565bbeb46d485b67640a1a9a3c2",
            "value": 54528
          }
        },
        "641358a701ae42dbbd5f19e2abc049e3": {
          "model_module": "@jupyter-widgets/controls",
          "model_name": "HTMLModel",
          "model_module_version": "1.5.0",
          "state": {
            "_dom_classes": [],
            "_model_module": "@jupyter-widgets/controls",
            "_model_module_version": "1.5.0",
            "_model_name": "HTMLModel",
            "_view_count": null,
            "_view_module": "@jupyter-widgets/controls",
            "_view_module_version": "1.5.0",
            "_view_name": "HTMLView",
            "description": "",
            "description_tooltip": null,
            "layout": "IPY_MODEL_e940b2b363e344718bb78559ea1570e8",
            "placeholder": "​",
            "style": "IPY_MODEL_7940441703444943aca75ee5ebea9de9",
            "value": " 54.5k/54.5k [00:00&lt;00:00, 2.42MB/s]"
          }
        },
        "54e1224317d64fb8b09d75ab7fd61fe9": {
          "model_module": "@jupyter-widgets/base",
          "model_name": "LayoutModel",
          "model_module_version": "1.2.0",
          "state": {
            "_model_module": "@jupyter-widgets/base",
            "_model_module_version": "1.2.0",
            "_model_name": "LayoutModel",
            "_view_count": null,
            "_view_module": "@jupyter-widgets/base",
            "_view_module_version": "1.2.0",
            "_view_name": "LayoutView",
            "align_content": null,
            "align_items": null,
            "align_self": null,
            "border": null,
            "bottom": null,
            "display": null,
            "flex": null,
            "flex_flow": null,
            "grid_area": null,
            "grid_auto_columns": null,
            "grid_auto_flow": null,
            "grid_auto_rows": null,
            "grid_column": null,
            "grid_gap": null,
            "grid_row": null,
            "grid_template_areas": null,
            "grid_template_columns": null,
            "grid_template_rows": null,
            "height": null,
            "justify_content": null,
            "justify_items": null,
            "left": null,
            "margin": null,
            "max_height": null,
            "max_width": null,
            "min_height": null,
            "min_width": null,
            "object_fit": null,
            "object_position": null,
            "order": null,
            "overflow": null,
            "overflow_x": null,
            "overflow_y": null,
            "padding": null,
            "right": null,
            "top": null,
            "visibility": null,
            "width": null
          }
        },
        "a7acfe8ae8b6490d99deba9e9b87af17": {
          "model_module": "@jupyter-widgets/base",
          "model_name": "LayoutModel",
          "model_module_version": "1.2.0",
          "state": {
            "_model_module": "@jupyter-widgets/base",
            "_model_module_version": "1.2.0",
            "_model_name": "LayoutModel",
            "_view_count": null,
            "_view_module": "@jupyter-widgets/base",
            "_view_module_version": "1.2.0",
            "_view_name": "LayoutView",
            "align_content": null,
            "align_items": null,
            "align_self": null,
            "border": null,
            "bottom": null,
            "display": null,
            "flex": null,
            "flex_flow": null,
            "grid_area": null,
            "grid_auto_columns": null,
            "grid_auto_flow": null,
            "grid_auto_rows": null,
            "grid_column": null,
            "grid_gap": null,
            "grid_row": null,
            "grid_template_areas": null,
            "grid_template_columns": null,
            "grid_template_rows": null,
            "height": null,
            "justify_content": null,
            "justify_items": null,
            "left": null,
            "margin": null,
            "max_height": null,
            "max_width": null,
            "min_height": null,
            "min_width": null,
            "object_fit": null,
            "object_position": null,
            "order": null,
            "overflow": null,
            "overflow_x": null,
            "overflow_y": null,
            "padding": null,
            "right": null,
            "top": null,
            "visibility": null,
            "width": null
          }
        },
        "b9b18a1445b5424dac40ab1ebfff6238": {
          "model_module": "@jupyter-widgets/controls",
          "model_name": "DescriptionStyleModel",
          "model_module_version": "1.5.0",
          "state": {
            "_model_module": "@jupyter-widgets/controls",
            "_model_module_version": "1.5.0",
            "_model_name": "DescriptionStyleModel",
            "_view_count": null,
            "_view_module": "@jupyter-widgets/base",
            "_view_module_version": "1.2.0",
            "_view_name": "StyleView",
            "description_width": ""
          }
        },
        "eb2447c71b2741908c8074ba0bb05964": {
          "model_module": "@jupyter-widgets/base",
          "model_name": "LayoutModel",
          "model_module_version": "1.2.0",
          "state": {
            "_model_module": "@jupyter-widgets/base",
            "_model_module_version": "1.2.0",
            "_model_name": "LayoutModel",
            "_view_count": null,
            "_view_module": "@jupyter-widgets/base",
            "_view_module_version": "1.2.0",
            "_view_name": "LayoutView",
            "align_content": null,
            "align_items": null,
            "align_self": null,
            "border": null,
            "bottom": null,
            "display": null,
            "flex": null,
            "flex_flow": null,
            "grid_area": null,
            "grid_auto_columns": null,
            "grid_auto_flow": null,
            "grid_auto_rows": null,
            "grid_column": null,
            "grid_gap": null,
            "grid_row": null,
            "grid_template_areas": null,
            "grid_template_columns": null,
            "grid_template_rows": null,
            "height": null,
            "justify_content": null,
            "justify_items": null,
            "left": null,
            "margin": null,
            "max_height": null,
            "max_width": null,
            "min_height": null,
            "min_width": null,
            "object_fit": null,
            "object_position": null,
            "order": null,
            "overflow": null,
            "overflow_x": null,
            "overflow_y": null,
            "padding": null,
            "right": null,
            "top": null,
            "visibility": null,
            "width": null
          }
        },
        "14f4a565bbeb46d485b67640a1a9a3c2": {
          "model_module": "@jupyter-widgets/controls",
          "model_name": "ProgressStyleModel",
          "model_module_version": "1.5.0",
          "state": {
            "_model_module": "@jupyter-widgets/controls",
            "_model_module_version": "1.5.0",
            "_model_name": "ProgressStyleModel",
            "_view_count": null,
            "_view_module": "@jupyter-widgets/base",
            "_view_module_version": "1.2.0",
            "_view_name": "StyleView",
            "bar_color": null,
            "description_width": ""
          }
        },
        "e940b2b363e344718bb78559ea1570e8": {
          "model_module": "@jupyter-widgets/base",
          "model_name": "LayoutModel",
          "model_module_version": "1.2.0",
          "state": {
            "_model_module": "@jupyter-widgets/base",
            "_model_module_version": "1.2.0",
            "_model_name": "LayoutModel",
            "_view_count": null,
            "_view_module": "@jupyter-widgets/base",
            "_view_module_version": "1.2.0",
            "_view_name": "LayoutView",
            "align_content": null,
            "align_items": null,
            "align_self": null,
            "border": null,
            "bottom": null,
            "display": null,
            "flex": null,
            "flex_flow": null,
            "grid_area": null,
            "grid_auto_columns": null,
            "grid_auto_flow": null,
            "grid_auto_rows": null,
            "grid_column": null,
            "grid_gap": null,
            "grid_row": null,
            "grid_template_areas": null,
            "grid_template_columns": null,
            "grid_template_rows": null,
            "height": null,
            "justify_content": null,
            "justify_items": null,
            "left": null,
            "margin": null,
            "max_height": null,
            "max_width": null,
            "min_height": null,
            "min_width": null,
            "object_fit": null,
            "object_position": null,
            "order": null,
            "overflow": null,
            "overflow_x": null,
            "overflow_y": null,
            "padding": null,
            "right": null,
            "top": null,
            "visibility": null,
            "width": null
          }
        },
        "7940441703444943aca75ee5ebea9de9": {
          "model_module": "@jupyter-widgets/controls",
          "model_name": "DescriptionStyleModel",
          "model_module_version": "1.5.0",
          "state": {
            "_model_module": "@jupyter-widgets/controls",
            "_model_module_version": "1.5.0",
            "_model_name": "DescriptionStyleModel",
            "_view_count": null,
            "_view_module": "@jupyter-widgets/base",
            "_view_module_version": "1.2.0",
            "_view_name": "StyleView",
            "description_width": ""
          }
        },
        "f849fc6caec7478abaa97151c527c0fa": {
          "model_module": "@jupyter-widgets/controls",
          "model_name": "HBoxModel",
          "model_module_version": "1.5.0",
          "state": {
            "_dom_classes": [],
            "_model_module": "@jupyter-widgets/controls",
            "_model_module_version": "1.5.0",
            "_model_name": "HBoxModel",
            "_view_count": null,
            "_view_module": "@jupyter-widgets/controls",
            "_view_module_version": "1.5.0",
            "_view_name": "HBoxView",
            "box_style": "",
            "children": [
              "IPY_MODEL_d9629fbe3fd444ee84eb04d35d723488",
              "IPY_MODEL_6f911bb501b7401d9b02566f43272526",
              "IPY_MODEL_7a47b3c2501045d0b3f06e4d01f5a3a3"
            ],
            "layout": "IPY_MODEL_77eb66d19b7143a081bb65193f6758e0"
          }
        },
        "d9629fbe3fd444ee84eb04d35d723488": {
          "model_module": "@jupyter-widgets/controls",
          "model_name": "HTMLModel",
          "model_module_version": "1.5.0",
          "state": {
            "_dom_classes": [],
            "_model_module": "@jupyter-widgets/controls",
            "_model_module_version": "1.5.0",
            "_model_name": "HTMLModel",
            "_view_count": null,
            "_view_module": "@jupyter-widgets/controls",
            "_view_module_version": "1.5.0",
            "_view_name": "HTMLView",
            "description": "",
            "description_tooltip": null,
            "layout": "IPY_MODEL_a447750e4a1248a5998d836bbc03b736",
            "placeholder": "​",
            "style": "IPY_MODEL_6d053a8dbd6a4af08a2e125958db13cd",
            "value": "tokenizer.json: 100%"
          }
        },
        "6f911bb501b7401d9b02566f43272526": {
          "model_module": "@jupyter-widgets/controls",
          "model_name": "FloatProgressModel",
          "model_module_version": "1.5.0",
          "state": {
            "_dom_classes": [],
            "_model_module": "@jupyter-widgets/controls",
            "_model_module_version": "1.5.0",
            "_model_name": "FloatProgressModel",
            "_view_count": null,
            "_view_module": "@jupyter-widgets/controls",
            "_view_module_version": "1.5.0",
            "_view_name": "ProgressView",
            "bar_style": "success",
            "description": "",
            "description_tooltip": null,
            "layout": "IPY_MODEL_cad77e88eb674452af420f952bbf37a0",
            "max": 9085657,
            "min": 0,
            "orientation": "horizontal",
            "style": "IPY_MODEL_6d4938b08b094547bf53a03139a1c13e",
            "value": 9085657
          }
        },
        "7a47b3c2501045d0b3f06e4d01f5a3a3": {
          "model_module": "@jupyter-widgets/controls",
          "model_name": "HTMLModel",
          "model_module_version": "1.5.0",
          "state": {
            "_dom_classes": [],
            "_model_module": "@jupyter-widgets/controls",
            "_model_module_version": "1.5.0",
            "_model_name": "HTMLModel",
            "_view_count": null,
            "_view_module": "@jupyter-widgets/controls",
            "_view_module_version": "1.5.0",
            "_view_name": "HTMLView",
            "description": "",
            "description_tooltip": null,
            "layout": "IPY_MODEL_a3a8f20715224b10aa21e72646973fd7",
            "placeholder": "​",
            "style": "IPY_MODEL_d50dbe8c8e1f4db1904ac55eba5fa479",
            "value": " 9.09M/9.09M [00:00&lt;00:00, 15.9MB/s]"
          }
        },
        "77eb66d19b7143a081bb65193f6758e0": {
          "model_module": "@jupyter-widgets/base",
          "model_name": "LayoutModel",
          "model_module_version": "1.2.0",
          "state": {
            "_model_module": "@jupyter-widgets/base",
            "_model_module_version": "1.2.0",
            "_model_name": "LayoutModel",
            "_view_count": null,
            "_view_module": "@jupyter-widgets/base",
            "_view_module_version": "1.2.0",
            "_view_name": "LayoutView",
            "align_content": null,
            "align_items": null,
            "align_self": null,
            "border": null,
            "bottom": null,
            "display": null,
            "flex": null,
            "flex_flow": null,
            "grid_area": null,
            "grid_auto_columns": null,
            "grid_auto_flow": null,
            "grid_auto_rows": null,
            "grid_column": null,
            "grid_gap": null,
            "grid_row": null,
            "grid_template_areas": null,
            "grid_template_columns": null,
            "grid_template_rows": null,
            "height": null,
            "justify_content": null,
            "justify_items": null,
            "left": null,
            "margin": null,
            "max_height": null,
            "max_width": null,
            "min_height": null,
            "min_width": null,
            "object_fit": null,
            "object_position": null,
            "order": null,
            "overflow": null,
            "overflow_x": null,
            "overflow_y": null,
            "padding": null,
            "right": null,
            "top": null,
            "visibility": null,
            "width": null
          }
        },
        "a447750e4a1248a5998d836bbc03b736": {
          "model_module": "@jupyter-widgets/base",
          "model_name": "LayoutModel",
          "model_module_version": "1.2.0",
          "state": {
            "_model_module": "@jupyter-widgets/base",
            "_model_module_version": "1.2.0",
            "_model_name": "LayoutModel",
            "_view_count": null,
            "_view_module": "@jupyter-widgets/base",
            "_view_module_version": "1.2.0",
            "_view_name": "LayoutView",
            "align_content": null,
            "align_items": null,
            "align_self": null,
            "border": null,
            "bottom": null,
            "display": null,
            "flex": null,
            "flex_flow": null,
            "grid_area": null,
            "grid_auto_columns": null,
            "grid_auto_flow": null,
            "grid_auto_rows": null,
            "grid_column": null,
            "grid_gap": null,
            "grid_row": null,
            "grid_template_areas": null,
            "grid_template_columns": null,
            "grid_template_rows": null,
            "height": null,
            "justify_content": null,
            "justify_items": null,
            "left": null,
            "margin": null,
            "max_height": null,
            "max_width": null,
            "min_height": null,
            "min_width": null,
            "object_fit": null,
            "object_position": null,
            "order": null,
            "overflow": null,
            "overflow_x": null,
            "overflow_y": null,
            "padding": null,
            "right": null,
            "top": null,
            "visibility": null,
            "width": null
          }
        },
        "6d053a8dbd6a4af08a2e125958db13cd": {
          "model_module": "@jupyter-widgets/controls",
          "model_name": "DescriptionStyleModel",
          "model_module_version": "1.5.0",
          "state": {
            "_model_module": "@jupyter-widgets/controls",
            "_model_module_version": "1.5.0",
            "_model_name": "DescriptionStyleModel",
            "_view_count": null,
            "_view_module": "@jupyter-widgets/base",
            "_view_module_version": "1.2.0",
            "_view_name": "StyleView",
            "description_width": ""
          }
        },
        "cad77e88eb674452af420f952bbf37a0": {
          "model_module": "@jupyter-widgets/base",
          "model_name": "LayoutModel",
          "model_module_version": "1.2.0",
          "state": {
            "_model_module": "@jupyter-widgets/base",
            "_model_module_version": "1.2.0",
            "_model_name": "LayoutModel",
            "_view_count": null,
            "_view_module": "@jupyter-widgets/base",
            "_view_module_version": "1.2.0",
            "_view_name": "LayoutView",
            "align_content": null,
            "align_items": null,
            "align_self": null,
            "border": null,
            "bottom": null,
            "display": null,
            "flex": null,
            "flex_flow": null,
            "grid_area": null,
            "grid_auto_columns": null,
            "grid_auto_flow": null,
            "grid_auto_rows": null,
            "grid_column": null,
            "grid_gap": null,
            "grid_row": null,
            "grid_template_areas": null,
            "grid_template_columns": null,
            "grid_template_rows": null,
            "height": null,
            "justify_content": null,
            "justify_items": null,
            "left": null,
            "margin": null,
            "max_height": null,
            "max_width": null,
            "min_height": null,
            "min_width": null,
            "object_fit": null,
            "object_position": null,
            "order": null,
            "overflow": null,
            "overflow_x": null,
            "overflow_y": null,
            "padding": null,
            "right": null,
            "top": null,
            "visibility": null,
            "width": null
          }
        },
        "6d4938b08b094547bf53a03139a1c13e": {
          "model_module": "@jupyter-widgets/controls",
          "model_name": "ProgressStyleModel",
          "model_module_version": "1.5.0",
          "state": {
            "_model_module": "@jupyter-widgets/controls",
            "_model_module_version": "1.5.0",
            "_model_name": "ProgressStyleModel",
            "_view_count": null,
            "_view_module": "@jupyter-widgets/base",
            "_view_module_version": "1.2.0",
            "_view_name": "StyleView",
            "bar_color": null,
            "description_width": ""
          }
        },
        "a3a8f20715224b10aa21e72646973fd7": {
          "model_module": "@jupyter-widgets/base",
          "model_name": "LayoutModel",
          "model_module_version": "1.2.0",
          "state": {
            "_model_module": "@jupyter-widgets/base",
            "_model_module_version": "1.2.0",
            "_model_name": "LayoutModel",
            "_view_count": null,
            "_view_module": "@jupyter-widgets/base",
            "_view_module_version": "1.2.0",
            "_view_name": "LayoutView",
            "align_content": null,
            "align_items": null,
            "align_self": null,
            "border": null,
            "bottom": null,
            "display": null,
            "flex": null,
            "flex_flow": null,
            "grid_area": null,
            "grid_auto_columns": null,
            "grid_auto_flow": null,
            "grid_auto_rows": null,
            "grid_column": null,
            "grid_gap": null,
            "grid_row": null,
            "grid_template_areas": null,
            "grid_template_columns": null,
            "grid_template_rows": null,
            "height": null,
            "justify_content": null,
            "justify_items": null,
            "left": null,
            "margin": null,
            "max_height": null,
            "max_width": null,
            "min_height": null,
            "min_width": null,
            "object_fit": null,
            "object_position": null,
            "order": null,
            "overflow": null,
            "overflow_x": null,
            "overflow_y": null,
            "padding": null,
            "right": null,
            "top": null,
            "visibility": null,
            "width": null
          }
        },
        "d50dbe8c8e1f4db1904ac55eba5fa479": {
          "model_module": "@jupyter-widgets/controls",
          "model_name": "DescriptionStyleModel",
          "model_module_version": "1.5.0",
          "state": {
            "_model_module": "@jupyter-widgets/controls",
            "_model_module_version": "1.5.0",
            "_model_name": "DescriptionStyleModel",
            "_view_count": null,
            "_view_module": "@jupyter-widgets/base",
            "_view_module_version": "1.2.0",
            "_view_name": "StyleView",
            "description_width": ""
          }
        },
        "7b4127558c664f4aaf97cd15a902fb3e": {
          "model_module": "@jupyter-widgets/controls",
          "model_name": "HBoxModel",
          "model_module_version": "1.5.0",
          "state": {
            "_dom_classes": [],
            "_model_module": "@jupyter-widgets/controls",
            "_model_module_version": "1.5.0",
            "_model_name": "HBoxModel",
            "_view_count": null,
            "_view_module": "@jupyter-widgets/controls",
            "_view_module_version": "1.5.0",
            "_view_name": "HBoxView",
            "box_style": "",
            "children": [
              "IPY_MODEL_2492802f08384e7bae6c7e0a87a64402",
              "IPY_MODEL_500d761ce449471a91b450ae90742cfe",
              "IPY_MODEL_6b0eecbfceb64bf8a41f3bee9dd0d1dd"
            ],
            "layout": "IPY_MODEL_94a008089fe84c6dbe601c4cc0d510ad"
          }
        },
        "2492802f08384e7bae6c7e0a87a64402": {
          "model_module": "@jupyter-widgets/controls",
          "model_name": "HTMLModel",
          "model_module_version": "1.5.0",
          "state": {
            "_dom_classes": [],
            "_model_module": "@jupyter-widgets/controls",
            "_model_module_version": "1.5.0",
            "_model_name": "HTMLModel",
            "_view_count": null,
            "_view_module": "@jupyter-widgets/controls",
            "_view_module_version": "1.5.0",
            "_view_name": "HTMLView",
            "description": "",
            "description_tooltip": null,
            "layout": "IPY_MODEL_0f75fbc74b2147c18229c030f0588b6b",
            "placeholder": "​",
            "style": "IPY_MODEL_3dc60952d5c2483291a39d8b6ba611f3",
            "value": "special_tokens_map.json: 100%"
          }
        },
        "500d761ce449471a91b450ae90742cfe": {
          "model_module": "@jupyter-widgets/controls",
          "model_name": "FloatProgressModel",
          "model_module_version": "1.5.0",
          "state": {
            "_dom_classes": [],
            "_model_module": "@jupyter-widgets/controls",
            "_model_module_version": "1.5.0",
            "_model_name": "FloatProgressModel",
            "_view_count": null,
            "_view_module": "@jupyter-widgets/controls",
            "_view_module_version": "1.5.0",
            "_view_name": "ProgressView",
            "bar_style": "success",
            "description": "",
            "description_tooltip": null,
            "layout": "IPY_MODEL_b5f0cce9a603404081944cce130c5579",
            "max": 296,
            "min": 0,
            "orientation": "horizontal",
            "style": "IPY_MODEL_5b71a45868594870b8ec731ab79a583c",
            "value": 296
          }
        },
        "6b0eecbfceb64bf8a41f3bee9dd0d1dd": {
          "model_module": "@jupyter-widgets/controls",
          "model_name": "HTMLModel",
          "model_module_version": "1.5.0",
          "state": {
            "_dom_classes": [],
            "_model_module": "@jupyter-widgets/controls",
            "_model_module_version": "1.5.0",
            "_model_name": "HTMLModel",
            "_view_count": null,
            "_view_module": "@jupyter-widgets/controls",
            "_view_module_version": "1.5.0",
            "_view_name": "HTMLView",
            "description": "",
            "description_tooltip": null,
            "layout": "IPY_MODEL_65d6ad4b4d3745ec80a3c7f683708984",
            "placeholder": "​",
            "style": "IPY_MODEL_3059f5ab0ad643d784dd52a1b6c7c84d",
            "value": " 296/296 [00:00&lt;00:00, 25.4kB/s]"
          }
        },
        "94a008089fe84c6dbe601c4cc0d510ad": {
          "model_module": "@jupyter-widgets/base",
          "model_name": "LayoutModel",
          "model_module_version": "1.2.0",
          "state": {
            "_model_module": "@jupyter-widgets/base",
            "_model_module_version": "1.2.0",
            "_model_name": "LayoutModel",
            "_view_count": null,
            "_view_module": "@jupyter-widgets/base",
            "_view_module_version": "1.2.0",
            "_view_name": "LayoutView",
            "align_content": null,
            "align_items": null,
            "align_self": null,
            "border": null,
            "bottom": null,
            "display": null,
            "flex": null,
            "flex_flow": null,
            "grid_area": null,
            "grid_auto_columns": null,
            "grid_auto_flow": null,
            "grid_auto_rows": null,
            "grid_column": null,
            "grid_gap": null,
            "grid_row": null,
            "grid_template_areas": null,
            "grid_template_columns": null,
            "grid_template_rows": null,
            "height": null,
            "justify_content": null,
            "justify_items": null,
            "left": null,
            "margin": null,
            "max_height": null,
            "max_width": null,
            "min_height": null,
            "min_width": null,
            "object_fit": null,
            "object_position": null,
            "order": null,
            "overflow": null,
            "overflow_x": null,
            "overflow_y": null,
            "padding": null,
            "right": null,
            "top": null,
            "visibility": null,
            "width": null
          }
        },
        "0f75fbc74b2147c18229c030f0588b6b": {
          "model_module": "@jupyter-widgets/base",
          "model_name": "LayoutModel",
          "model_module_version": "1.2.0",
          "state": {
            "_model_module": "@jupyter-widgets/base",
            "_model_module_version": "1.2.0",
            "_model_name": "LayoutModel",
            "_view_count": null,
            "_view_module": "@jupyter-widgets/base",
            "_view_module_version": "1.2.0",
            "_view_name": "LayoutView",
            "align_content": null,
            "align_items": null,
            "align_self": null,
            "border": null,
            "bottom": null,
            "display": null,
            "flex": null,
            "flex_flow": null,
            "grid_area": null,
            "grid_auto_columns": null,
            "grid_auto_flow": null,
            "grid_auto_rows": null,
            "grid_column": null,
            "grid_gap": null,
            "grid_row": null,
            "grid_template_areas": null,
            "grid_template_columns": null,
            "grid_template_rows": null,
            "height": null,
            "justify_content": null,
            "justify_items": null,
            "left": null,
            "margin": null,
            "max_height": null,
            "max_width": null,
            "min_height": null,
            "min_width": null,
            "object_fit": null,
            "object_position": null,
            "order": null,
            "overflow": null,
            "overflow_x": null,
            "overflow_y": null,
            "padding": null,
            "right": null,
            "top": null,
            "visibility": null,
            "width": null
          }
        },
        "3dc60952d5c2483291a39d8b6ba611f3": {
          "model_module": "@jupyter-widgets/controls",
          "model_name": "DescriptionStyleModel",
          "model_module_version": "1.5.0",
          "state": {
            "_model_module": "@jupyter-widgets/controls",
            "_model_module_version": "1.5.0",
            "_model_name": "DescriptionStyleModel",
            "_view_count": null,
            "_view_module": "@jupyter-widgets/base",
            "_view_module_version": "1.2.0",
            "_view_name": "StyleView",
            "description_width": ""
          }
        },
        "b5f0cce9a603404081944cce130c5579": {
          "model_module": "@jupyter-widgets/base",
          "model_name": "LayoutModel",
          "model_module_version": "1.2.0",
          "state": {
            "_model_module": "@jupyter-widgets/base",
            "_model_module_version": "1.2.0",
            "_model_name": "LayoutModel",
            "_view_count": null,
            "_view_module": "@jupyter-widgets/base",
            "_view_module_version": "1.2.0",
            "_view_name": "LayoutView",
            "align_content": null,
            "align_items": null,
            "align_self": null,
            "border": null,
            "bottom": null,
            "display": null,
            "flex": null,
            "flex_flow": null,
            "grid_area": null,
            "grid_auto_columns": null,
            "grid_auto_flow": null,
            "grid_auto_rows": null,
            "grid_column": null,
            "grid_gap": null,
            "grid_row": null,
            "grid_template_areas": null,
            "grid_template_columns": null,
            "grid_template_rows": null,
            "height": null,
            "justify_content": null,
            "justify_items": null,
            "left": null,
            "margin": null,
            "max_height": null,
            "max_width": null,
            "min_height": null,
            "min_width": null,
            "object_fit": null,
            "object_position": null,
            "order": null,
            "overflow": null,
            "overflow_x": null,
            "overflow_y": null,
            "padding": null,
            "right": null,
            "top": null,
            "visibility": null,
            "width": null
          }
        },
        "5b71a45868594870b8ec731ab79a583c": {
          "model_module": "@jupyter-widgets/controls",
          "model_name": "ProgressStyleModel",
          "model_module_version": "1.5.0",
          "state": {
            "_model_module": "@jupyter-widgets/controls",
            "_model_module_version": "1.5.0",
            "_model_name": "ProgressStyleModel",
            "_view_count": null,
            "_view_module": "@jupyter-widgets/base",
            "_view_module_version": "1.2.0",
            "_view_name": "StyleView",
            "bar_color": null,
            "description_width": ""
          }
        },
        "65d6ad4b4d3745ec80a3c7f683708984": {
          "model_module": "@jupyter-widgets/base",
          "model_name": "LayoutModel",
          "model_module_version": "1.2.0",
          "state": {
            "_model_module": "@jupyter-widgets/base",
            "_model_module_version": "1.2.0",
            "_model_name": "LayoutModel",
            "_view_count": null,
            "_view_module": "@jupyter-widgets/base",
            "_view_module_version": "1.2.0",
            "_view_name": "LayoutView",
            "align_content": null,
            "align_items": null,
            "align_self": null,
            "border": null,
            "bottom": null,
            "display": null,
            "flex": null,
            "flex_flow": null,
            "grid_area": null,
            "grid_auto_columns": null,
            "grid_auto_flow": null,
            "grid_auto_rows": null,
            "grid_column": null,
            "grid_gap": null,
            "grid_row": null,
            "grid_template_areas": null,
            "grid_template_columns": null,
            "grid_template_rows": null,
            "height": null,
            "justify_content": null,
            "justify_items": null,
            "left": null,
            "margin": null,
            "max_height": null,
            "max_width": null,
            "min_height": null,
            "min_width": null,
            "object_fit": null,
            "object_position": null,
            "order": null,
            "overflow": null,
            "overflow_x": null,
            "overflow_y": null,
            "padding": null,
            "right": null,
            "top": null,
            "visibility": null,
            "width": null
          }
        },
        "3059f5ab0ad643d784dd52a1b6c7c84d": {
          "model_module": "@jupyter-widgets/controls",
          "model_name": "DescriptionStyleModel",
          "model_module_version": "1.5.0",
          "state": {
            "_model_module": "@jupyter-widgets/controls",
            "_model_module_version": "1.5.0",
            "_model_name": "DescriptionStyleModel",
            "_view_count": null,
            "_view_module": "@jupyter-widgets/base",
            "_view_module_version": "1.2.0",
            "_view_name": "StyleView",
            "description_width": ""
          }
        },
        "1cf9f02ae1da40fd9e4df616d05eda5f": {
          "model_module": "@jupyter-widgets/controls",
          "model_name": "HBoxModel",
          "model_module_version": "1.5.0",
          "state": {
            "_dom_classes": [],
            "_model_module": "@jupyter-widgets/controls",
            "_model_module_version": "1.5.0",
            "_model_name": "HBoxModel",
            "_view_count": null,
            "_view_module": "@jupyter-widgets/controls",
            "_view_module_version": "1.5.0",
            "_view_name": "HBoxView",
            "box_style": "",
            "children": [
              "IPY_MODEL_d89372c04c384a2aa872c688c0a82625",
              "IPY_MODEL_c120e42591d24a918c56254aaccc9df7",
              "IPY_MODEL_5814ec5343054118a1d612c3fa8d01d9"
            ],
            "layout": "IPY_MODEL_aa309a04486e4c3daf678e0649ac620d"
          }
        },
        "d89372c04c384a2aa872c688c0a82625": {
          "model_module": "@jupyter-widgets/controls",
          "model_name": "HTMLModel",
          "model_module_version": "1.5.0",
          "state": {
            "_dom_classes": [],
            "_model_module": "@jupyter-widgets/controls",
            "_model_module_version": "1.5.0",
            "_model_name": "HTMLModel",
            "_view_count": null,
            "_view_module": "@jupyter-widgets/controls",
            "_view_module_version": "1.5.0",
            "_view_name": "HTMLView",
            "description": "",
            "description_tooltip": null,
            "layout": "IPY_MODEL_f6779038638046ea9eb97a2d8c4d1414",
            "placeholder": "​",
            "style": "IPY_MODEL_f23a829b14a74cd19a6a3157e045c0c0",
            "value": "config.json: 100%"
          }
        },
        "c120e42591d24a918c56254aaccc9df7": {
          "model_module": "@jupyter-widgets/controls",
          "model_name": "FloatProgressModel",
          "model_module_version": "1.5.0",
          "state": {
            "_dom_classes": [],
            "_model_module": "@jupyter-widgets/controls",
            "_model_module_version": "1.5.0",
            "_model_name": "FloatProgressModel",
            "_view_count": null,
            "_view_module": "@jupyter-widgets/controls",
            "_view_module_version": "1.5.0",
            "_view_name": "ProgressView",
            "bar_style": "success",
            "description": "",
            "description_tooltip": null,
            "layout": "IPY_MODEL_dffa0a747bd842e59b86f222714dae48",
            "max": 878,
            "min": 0,
            "orientation": "horizontal",
            "style": "IPY_MODEL_a21eb128f7da4478b2f78531ab8de0ee",
            "value": 878
          }
        },
        "5814ec5343054118a1d612c3fa8d01d9": {
          "model_module": "@jupyter-widgets/controls",
          "model_name": "HTMLModel",
          "model_module_version": "1.5.0",
          "state": {
            "_dom_classes": [],
            "_model_module": "@jupyter-widgets/controls",
            "_model_module_version": "1.5.0",
            "_model_name": "HTMLModel",
            "_view_count": null,
            "_view_module": "@jupyter-widgets/controls",
            "_view_module_version": "1.5.0",
            "_view_name": "HTMLView",
            "description": "",
            "description_tooltip": null,
            "layout": "IPY_MODEL_e99c1035000948d293c1540840826aaf",
            "placeholder": "​",
            "style": "IPY_MODEL_b775ca08d2f646c4a3417eb39b21065c",
            "value": " 878/878 [00:00&lt;00:00, 46.2kB/s]"
          }
        },
        "aa309a04486e4c3daf678e0649ac620d": {
          "model_module": "@jupyter-widgets/base",
          "model_name": "LayoutModel",
          "model_module_version": "1.2.0",
          "state": {
            "_model_module": "@jupyter-widgets/base",
            "_model_module_version": "1.2.0",
            "_model_name": "LayoutModel",
            "_view_count": null,
            "_view_module": "@jupyter-widgets/base",
            "_view_module_version": "1.2.0",
            "_view_name": "LayoutView",
            "align_content": null,
            "align_items": null,
            "align_self": null,
            "border": null,
            "bottom": null,
            "display": null,
            "flex": null,
            "flex_flow": null,
            "grid_area": null,
            "grid_auto_columns": null,
            "grid_auto_flow": null,
            "grid_auto_rows": null,
            "grid_column": null,
            "grid_gap": null,
            "grid_row": null,
            "grid_template_areas": null,
            "grid_template_columns": null,
            "grid_template_rows": null,
            "height": null,
            "justify_content": null,
            "justify_items": null,
            "left": null,
            "margin": null,
            "max_height": null,
            "max_width": null,
            "min_height": null,
            "min_width": null,
            "object_fit": null,
            "object_position": null,
            "order": null,
            "overflow": null,
            "overflow_x": null,
            "overflow_y": null,
            "padding": null,
            "right": null,
            "top": null,
            "visibility": null,
            "width": null
          }
        },
        "f6779038638046ea9eb97a2d8c4d1414": {
          "model_module": "@jupyter-widgets/base",
          "model_name": "LayoutModel",
          "model_module_version": "1.2.0",
          "state": {
            "_model_module": "@jupyter-widgets/base",
            "_model_module_version": "1.2.0",
            "_model_name": "LayoutModel",
            "_view_count": null,
            "_view_module": "@jupyter-widgets/base",
            "_view_module_version": "1.2.0",
            "_view_name": "LayoutView",
            "align_content": null,
            "align_items": null,
            "align_self": null,
            "border": null,
            "bottom": null,
            "display": null,
            "flex": null,
            "flex_flow": null,
            "grid_area": null,
            "grid_auto_columns": null,
            "grid_auto_flow": null,
            "grid_auto_rows": null,
            "grid_column": null,
            "grid_gap": null,
            "grid_row": null,
            "grid_template_areas": null,
            "grid_template_columns": null,
            "grid_template_rows": null,
            "height": null,
            "justify_content": null,
            "justify_items": null,
            "left": null,
            "margin": null,
            "max_height": null,
            "max_width": null,
            "min_height": null,
            "min_width": null,
            "object_fit": null,
            "object_position": null,
            "order": null,
            "overflow": null,
            "overflow_x": null,
            "overflow_y": null,
            "padding": null,
            "right": null,
            "top": null,
            "visibility": null,
            "width": null
          }
        },
        "f23a829b14a74cd19a6a3157e045c0c0": {
          "model_module": "@jupyter-widgets/controls",
          "model_name": "DescriptionStyleModel",
          "model_module_version": "1.5.0",
          "state": {
            "_model_module": "@jupyter-widgets/controls",
            "_model_module_version": "1.5.0",
            "_model_name": "DescriptionStyleModel",
            "_view_count": null,
            "_view_module": "@jupyter-widgets/base",
            "_view_module_version": "1.2.0",
            "_view_name": "StyleView",
            "description_width": ""
          }
        },
        "dffa0a747bd842e59b86f222714dae48": {
          "model_module": "@jupyter-widgets/base",
          "model_name": "LayoutModel",
          "model_module_version": "1.2.0",
          "state": {
            "_model_module": "@jupyter-widgets/base",
            "_model_module_version": "1.2.0",
            "_model_name": "LayoutModel",
            "_view_count": null,
            "_view_module": "@jupyter-widgets/base",
            "_view_module_version": "1.2.0",
            "_view_name": "LayoutView",
            "align_content": null,
            "align_items": null,
            "align_self": null,
            "border": null,
            "bottom": null,
            "display": null,
            "flex": null,
            "flex_flow": null,
            "grid_area": null,
            "grid_auto_columns": null,
            "grid_auto_flow": null,
            "grid_auto_rows": null,
            "grid_column": null,
            "grid_gap": null,
            "grid_row": null,
            "grid_template_areas": null,
            "grid_template_columns": null,
            "grid_template_rows": null,
            "height": null,
            "justify_content": null,
            "justify_items": null,
            "left": null,
            "margin": null,
            "max_height": null,
            "max_width": null,
            "min_height": null,
            "min_width": null,
            "object_fit": null,
            "object_position": null,
            "order": null,
            "overflow": null,
            "overflow_x": null,
            "overflow_y": null,
            "padding": null,
            "right": null,
            "top": null,
            "visibility": null,
            "width": null
          }
        },
        "a21eb128f7da4478b2f78531ab8de0ee": {
          "model_module": "@jupyter-widgets/controls",
          "model_name": "ProgressStyleModel",
          "model_module_version": "1.5.0",
          "state": {
            "_model_module": "@jupyter-widgets/controls",
            "_model_module_version": "1.5.0",
            "_model_name": "ProgressStyleModel",
            "_view_count": null,
            "_view_module": "@jupyter-widgets/base",
            "_view_module_version": "1.2.0",
            "_view_name": "StyleView",
            "bar_color": null,
            "description_width": ""
          }
        },
        "e99c1035000948d293c1540840826aaf": {
          "model_module": "@jupyter-widgets/base",
          "model_name": "LayoutModel",
          "model_module_version": "1.2.0",
          "state": {
            "_model_module": "@jupyter-widgets/base",
            "_model_module_version": "1.2.0",
            "_model_name": "LayoutModel",
            "_view_count": null,
            "_view_module": "@jupyter-widgets/base",
            "_view_module_version": "1.2.0",
            "_view_name": "LayoutView",
            "align_content": null,
            "align_items": null,
            "align_self": null,
            "border": null,
            "bottom": null,
            "display": null,
            "flex": null,
            "flex_flow": null,
            "grid_area": null,
            "grid_auto_columns": null,
            "grid_auto_flow": null,
            "grid_auto_rows": null,
            "grid_column": null,
            "grid_gap": null,
            "grid_row": null,
            "grid_template_areas": null,
            "grid_template_columns": null,
            "grid_template_rows": null,
            "height": null,
            "justify_content": null,
            "justify_items": null,
            "left": null,
            "margin": null,
            "max_height": null,
            "max_width": null,
            "min_height": null,
            "min_width": null,
            "object_fit": null,
            "object_position": null,
            "order": null,
            "overflow": null,
            "overflow_x": null,
            "overflow_y": null,
            "padding": null,
            "right": null,
            "top": null,
            "visibility": null,
            "width": null
          }
        },
        "b775ca08d2f646c4a3417eb39b21065c": {
          "model_module": "@jupyter-widgets/controls",
          "model_name": "DescriptionStyleModel",
          "model_module_version": "1.5.0",
          "state": {
            "_model_module": "@jupyter-widgets/controls",
            "_model_module_version": "1.5.0",
            "_model_name": "DescriptionStyleModel",
            "_view_count": null,
            "_view_module": "@jupyter-widgets/base",
            "_view_module_version": "1.2.0",
            "_view_name": "StyleView",
            "description_width": ""
          }
        },
        "bfbcf1faa01f450da15035e0f005b0e2": {
          "model_module": "@jupyter-widgets/controls",
          "model_name": "HBoxModel",
          "model_module_version": "1.5.0",
          "state": {
            "_dom_classes": [],
            "_model_module": "@jupyter-widgets/controls",
            "_model_module_version": "1.5.0",
            "_model_name": "HBoxModel",
            "_view_count": null,
            "_view_module": "@jupyter-widgets/controls",
            "_view_module_version": "1.5.0",
            "_view_name": "HBoxView",
            "box_style": "",
            "children": [
              "IPY_MODEL_9798afdb9e2444a5a44988446d45454f",
              "IPY_MODEL_9c5a637996ee4ff08afa19bb1669e914",
              "IPY_MODEL_f8e9e6ff7dbd41c1bd1904da1ab397ab"
            ],
            "layout": "IPY_MODEL_d738d6e938d64bc29dcf9b267aac95fc"
          }
        },
        "9798afdb9e2444a5a44988446d45454f": {
          "model_module": "@jupyter-widgets/controls",
          "model_name": "HTMLModel",
          "model_module_version": "1.5.0",
          "state": {
            "_dom_classes": [],
            "_model_module": "@jupyter-widgets/controls",
            "_model_module_version": "1.5.0",
            "_model_name": "HTMLModel",
            "_view_count": null,
            "_view_module": "@jupyter-widgets/controls",
            "_view_module_version": "1.5.0",
            "_view_name": "HTMLView",
            "description": "",
            "description_tooltip": null,
            "layout": "IPY_MODEL_aba096b6a17447f6a4dc1518765da008",
            "placeholder": "​",
            "style": "IPY_MODEL_6af052871e334d5fa65399380bf6a8af",
            "value": "model.safetensors.index.json: 100%"
          }
        },
        "9c5a637996ee4ff08afa19bb1669e914": {
          "model_module": "@jupyter-widgets/controls",
          "model_name": "FloatProgressModel",
          "model_module_version": "1.5.0",
          "state": {
            "_dom_classes": [],
            "_model_module": "@jupyter-widgets/controls",
            "_model_module_version": "1.5.0",
            "_model_name": "FloatProgressModel",
            "_view_count": null,
            "_view_module": "@jupyter-widgets/controls",
            "_view_module_version": "1.5.0",
            "_view_name": "ProgressView",
            "bar_style": "success",
            "description": "",
            "description_tooltip": null,
            "layout": "IPY_MODEL_5c775b8fe8c3474ca904dbeac95b88be",
            "max": 20919,
            "min": 0,
            "orientation": "horizontal",
            "style": "IPY_MODEL_857fab779f91479293f55e88fe7907fa",
            "value": 20919
          }
        },
        "f8e9e6ff7dbd41c1bd1904da1ab397ab": {
          "model_module": "@jupyter-widgets/controls",
          "model_name": "HTMLModel",
          "model_module_version": "1.5.0",
          "state": {
            "_dom_classes": [],
            "_model_module": "@jupyter-widgets/controls",
            "_model_module_version": "1.5.0",
            "_model_name": "HTMLModel",
            "_view_count": null,
            "_view_module": "@jupyter-widgets/controls",
            "_view_module_version": "1.5.0",
            "_view_name": "HTMLView",
            "description": "",
            "description_tooltip": null,
            "layout": "IPY_MODEL_024893b8303f4a4490d2c41c8ccc2f38",
            "placeholder": "​",
            "style": "IPY_MODEL_b665117141cc48048958df93b18f1e3d",
            "value": " 20.9k/20.9k [00:00&lt;00:00, 292kB/s]"
          }
        },
        "d738d6e938d64bc29dcf9b267aac95fc": {
          "model_module": "@jupyter-widgets/base",
          "model_name": "LayoutModel",
          "model_module_version": "1.2.0",
          "state": {
            "_model_module": "@jupyter-widgets/base",
            "_model_module_version": "1.2.0",
            "_model_name": "LayoutModel",
            "_view_count": null,
            "_view_module": "@jupyter-widgets/base",
            "_view_module_version": "1.2.0",
            "_view_name": "LayoutView",
            "align_content": null,
            "align_items": null,
            "align_self": null,
            "border": null,
            "bottom": null,
            "display": null,
            "flex": null,
            "flex_flow": null,
            "grid_area": null,
            "grid_auto_columns": null,
            "grid_auto_flow": null,
            "grid_auto_rows": null,
            "grid_column": null,
            "grid_gap": null,
            "grid_row": null,
            "grid_template_areas": null,
            "grid_template_columns": null,
            "grid_template_rows": null,
            "height": null,
            "justify_content": null,
            "justify_items": null,
            "left": null,
            "margin": null,
            "max_height": null,
            "max_width": null,
            "min_height": null,
            "min_width": null,
            "object_fit": null,
            "object_position": null,
            "order": null,
            "overflow": null,
            "overflow_x": null,
            "overflow_y": null,
            "padding": null,
            "right": null,
            "top": null,
            "visibility": null,
            "width": null
          }
        },
        "aba096b6a17447f6a4dc1518765da008": {
          "model_module": "@jupyter-widgets/base",
          "model_name": "LayoutModel",
          "model_module_version": "1.2.0",
          "state": {
            "_model_module": "@jupyter-widgets/base",
            "_model_module_version": "1.2.0",
            "_model_name": "LayoutModel",
            "_view_count": null,
            "_view_module": "@jupyter-widgets/base",
            "_view_module_version": "1.2.0",
            "_view_name": "LayoutView",
            "align_content": null,
            "align_items": null,
            "align_self": null,
            "border": null,
            "bottom": null,
            "display": null,
            "flex": null,
            "flex_flow": null,
            "grid_area": null,
            "grid_auto_columns": null,
            "grid_auto_flow": null,
            "grid_auto_rows": null,
            "grid_column": null,
            "grid_gap": null,
            "grid_row": null,
            "grid_template_areas": null,
            "grid_template_columns": null,
            "grid_template_rows": null,
            "height": null,
            "justify_content": null,
            "justify_items": null,
            "left": null,
            "margin": null,
            "max_height": null,
            "max_width": null,
            "min_height": null,
            "min_width": null,
            "object_fit": null,
            "object_position": null,
            "order": null,
            "overflow": null,
            "overflow_x": null,
            "overflow_y": null,
            "padding": null,
            "right": null,
            "top": null,
            "visibility": null,
            "width": null
          }
        },
        "6af052871e334d5fa65399380bf6a8af": {
          "model_module": "@jupyter-widgets/controls",
          "model_name": "DescriptionStyleModel",
          "model_module_version": "1.5.0",
          "state": {
            "_model_module": "@jupyter-widgets/controls",
            "_model_module_version": "1.5.0",
            "_model_name": "DescriptionStyleModel",
            "_view_count": null,
            "_view_module": "@jupyter-widgets/base",
            "_view_module_version": "1.2.0",
            "_view_name": "StyleView",
            "description_width": ""
          }
        },
        "5c775b8fe8c3474ca904dbeac95b88be": {
          "model_module": "@jupyter-widgets/base",
          "model_name": "LayoutModel",
          "model_module_version": "1.2.0",
          "state": {
            "_model_module": "@jupyter-widgets/base",
            "_model_module_version": "1.2.0",
            "_model_name": "LayoutModel",
            "_view_count": null,
            "_view_module": "@jupyter-widgets/base",
            "_view_module_version": "1.2.0",
            "_view_name": "LayoutView",
            "align_content": null,
            "align_items": null,
            "align_self": null,
            "border": null,
            "bottom": null,
            "display": null,
            "flex": null,
            "flex_flow": null,
            "grid_area": null,
            "grid_auto_columns": null,
            "grid_auto_flow": null,
            "grid_auto_rows": null,
            "grid_column": null,
            "grid_gap": null,
            "grid_row": null,
            "grid_template_areas": null,
            "grid_template_columns": null,
            "grid_template_rows": null,
            "height": null,
            "justify_content": null,
            "justify_items": null,
            "left": null,
            "margin": null,
            "max_height": null,
            "max_width": null,
            "min_height": null,
            "min_width": null,
            "object_fit": null,
            "object_position": null,
            "order": null,
            "overflow": null,
            "overflow_x": null,
            "overflow_y": null,
            "padding": null,
            "right": null,
            "top": null,
            "visibility": null,
            "width": null
          }
        },
        "857fab779f91479293f55e88fe7907fa": {
          "model_module": "@jupyter-widgets/controls",
          "model_name": "ProgressStyleModel",
          "model_module_version": "1.5.0",
          "state": {
            "_model_module": "@jupyter-widgets/controls",
            "_model_module_version": "1.5.0",
            "_model_name": "ProgressStyleModel",
            "_view_count": null,
            "_view_module": "@jupyter-widgets/base",
            "_view_module_version": "1.2.0",
            "_view_name": "StyleView",
            "bar_color": null,
            "description_width": ""
          }
        },
        "024893b8303f4a4490d2c41c8ccc2f38": {
          "model_module": "@jupyter-widgets/base",
          "model_name": "LayoutModel",
          "model_module_version": "1.2.0",
          "state": {
            "_model_module": "@jupyter-widgets/base",
            "_model_module_version": "1.2.0",
            "_model_name": "LayoutModel",
            "_view_count": null,
            "_view_module": "@jupyter-widgets/base",
            "_view_module_version": "1.2.0",
            "_view_name": "LayoutView",
            "align_content": null,
            "align_items": null,
            "align_self": null,
            "border": null,
            "bottom": null,
            "display": null,
            "flex": null,
            "flex_flow": null,
            "grid_area": null,
            "grid_auto_columns": null,
            "grid_auto_flow": null,
            "grid_auto_rows": null,
            "grid_column": null,
            "grid_gap": null,
            "grid_row": null,
            "grid_template_areas": null,
            "grid_template_columns": null,
            "grid_template_rows": null,
            "height": null,
            "justify_content": null,
            "justify_items": null,
            "left": null,
            "margin": null,
            "max_height": null,
            "max_width": null,
            "min_height": null,
            "min_width": null,
            "object_fit": null,
            "object_position": null,
            "order": null,
            "overflow": null,
            "overflow_x": null,
            "overflow_y": null,
            "padding": null,
            "right": null,
            "top": null,
            "visibility": null,
            "width": null
          }
        },
        "b665117141cc48048958df93b18f1e3d": {
          "model_module": "@jupyter-widgets/controls",
          "model_name": "DescriptionStyleModel",
          "model_module_version": "1.5.0",
          "state": {
            "_model_module": "@jupyter-widgets/controls",
            "_model_module_version": "1.5.0",
            "_model_name": "DescriptionStyleModel",
            "_view_count": null,
            "_view_module": "@jupyter-widgets/base",
            "_view_module_version": "1.2.0",
            "_view_name": "StyleView",
            "description_width": ""
          }
        },
        "1a8ead6b76624112a92d35b8aa7daa13": {
          "model_module": "@jupyter-widgets/controls",
          "model_name": "HBoxModel",
          "model_module_version": "1.5.0",
          "state": {
            "_dom_classes": [],
            "_model_module": "@jupyter-widgets/controls",
            "_model_module_version": "1.5.0",
            "_model_name": "HBoxModel",
            "_view_count": null,
            "_view_module": "@jupyter-widgets/controls",
            "_view_module_version": "1.5.0",
            "_view_name": "HBoxView",
            "box_style": "",
            "children": [
              "IPY_MODEL_e9cbb3e55ee84d1cb7e75f34d2a89375",
              "IPY_MODEL_6f948ea07d644f009e301b2a2ccf16a5",
              "IPY_MODEL_420e2d4427d84a0687fbef304ed11993"
            ],
            "layout": "IPY_MODEL_6b2bf71901a64d4a960fb28681d568fe"
          }
        },
        "e9cbb3e55ee84d1cb7e75f34d2a89375": {
          "model_module": "@jupyter-widgets/controls",
          "model_name": "HTMLModel",
          "model_module_version": "1.5.0",
          "state": {
            "_dom_classes": [],
            "_model_module": "@jupyter-widgets/controls",
            "_model_module_version": "1.5.0",
            "_model_name": "HTMLModel",
            "_view_count": null,
            "_view_module": "@jupyter-widgets/controls",
            "_view_module_version": "1.5.0",
            "_view_name": "HTMLView",
            "description": "",
            "description_tooltip": null,
            "layout": "IPY_MODEL_b3d953213f61480088b1ddefd8c40f05",
            "placeholder": "​",
            "style": "IPY_MODEL_d67e5296380b45df835c3b76c92dc158",
            "value": "Downloading shards: 100%"
          }
        },
        "6f948ea07d644f009e301b2a2ccf16a5": {
          "model_module": "@jupyter-widgets/controls",
          "model_name": "FloatProgressModel",
          "model_module_version": "1.5.0",
          "state": {
            "_dom_classes": [],
            "_model_module": "@jupyter-widgets/controls",
            "_model_module_version": "1.5.0",
            "_model_name": "FloatProgressModel",
            "_view_count": null,
            "_view_module": "@jupyter-widgets/controls",
            "_view_module_version": "1.5.0",
            "_view_name": "ProgressView",
            "bar_style": "success",
            "description": "",
            "description_tooltip": null,
            "layout": "IPY_MODEL_b4011dc1d98e4fba9699e15056f4055d",
            "max": 2,
            "min": 0,
            "orientation": "horizontal",
            "style": "IPY_MODEL_6f5f1be70a664ab5ac8ec8d6b64c1a42",
            "value": 2
          }
        },
        "420e2d4427d84a0687fbef304ed11993": {
          "model_module": "@jupyter-widgets/controls",
          "model_name": "HTMLModel",
          "model_module_version": "1.5.0",
          "state": {
            "_dom_classes": [],
            "_model_module": "@jupyter-widgets/controls",
            "_model_module_version": "1.5.0",
            "_model_name": "HTMLModel",
            "_view_count": null,
            "_view_module": "@jupyter-widgets/controls",
            "_view_module_version": "1.5.0",
            "_view_name": "HTMLView",
            "description": "",
            "description_tooltip": null,
            "layout": "IPY_MODEL_e30b248a465f4203a6c63d4856472787",
            "placeholder": "​",
            "style": "IPY_MODEL_c75faf48319b48bf8f39863901f8b6e9",
            "value": " 2/2 [02:33&lt;00:00, 69.31s/it]"
          }
        },
        "6b2bf71901a64d4a960fb28681d568fe": {
          "model_module": "@jupyter-widgets/base",
          "model_name": "LayoutModel",
          "model_module_version": "1.2.0",
          "state": {
            "_model_module": "@jupyter-widgets/base",
            "_model_module_version": "1.2.0",
            "_model_name": "LayoutModel",
            "_view_count": null,
            "_view_module": "@jupyter-widgets/base",
            "_view_module_version": "1.2.0",
            "_view_name": "LayoutView",
            "align_content": null,
            "align_items": null,
            "align_self": null,
            "border": null,
            "bottom": null,
            "display": null,
            "flex": null,
            "flex_flow": null,
            "grid_area": null,
            "grid_auto_columns": null,
            "grid_auto_flow": null,
            "grid_auto_rows": null,
            "grid_column": null,
            "grid_gap": null,
            "grid_row": null,
            "grid_template_areas": null,
            "grid_template_columns": null,
            "grid_template_rows": null,
            "height": null,
            "justify_content": null,
            "justify_items": null,
            "left": null,
            "margin": null,
            "max_height": null,
            "max_width": null,
            "min_height": null,
            "min_width": null,
            "object_fit": null,
            "object_position": null,
            "order": null,
            "overflow": null,
            "overflow_x": null,
            "overflow_y": null,
            "padding": null,
            "right": null,
            "top": null,
            "visibility": null,
            "width": null
          }
        },
        "b3d953213f61480088b1ddefd8c40f05": {
          "model_module": "@jupyter-widgets/base",
          "model_name": "LayoutModel",
          "model_module_version": "1.2.0",
          "state": {
            "_model_module": "@jupyter-widgets/base",
            "_model_module_version": "1.2.0",
            "_model_name": "LayoutModel",
            "_view_count": null,
            "_view_module": "@jupyter-widgets/base",
            "_view_module_version": "1.2.0",
            "_view_name": "LayoutView",
            "align_content": null,
            "align_items": null,
            "align_self": null,
            "border": null,
            "bottom": null,
            "display": null,
            "flex": null,
            "flex_flow": null,
            "grid_area": null,
            "grid_auto_columns": null,
            "grid_auto_flow": null,
            "grid_auto_rows": null,
            "grid_column": null,
            "grid_gap": null,
            "grid_row": null,
            "grid_template_areas": null,
            "grid_template_columns": null,
            "grid_template_rows": null,
            "height": null,
            "justify_content": null,
            "justify_items": null,
            "left": null,
            "margin": null,
            "max_height": null,
            "max_width": null,
            "min_height": null,
            "min_width": null,
            "object_fit": null,
            "object_position": null,
            "order": null,
            "overflow": null,
            "overflow_x": null,
            "overflow_y": null,
            "padding": null,
            "right": null,
            "top": null,
            "visibility": null,
            "width": null
          }
        },
        "d67e5296380b45df835c3b76c92dc158": {
          "model_module": "@jupyter-widgets/controls",
          "model_name": "DescriptionStyleModel",
          "model_module_version": "1.5.0",
          "state": {
            "_model_module": "@jupyter-widgets/controls",
            "_model_module_version": "1.5.0",
            "_model_name": "DescriptionStyleModel",
            "_view_count": null,
            "_view_module": "@jupyter-widgets/base",
            "_view_module_version": "1.2.0",
            "_view_name": "StyleView",
            "description_width": ""
          }
        },
        "b4011dc1d98e4fba9699e15056f4055d": {
          "model_module": "@jupyter-widgets/base",
          "model_name": "LayoutModel",
          "model_module_version": "1.2.0",
          "state": {
            "_model_module": "@jupyter-widgets/base",
            "_model_module_version": "1.2.0",
            "_model_name": "LayoutModel",
            "_view_count": null,
            "_view_module": "@jupyter-widgets/base",
            "_view_module_version": "1.2.0",
            "_view_name": "LayoutView",
            "align_content": null,
            "align_items": null,
            "align_self": null,
            "border": null,
            "bottom": null,
            "display": null,
            "flex": null,
            "flex_flow": null,
            "grid_area": null,
            "grid_auto_columns": null,
            "grid_auto_flow": null,
            "grid_auto_rows": null,
            "grid_column": null,
            "grid_gap": null,
            "grid_row": null,
            "grid_template_areas": null,
            "grid_template_columns": null,
            "grid_template_rows": null,
            "height": null,
            "justify_content": null,
            "justify_items": null,
            "left": null,
            "margin": null,
            "max_height": null,
            "max_width": null,
            "min_height": null,
            "min_width": null,
            "object_fit": null,
            "object_position": null,
            "order": null,
            "overflow": null,
            "overflow_x": null,
            "overflow_y": null,
            "padding": null,
            "right": null,
            "top": null,
            "visibility": null,
            "width": null
          }
        },
        "6f5f1be70a664ab5ac8ec8d6b64c1a42": {
          "model_module": "@jupyter-widgets/controls",
          "model_name": "ProgressStyleModel",
          "model_module_version": "1.5.0",
          "state": {
            "_model_module": "@jupyter-widgets/controls",
            "_model_module_version": "1.5.0",
            "_model_name": "ProgressStyleModel",
            "_view_count": null,
            "_view_module": "@jupyter-widgets/base",
            "_view_module_version": "1.2.0",
            "_view_name": "StyleView",
            "bar_color": null,
            "description_width": ""
          }
        },
        "e30b248a465f4203a6c63d4856472787": {
          "model_module": "@jupyter-widgets/base",
          "model_name": "LayoutModel",
          "model_module_version": "1.2.0",
          "state": {
            "_model_module": "@jupyter-widgets/base",
            "_model_module_version": "1.2.0",
            "_model_name": "LayoutModel",
            "_view_count": null,
            "_view_module": "@jupyter-widgets/base",
            "_view_module_version": "1.2.0",
            "_view_name": "LayoutView",
            "align_content": null,
            "align_items": null,
            "align_self": null,
            "border": null,
            "bottom": null,
            "display": null,
            "flex": null,
            "flex_flow": null,
            "grid_area": null,
            "grid_auto_columns": null,
            "grid_auto_flow": null,
            "grid_auto_rows": null,
            "grid_column": null,
            "grid_gap": null,
            "grid_row": null,
            "grid_template_areas": null,
            "grid_template_columns": null,
            "grid_template_rows": null,
            "height": null,
            "justify_content": null,
            "justify_items": null,
            "left": null,
            "margin": null,
            "max_height": null,
            "max_width": null,
            "min_height": null,
            "min_width": null,
            "object_fit": null,
            "object_position": null,
            "order": null,
            "overflow": null,
            "overflow_x": null,
            "overflow_y": null,
            "padding": null,
            "right": null,
            "top": null,
            "visibility": null,
            "width": null
          }
        },
        "c75faf48319b48bf8f39863901f8b6e9": {
          "model_module": "@jupyter-widgets/controls",
          "model_name": "DescriptionStyleModel",
          "model_module_version": "1.5.0",
          "state": {
            "_model_module": "@jupyter-widgets/controls",
            "_model_module_version": "1.5.0",
            "_model_name": "DescriptionStyleModel",
            "_view_count": null,
            "_view_module": "@jupyter-widgets/base",
            "_view_module_version": "1.2.0",
            "_view_name": "StyleView",
            "description_width": ""
          }
        },
        "8eac8f52033f41adab38e3f4351b21cb": {
          "model_module": "@jupyter-widgets/controls",
          "model_name": "HBoxModel",
          "model_module_version": "1.5.0",
          "state": {
            "_dom_classes": [],
            "_model_module": "@jupyter-widgets/controls",
            "_model_module_version": "1.5.0",
            "_model_name": "HBoxModel",
            "_view_count": null,
            "_view_module": "@jupyter-widgets/controls",
            "_view_module_version": "1.5.0",
            "_view_name": "HBoxView",
            "box_style": "",
            "children": [
              "IPY_MODEL_b0f9af146c344636a7bb08724b562e3e",
              "IPY_MODEL_3f4e3e85297741839c87e7946c465f57",
              "IPY_MODEL_645649d18d154e45802db3b1c92e73c6"
            ],
            "layout": "IPY_MODEL_9bb6bf8b3fd040e589dd301ce42a4108"
          }
        },
        "b0f9af146c344636a7bb08724b562e3e": {
          "model_module": "@jupyter-widgets/controls",
          "model_name": "HTMLModel",
          "model_module_version": "1.5.0",
          "state": {
            "_dom_classes": [],
            "_model_module": "@jupyter-widgets/controls",
            "_model_module_version": "1.5.0",
            "_model_name": "HTMLModel",
            "_view_count": null,
            "_view_module": "@jupyter-widgets/controls",
            "_view_module_version": "1.5.0",
            "_view_name": "HTMLView",
            "description": "",
            "description_tooltip": null,
            "layout": "IPY_MODEL_76abe193314d40e1841b8729ff4f7f06",
            "placeholder": "​",
            "style": "IPY_MODEL_5ee259ebd97a428690bacbca52a4e939",
            "value": "model-00001-of-00002.safetensors: 100%"
          }
        },
        "3f4e3e85297741839c87e7946c465f57": {
          "model_module": "@jupyter-widgets/controls",
          "model_name": "FloatProgressModel",
          "model_module_version": "1.5.0",
          "state": {
            "_dom_classes": [],
            "_model_module": "@jupyter-widgets/controls",
            "_model_module_version": "1.5.0",
            "_model_name": "FloatProgressModel",
            "_view_count": null,
            "_view_module": "@jupyter-widgets/controls",
            "_view_module_version": "1.5.0",
            "_view_name": "ProgressView",
            "bar_style": "success",
            "description": "",
            "description_tooltip": null,
            "layout": "IPY_MODEL_c8a73d7f64064e27a3b64ef489298a3a",
            "max": 4965799096,
            "min": 0,
            "orientation": "horizontal",
            "style": "IPY_MODEL_13d9e70d442d416f98f3355468e600bb",
            "value": 4965799096
          }
        },
        "645649d18d154e45802db3b1c92e73c6": {
          "model_module": "@jupyter-widgets/controls",
          "model_name": "HTMLModel",
          "model_module_version": "1.5.0",
          "state": {
            "_dom_classes": [],
            "_model_module": "@jupyter-widgets/controls",
            "_model_module_version": "1.5.0",
            "_model_name": "HTMLModel",
            "_view_count": null,
            "_view_module": "@jupyter-widgets/controls",
            "_view_module_version": "1.5.0",
            "_view_name": "HTMLView",
            "description": "",
            "description_tooltip": null,
            "layout": "IPY_MODEL_bba412f36ec24d9ab9cb01825ab1d89e",
            "placeholder": "​",
            "style": "IPY_MODEL_35ec94717524429e8906ae6a62b43f7c",
            "value": " 4.97G/4.97G [01:58&lt;00:00, 42.5MB/s]"
          }
        },
        "9bb6bf8b3fd040e589dd301ce42a4108": {
          "model_module": "@jupyter-widgets/base",
          "model_name": "LayoutModel",
          "model_module_version": "1.2.0",
          "state": {
            "_model_module": "@jupyter-widgets/base",
            "_model_module_version": "1.2.0",
            "_model_name": "LayoutModel",
            "_view_count": null,
            "_view_module": "@jupyter-widgets/base",
            "_view_module_version": "1.2.0",
            "_view_name": "LayoutView",
            "align_content": null,
            "align_items": null,
            "align_self": null,
            "border": null,
            "bottom": null,
            "display": null,
            "flex": null,
            "flex_flow": null,
            "grid_area": null,
            "grid_auto_columns": null,
            "grid_auto_flow": null,
            "grid_auto_rows": null,
            "grid_column": null,
            "grid_gap": null,
            "grid_row": null,
            "grid_template_areas": null,
            "grid_template_columns": null,
            "grid_template_rows": null,
            "height": null,
            "justify_content": null,
            "justify_items": null,
            "left": null,
            "margin": null,
            "max_height": null,
            "max_width": null,
            "min_height": null,
            "min_width": null,
            "object_fit": null,
            "object_position": null,
            "order": null,
            "overflow": null,
            "overflow_x": null,
            "overflow_y": null,
            "padding": null,
            "right": null,
            "top": null,
            "visibility": null,
            "width": null
          }
        },
        "76abe193314d40e1841b8729ff4f7f06": {
          "model_module": "@jupyter-widgets/base",
          "model_name": "LayoutModel",
          "model_module_version": "1.2.0",
          "state": {
            "_model_module": "@jupyter-widgets/base",
            "_model_module_version": "1.2.0",
            "_model_name": "LayoutModel",
            "_view_count": null,
            "_view_module": "@jupyter-widgets/base",
            "_view_module_version": "1.2.0",
            "_view_name": "LayoutView",
            "align_content": null,
            "align_items": null,
            "align_self": null,
            "border": null,
            "bottom": null,
            "display": null,
            "flex": null,
            "flex_flow": null,
            "grid_area": null,
            "grid_auto_columns": null,
            "grid_auto_flow": null,
            "grid_auto_rows": null,
            "grid_column": null,
            "grid_gap": null,
            "grid_row": null,
            "grid_template_areas": null,
            "grid_template_columns": null,
            "grid_template_rows": null,
            "height": null,
            "justify_content": null,
            "justify_items": null,
            "left": null,
            "margin": null,
            "max_height": null,
            "max_width": null,
            "min_height": null,
            "min_width": null,
            "object_fit": null,
            "object_position": null,
            "order": null,
            "overflow": null,
            "overflow_x": null,
            "overflow_y": null,
            "padding": null,
            "right": null,
            "top": null,
            "visibility": null,
            "width": null
          }
        },
        "5ee259ebd97a428690bacbca52a4e939": {
          "model_module": "@jupyter-widgets/controls",
          "model_name": "DescriptionStyleModel",
          "model_module_version": "1.5.0",
          "state": {
            "_model_module": "@jupyter-widgets/controls",
            "_model_module_version": "1.5.0",
            "_model_name": "DescriptionStyleModel",
            "_view_count": null,
            "_view_module": "@jupyter-widgets/base",
            "_view_module_version": "1.2.0",
            "_view_name": "StyleView",
            "description_width": ""
          }
        },
        "c8a73d7f64064e27a3b64ef489298a3a": {
          "model_module": "@jupyter-widgets/base",
          "model_name": "LayoutModel",
          "model_module_version": "1.2.0",
          "state": {
            "_model_module": "@jupyter-widgets/base",
            "_model_module_version": "1.2.0",
            "_model_name": "LayoutModel",
            "_view_count": null,
            "_view_module": "@jupyter-widgets/base",
            "_view_module_version": "1.2.0",
            "_view_name": "LayoutView",
            "align_content": null,
            "align_items": null,
            "align_self": null,
            "border": null,
            "bottom": null,
            "display": null,
            "flex": null,
            "flex_flow": null,
            "grid_area": null,
            "grid_auto_columns": null,
            "grid_auto_flow": null,
            "grid_auto_rows": null,
            "grid_column": null,
            "grid_gap": null,
            "grid_row": null,
            "grid_template_areas": null,
            "grid_template_columns": null,
            "grid_template_rows": null,
            "height": null,
            "justify_content": null,
            "justify_items": null,
            "left": null,
            "margin": null,
            "max_height": null,
            "max_width": null,
            "min_height": null,
            "min_width": null,
            "object_fit": null,
            "object_position": null,
            "order": null,
            "overflow": null,
            "overflow_x": null,
            "overflow_y": null,
            "padding": null,
            "right": null,
            "top": null,
            "visibility": null,
            "width": null
          }
        },
        "13d9e70d442d416f98f3355468e600bb": {
          "model_module": "@jupyter-widgets/controls",
          "model_name": "ProgressStyleModel",
          "model_module_version": "1.5.0",
          "state": {
            "_model_module": "@jupyter-widgets/controls",
            "_model_module_version": "1.5.0",
            "_model_name": "ProgressStyleModel",
            "_view_count": null,
            "_view_module": "@jupyter-widgets/base",
            "_view_module_version": "1.2.0",
            "_view_name": "StyleView",
            "bar_color": null,
            "description_width": ""
          }
        },
        "bba412f36ec24d9ab9cb01825ab1d89e": {
          "model_module": "@jupyter-widgets/base",
          "model_name": "LayoutModel",
          "model_module_version": "1.2.0",
          "state": {
            "_model_module": "@jupyter-widgets/base",
            "_model_module_version": "1.2.0",
            "_model_name": "LayoutModel",
            "_view_count": null,
            "_view_module": "@jupyter-widgets/base",
            "_view_module_version": "1.2.0",
            "_view_name": "LayoutView",
            "align_content": null,
            "align_items": null,
            "align_self": null,
            "border": null,
            "bottom": null,
            "display": null,
            "flex": null,
            "flex_flow": null,
            "grid_area": null,
            "grid_auto_columns": null,
            "grid_auto_flow": null,
            "grid_auto_rows": null,
            "grid_column": null,
            "grid_gap": null,
            "grid_row": null,
            "grid_template_areas": null,
            "grid_template_columns": null,
            "grid_template_rows": null,
            "height": null,
            "justify_content": null,
            "justify_items": null,
            "left": null,
            "margin": null,
            "max_height": null,
            "max_width": null,
            "min_height": null,
            "min_width": null,
            "object_fit": null,
            "object_position": null,
            "order": null,
            "overflow": null,
            "overflow_x": null,
            "overflow_y": null,
            "padding": null,
            "right": null,
            "top": null,
            "visibility": null,
            "width": null
          }
        },
        "35ec94717524429e8906ae6a62b43f7c": {
          "model_module": "@jupyter-widgets/controls",
          "model_name": "DescriptionStyleModel",
          "model_module_version": "1.5.0",
          "state": {
            "_model_module": "@jupyter-widgets/controls",
            "_model_module_version": "1.5.0",
            "_model_name": "DescriptionStyleModel",
            "_view_count": null,
            "_view_module": "@jupyter-widgets/base",
            "_view_module_version": "1.2.0",
            "_view_name": "StyleView",
            "description_width": ""
          }
        },
        "dcc0d542c0034f7fa497f02a7be1de9a": {
          "model_module": "@jupyter-widgets/controls",
          "model_name": "HBoxModel",
          "model_module_version": "1.5.0",
          "state": {
            "_dom_classes": [],
            "_model_module": "@jupyter-widgets/controls",
            "_model_module_version": "1.5.0",
            "_model_name": "HBoxModel",
            "_view_count": null,
            "_view_module": "@jupyter-widgets/controls",
            "_view_module_version": "1.5.0",
            "_view_name": "HBoxView",
            "box_style": "",
            "children": [
              "IPY_MODEL_9a100e7dc10d464fbffa9e73f15c469c",
              "IPY_MODEL_4e41b57a046345759670ef993583b7b1",
              "IPY_MODEL_1e45b8591f7941ab9fccf0b1465ae3a3"
            ],
            "layout": "IPY_MODEL_3167e29e32a74466b7c150a2e1f8479c"
          }
        },
        "9a100e7dc10d464fbffa9e73f15c469c": {
          "model_module": "@jupyter-widgets/controls",
          "model_name": "HTMLModel",
          "model_module_version": "1.5.0",
          "state": {
            "_dom_classes": [],
            "_model_module": "@jupyter-widgets/controls",
            "_model_module_version": "1.5.0",
            "_model_name": "HTMLModel",
            "_view_count": null,
            "_view_module": "@jupyter-widgets/controls",
            "_view_module_version": "1.5.0",
            "_view_name": "HTMLView",
            "description": "",
            "description_tooltip": null,
            "layout": "IPY_MODEL_f22ec334efbd4094a4705869ed00c887",
            "placeholder": "​",
            "style": "IPY_MODEL_0d0bf3235e3648019ebce27f519c5914",
            "value": "model-00002-of-00002.safetensors: 100%"
          }
        },
        "4e41b57a046345759670ef993583b7b1": {
          "model_module": "@jupyter-widgets/controls",
          "model_name": "FloatProgressModel",
          "model_module_version": "1.5.0",
          "state": {
            "_dom_classes": [],
            "_model_module": "@jupyter-widgets/controls",
            "_model_module_version": "1.5.0",
            "_model_name": "FloatProgressModel",
            "_view_count": null,
            "_view_module": "@jupyter-widgets/controls",
            "_view_module_version": "1.5.0",
            "_view_name": "ProgressView",
            "bar_style": "success",
            "description": "",
            "description_tooltip": null,
            "layout": "IPY_MODEL_ab08223957684c6da4ad6bbe6d56b525",
            "max": 1459729952,
            "min": 0,
            "orientation": "horizontal",
            "style": "IPY_MODEL_686f89bf49864ed09b9e3fcda814937a",
            "value": 1459729952
          }
        },
        "1e45b8591f7941ab9fccf0b1465ae3a3": {
          "model_module": "@jupyter-widgets/controls",
          "model_name": "HTMLModel",
          "model_module_version": "1.5.0",
          "state": {
            "_dom_classes": [],
            "_model_module": "@jupyter-widgets/controls",
            "_model_module_version": "1.5.0",
            "_model_name": "HTMLModel",
            "_view_count": null,
            "_view_module": "@jupyter-widgets/controls",
            "_view_module_version": "1.5.0",
            "_view_name": "HTMLView",
            "description": "",
            "description_tooltip": null,
            "layout": "IPY_MODEL_1cefe4a6c0da46f7af8c1f439955b700",
            "placeholder": "​",
            "style": "IPY_MODEL_f5d77393e7e04973a4660f9fcee7fd00",
            "value": " 1.46G/1.46G [00:34&lt;00:00, 40.9MB/s]"
          }
        },
        "3167e29e32a74466b7c150a2e1f8479c": {
          "model_module": "@jupyter-widgets/base",
          "model_name": "LayoutModel",
          "model_module_version": "1.2.0",
          "state": {
            "_model_module": "@jupyter-widgets/base",
            "_model_module_version": "1.2.0",
            "_model_name": "LayoutModel",
            "_view_count": null,
            "_view_module": "@jupyter-widgets/base",
            "_view_module_version": "1.2.0",
            "_view_name": "LayoutView",
            "align_content": null,
            "align_items": null,
            "align_self": null,
            "border": null,
            "bottom": null,
            "display": null,
            "flex": null,
            "flex_flow": null,
            "grid_area": null,
            "grid_auto_columns": null,
            "grid_auto_flow": null,
            "grid_auto_rows": null,
            "grid_column": null,
            "grid_gap": null,
            "grid_row": null,
            "grid_template_areas": null,
            "grid_template_columns": null,
            "grid_template_rows": null,
            "height": null,
            "justify_content": null,
            "justify_items": null,
            "left": null,
            "margin": null,
            "max_height": null,
            "max_width": null,
            "min_height": null,
            "min_width": null,
            "object_fit": null,
            "object_position": null,
            "order": null,
            "overflow": null,
            "overflow_x": null,
            "overflow_y": null,
            "padding": null,
            "right": null,
            "top": null,
            "visibility": null,
            "width": null
          }
        },
        "f22ec334efbd4094a4705869ed00c887": {
          "model_module": "@jupyter-widgets/base",
          "model_name": "LayoutModel",
          "model_module_version": "1.2.0",
          "state": {
            "_model_module": "@jupyter-widgets/base",
            "_model_module_version": "1.2.0",
            "_model_name": "LayoutModel",
            "_view_count": null,
            "_view_module": "@jupyter-widgets/base",
            "_view_module_version": "1.2.0",
            "_view_name": "LayoutView",
            "align_content": null,
            "align_items": null,
            "align_self": null,
            "border": null,
            "bottom": null,
            "display": null,
            "flex": null,
            "flex_flow": null,
            "grid_area": null,
            "grid_auto_columns": null,
            "grid_auto_flow": null,
            "grid_auto_rows": null,
            "grid_column": null,
            "grid_gap": null,
            "grid_row": null,
            "grid_template_areas": null,
            "grid_template_columns": null,
            "grid_template_rows": null,
            "height": null,
            "justify_content": null,
            "justify_items": null,
            "left": null,
            "margin": null,
            "max_height": null,
            "max_width": null,
            "min_height": null,
            "min_width": null,
            "object_fit": null,
            "object_position": null,
            "order": null,
            "overflow": null,
            "overflow_x": null,
            "overflow_y": null,
            "padding": null,
            "right": null,
            "top": null,
            "visibility": null,
            "width": null
          }
        },
        "0d0bf3235e3648019ebce27f519c5914": {
          "model_module": "@jupyter-widgets/controls",
          "model_name": "DescriptionStyleModel",
          "model_module_version": "1.5.0",
          "state": {
            "_model_module": "@jupyter-widgets/controls",
            "_model_module_version": "1.5.0",
            "_model_name": "DescriptionStyleModel",
            "_view_count": null,
            "_view_module": "@jupyter-widgets/base",
            "_view_module_version": "1.2.0",
            "_view_name": "StyleView",
            "description_width": ""
          }
        },
        "ab08223957684c6da4ad6bbe6d56b525": {
          "model_module": "@jupyter-widgets/base",
          "model_name": "LayoutModel",
          "model_module_version": "1.2.0",
          "state": {
            "_model_module": "@jupyter-widgets/base",
            "_model_module_version": "1.2.0",
            "_model_name": "LayoutModel",
            "_view_count": null,
            "_view_module": "@jupyter-widgets/base",
            "_view_module_version": "1.2.0",
            "_view_name": "LayoutView",
            "align_content": null,
            "align_items": null,
            "align_self": null,
            "border": null,
            "bottom": null,
            "display": null,
            "flex": null,
            "flex_flow": null,
            "grid_area": null,
            "grid_auto_columns": null,
            "grid_auto_flow": null,
            "grid_auto_rows": null,
            "grid_column": null,
            "grid_gap": null,
            "grid_row": null,
            "grid_template_areas": null,
            "grid_template_columns": null,
            "grid_template_rows": null,
            "height": null,
            "justify_content": null,
            "justify_items": null,
            "left": null,
            "margin": null,
            "max_height": null,
            "max_width": null,
            "min_height": null,
            "min_width": null,
            "object_fit": null,
            "object_position": null,
            "order": null,
            "overflow": null,
            "overflow_x": null,
            "overflow_y": null,
            "padding": null,
            "right": null,
            "top": null,
            "visibility": null,
            "width": null
          }
        },
        "686f89bf49864ed09b9e3fcda814937a": {
          "model_module": "@jupyter-widgets/controls",
          "model_name": "ProgressStyleModel",
          "model_module_version": "1.5.0",
          "state": {
            "_model_module": "@jupyter-widgets/controls",
            "_model_module_version": "1.5.0",
            "_model_name": "ProgressStyleModel",
            "_view_count": null,
            "_view_module": "@jupyter-widgets/base",
            "_view_module_version": "1.2.0",
            "_view_name": "StyleView",
            "bar_color": null,
            "description_width": ""
          }
        },
        "1cefe4a6c0da46f7af8c1f439955b700": {
          "model_module": "@jupyter-widgets/base",
          "model_name": "LayoutModel",
          "model_module_version": "1.2.0",
          "state": {
            "_model_module": "@jupyter-widgets/base",
            "_model_module_version": "1.2.0",
            "_model_name": "LayoutModel",
            "_view_count": null,
            "_view_module": "@jupyter-widgets/base",
            "_view_module_version": "1.2.0",
            "_view_name": "LayoutView",
            "align_content": null,
            "align_items": null,
            "align_self": null,
            "border": null,
            "bottom": null,
            "display": null,
            "flex": null,
            "flex_flow": null,
            "grid_area": null,
            "grid_auto_columns": null,
            "grid_auto_flow": null,
            "grid_auto_rows": null,
            "grid_column": null,
            "grid_gap": null,
            "grid_row": null,
            "grid_template_areas": null,
            "grid_template_columns": null,
            "grid_template_rows": null,
            "height": null,
            "justify_content": null,
            "justify_items": null,
            "left": null,
            "margin": null,
            "max_height": null,
            "max_width": null,
            "min_height": null,
            "min_width": null,
            "object_fit": null,
            "object_position": null,
            "order": null,
            "overflow": null,
            "overflow_x": null,
            "overflow_y": null,
            "padding": null,
            "right": null,
            "top": null,
            "visibility": null,
            "width": null
          }
        },
        "f5d77393e7e04973a4660f9fcee7fd00": {
          "model_module": "@jupyter-widgets/controls",
          "model_name": "DescriptionStyleModel",
          "model_module_version": "1.5.0",
          "state": {
            "_model_module": "@jupyter-widgets/controls",
            "_model_module_version": "1.5.0",
            "_model_name": "DescriptionStyleModel",
            "_view_count": null,
            "_view_module": "@jupyter-widgets/base",
            "_view_module_version": "1.2.0",
            "_view_name": "StyleView",
            "description_width": ""
          }
        },
        "e17fd3873ca14ca5ad85ac8889ec7c81": {
          "model_module": "@jupyter-widgets/controls",
          "model_name": "HBoxModel",
          "model_module_version": "1.5.0",
          "state": {
            "_dom_classes": [],
            "_model_module": "@jupyter-widgets/controls",
            "_model_module_version": "1.5.0",
            "_model_name": "HBoxModel",
            "_view_count": null,
            "_view_module": "@jupyter-widgets/controls",
            "_view_module_version": "1.5.0",
            "_view_name": "HBoxView",
            "box_style": "",
            "children": [
              "IPY_MODEL_af96834f036e49a2a13ab872b6326896",
              "IPY_MODEL_f96e5c98976d4ecda2166f7c2f479cc5",
              "IPY_MODEL_11c9742e2170422486d195853c72c624"
            ],
            "layout": "IPY_MODEL_3507ef361f844924baafc5c9ab4e481f"
          }
        },
        "af96834f036e49a2a13ab872b6326896": {
          "model_module": "@jupyter-widgets/controls",
          "model_name": "HTMLModel",
          "model_module_version": "1.5.0",
          "state": {
            "_dom_classes": [],
            "_model_module": "@jupyter-widgets/controls",
            "_model_module_version": "1.5.0",
            "_model_name": "HTMLModel",
            "_view_count": null,
            "_view_module": "@jupyter-widgets/controls",
            "_view_module_version": "1.5.0",
            "_view_name": "HTMLView",
            "description": "",
            "description_tooltip": null,
            "layout": "IPY_MODEL_2b917f943de043b990143a918d6e2a7c",
            "placeholder": "​",
            "style": "IPY_MODEL_c5f81195a061434393afb23f072cc478",
            "value": "Loading checkpoint shards: 100%"
          }
        },
        "f96e5c98976d4ecda2166f7c2f479cc5": {
          "model_module": "@jupyter-widgets/controls",
          "model_name": "FloatProgressModel",
          "model_module_version": "1.5.0",
          "state": {
            "_dom_classes": [],
            "_model_module": "@jupyter-widgets/controls",
            "_model_module_version": "1.5.0",
            "_model_name": "FloatProgressModel",
            "_view_count": null,
            "_view_module": "@jupyter-widgets/controls",
            "_view_module_version": "1.5.0",
            "_view_name": "ProgressView",
            "bar_style": "success",
            "description": "",
            "description_tooltip": null,
            "layout": "IPY_MODEL_6114279922174305942153bc7f8a6dd9",
            "max": 2,
            "min": 0,
            "orientation": "horizontal",
            "style": "IPY_MODEL_03124b6fe4ed4e108bda9f6006215983",
            "value": 2
          }
        },
        "11c9742e2170422486d195853c72c624": {
          "model_module": "@jupyter-widgets/controls",
          "model_name": "HTMLModel",
          "model_module_version": "1.5.0",
          "state": {
            "_dom_classes": [],
            "_model_module": "@jupyter-widgets/controls",
            "_model_module_version": "1.5.0",
            "_model_name": "HTMLModel",
            "_view_count": null,
            "_view_module": "@jupyter-widgets/controls",
            "_view_module_version": "1.5.0",
            "_view_name": "HTMLView",
            "description": "",
            "description_tooltip": null,
            "layout": "IPY_MODEL_2d37794d53aa4a988993feb69b00167d",
            "placeholder": "​",
            "style": "IPY_MODEL_740b809f363c45799eb7bfd3f29ef534",
            "value": " 2/2 [00:29&lt;00:00, 13.61s/it]"
          }
        },
        "3507ef361f844924baafc5c9ab4e481f": {
          "model_module": "@jupyter-widgets/base",
          "model_name": "LayoutModel",
          "model_module_version": "1.2.0",
          "state": {
            "_model_module": "@jupyter-widgets/base",
            "_model_module_version": "1.2.0",
            "_model_name": "LayoutModel",
            "_view_count": null,
            "_view_module": "@jupyter-widgets/base",
            "_view_module_version": "1.2.0",
            "_view_name": "LayoutView",
            "align_content": null,
            "align_items": null,
            "align_self": null,
            "border": null,
            "bottom": null,
            "display": null,
            "flex": null,
            "flex_flow": null,
            "grid_area": null,
            "grid_auto_columns": null,
            "grid_auto_flow": null,
            "grid_auto_rows": null,
            "grid_column": null,
            "grid_gap": null,
            "grid_row": null,
            "grid_template_areas": null,
            "grid_template_columns": null,
            "grid_template_rows": null,
            "height": null,
            "justify_content": null,
            "justify_items": null,
            "left": null,
            "margin": null,
            "max_height": null,
            "max_width": null,
            "min_height": null,
            "min_width": null,
            "object_fit": null,
            "object_position": null,
            "order": null,
            "overflow": null,
            "overflow_x": null,
            "overflow_y": null,
            "padding": null,
            "right": null,
            "top": null,
            "visibility": null,
            "width": null
          }
        },
        "2b917f943de043b990143a918d6e2a7c": {
          "model_module": "@jupyter-widgets/base",
          "model_name": "LayoutModel",
          "model_module_version": "1.2.0",
          "state": {
            "_model_module": "@jupyter-widgets/base",
            "_model_module_version": "1.2.0",
            "_model_name": "LayoutModel",
            "_view_count": null,
            "_view_module": "@jupyter-widgets/base",
            "_view_module_version": "1.2.0",
            "_view_name": "LayoutView",
            "align_content": null,
            "align_items": null,
            "align_self": null,
            "border": null,
            "bottom": null,
            "display": null,
            "flex": null,
            "flex_flow": null,
            "grid_area": null,
            "grid_auto_columns": null,
            "grid_auto_flow": null,
            "grid_auto_rows": null,
            "grid_column": null,
            "grid_gap": null,
            "grid_row": null,
            "grid_template_areas": null,
            "grid_template_columns": null,
            "grid_template_rows": null,
            "height": null,
            "justify_content": null,
            "justify_items": null,
            "left": null,
            "margin": null,
            "max_height": null,
            "max_width": null,
            "min_height": null,
            "min_width": null,
            "object_fit": null,
            "object_position": null,
            "order": null,
            "overflow": null,
            "overflow_x": null,
            "overflow_y": null,
            "padding": null,
            "right": null,
            "top": null,
            "visibility": null,
            "width": null
          }
        },
        "c5f81195a061434393afb23f072cc478": {
          "model_module": "@jupyter-widgets/controls",
          "model_name": "DescriptionStyleModel",
          "model_module_version": "1.5.0",
          "state": {
            "_model_module": "@jupyter-widgets/controls",
            "_model_module_version": "1.5.0",
            "_model_name": "DescriptionStyleModel",
            "_view_count": null,
            "_view_module": "@jupyter-widgets/base",
            "_view_module_version": "1.2.0",
            "_view_name": "StyleView",
            "description_width": ""
          }
        },
        "6114279922174305942153bc7f8a6dd9": {
          "model_module": "@jupyter-widgets/base",
          "model_name": "LayoutModel",
          "model_module_version": "1.2.0",
          "state": {
            "_model_module": "@jupyter-widgets/base",
            "_model_module_version": "1.2.0",
            "_model_name": "LayoutModel",
            "_view_count": null,
            "_view_module": "@jupyter-widgets/base",
            "_view_module_version": "1.2.0",
            "_view_name": "LayoutView",
            "align_content": null,
            "align_items": null,
            "align_self": null,
            "border": null,
            "bottom": null,
            "display": null,
            "flex": null,
            "flex_flow": null,
            "grid_area": null,
            "grid_auto_columns": null,
            "grid_auto_flow": null,
            "grid_auto_rows": null,
            "grid_column": null,
            "grid_gap": null,
            "grid_row": null,
            "grid_template_areas": null,
            "grid_template_columns": null,
            "grid_template_rows": null,
            "height": null,
            "justify_content": null,
            "justify_items": null,
            "left": null,
            "margin": null,
            "max_height": null,
            "max_width": null,
            "min_height": null,
            "min_width": null,
            "object_fit": null,
            "object_position": null,
            "order": null,
            "overflow": null,
            "overflow_x": null,
            "overflow_y": null,
            "padding": null,
            "right": null,
            "top": null,
            "visibility": null,
            "width": null
          }
        },
        "03124b6fe4ed4e108bda9f6006215983": {
          "model_module": "@jupyter-widgets/controls",
          "model_name": "ProgressStyleModel",
          "model_module_version": "1.5.0",
          "state": {
            "_model_module": "@jupyter-widgets/controls",
            "_model_module_version": "1.5.0",
            "_model_name": "ProgressStyleModel",
            "_view_count": null,
            "_view_module": "@jupyter-widgets/base",
            "_view_module_version": "1.2.0",
            "_view_name": "StyleView",
            "bar_color": null,
            "description_width": ""
          }
        },
        "2d37794d53aa4a988993feb69b00167d": {
          "model_module": "@jupyter-widgets/base",
          "model_name": "LayoutModel",
          "model_module_version": "1.2.0",
          "state": {
            "_model_module": "@jupyter-widgets/base",
            "_model_module_version": "1.2.0",
            "_model_name": "LayoutModel",
            "_view_count": null,
            "_view_module": "@jupyter-widgets/base",
            "_view_module_version": "1.2.0",
            "_view_name": "LayoutView",
            "align_content": null,
            "align_items": null,
            "align_self": null,
            "border": null,
            "bottom": null,
            "display": null,
            "flex": null,
            "flex_flow": null,
            "grid_area": null,
            "grid_auto_columns": null,
            "grid_auto_flow": null,
            "grid_auto_rows": null,
            "grid_column": null,
            "grid_gap": null,
            "grid_row": null,
            "grid_template_areas": null,
            "grid_template_columns": null,
            "grid_template_rows": null,
            "height": null,
            "justify_content": null,
            "justify_items": null,
            "left": null,
            "margin": null,
            "max_height": null,
            "max_width": null,
            "min_height": null,
            "min_width": null,
            "object_fit": null,
            "object_position": null,
            "order": null,
            "overflow": null,
            "overflow_x": null,
            "overflow_y": null,
            "padding": null,
            "right": null,
            "top": null,
            "visibility": null,
            "width": null
          }
        },
        "740b809f363c45799eb7bfd3f29ef534": {
          "model_module": "@jupyter-widgets/controls",
          "model_name": "DescriptionStyleModel",
          "model_module_version": "1.5.0",
          "state": {
            "_model_module": "@jupyter-widgets/controls",
            "_model_module_version": "1.5.0",
            "_model_name": "DescriptionStyleModel",
            "_view_count": null,
            "_view_module": "@jupyter-widgets/base",
            "_view_module_version": "1.2.0",
            "_view_name": "StyleView",
            "description_width": ""
          }
        },
        "2e3a63b7422746ce90f54b1f03f6129b": {
          "model_module": "@jupyter-widgets/controls",
          "model_name": "HBoxModel",
          "model_module_version": "1.5.0",
          "state": {
            "_dom_classes": [],
            "_model_module": "@jupyter-widgets/controls",
            "_model_module_version": "1.5.0",
            "_model_name": "HBoxModel",
            "_view_count": null,
            "_view_module": "@jupyter-widgets/controls",
            "_view_module_version": "1.5.0",
            "_view_name": "HBoxView",
            "box_style": "",
            "children": [
              "IPY_MODEL_7d0538860e9943de8205b52ba2dcb2c4",
              "IPY_MODEL_a04f365231564afda79edd9a200f0176",
              "IPY_MODEL_d10cfab639b94b08bd3e7c8fee6428d9"
            ],
            "layout": "IPY_MODEL_f455ec2f74b047158b914d805a49c992"
          }
        },
        "7d0538860e9943de8205b52ba2dcb2c4": {
          "model_module": "@jupyter-widgets/controls",
          "model_name": "HTMLModel",
          "model_module_version": "1.5.0",
          "state": {
            "_dom_classes": [],
            "_model_module": "@jupyter-widgets/controls",
            "_model_module_version": "1.5.0",
            "_model_name": "HTMLModel",
            "_view_count": null,
            "_view_module": "@jupyter-widgets/controls",
            "_view_module_version": "1.5.0",
            "_view_name": "HTMLView",
            "description": "",
            "description_tooltip": null,
            "layout": "IPY_MODEL_7b261ebdc6c74ecabc955a2a8a06217a",
            "placeholder": "​",
            "style": "IPY_MODEL_72032cb91cbd4f29a7c194fa051423db",
            "value": "generation_config.json: 100%"
          }
        },
        "a04f365231564afda79edd9a200f0176": {
          "model_module": "@jupyter-widgets/controls",
          "model_name": "FloatProgressModel",
          "model_module_version": "1.5.0",
          "state": {
            "_dom_classes": [],
            "_model_module": "@jupyter-widgets/controls",
            "_model_module_version": "1.5.0",
            "_model_name": "FloatProgressModel",
            "_view_count": null,
            "_view_module": "@jupyter-widgets/controls",
            "_view_module_version": "1.5.0",
            "_view_name": "ProgressView",
            "bar_style": "success",
            "description": "",
            "description_tooltip": null,
            "layout": "IPY_MODEL_e6136423c8534cfe8157b828d898030f",
            "max": 189,
            "min": 0,
            "orientation": "horizontal",
            "style": "IPY_MODEL_65a19c0065424ff69e501421aeedc7cf",
            "value": 189
          }
        },
        "d10cfab639b94b08bd3e7c8fee6428d9": {
          "model_module": "@jupyter-widgets/controls",
          "model_name": "HTMLModel",
          "model_module_version": "1.5.0",
          "state": {
            "_dom_classes": [],
            "_model_module": "@jupyter-widgets/controls",
            "_model_module_version": "1.5.0",
            "_model_name": "HTMLModel",
            "_view_count": null,
            "_view_module": "@jupyter-widgets/controls",
            "_view_module_version": "1.5.0",
            "_view_name": "HTMLView",
            "description": "",
            "description_tooltip": null,
            "layout": "IPY_MODEL_f85f7f1af3004dda989d3d4435cc37d8",
            "placeholder": "​",
            "style": "IPY_MODEL_509599bb3a97431dbe0b7cc711bcfe57",
            "value": " 189/189 [00:00&lt;00:00, 12.8kB/s]"
          }
        },
        "f455ec2f74b047158b914d805a49c992": {
          "model_module": "@jupyter-widgets/base",
          "model_name": "LayoutModel",
          "model_module_version": "1.2.0",
          "state": {
            "_model_module": "@jupyter-widgets/base",
            "_model_module_version": "1.2.0",
            "_model_name": "LayoutModel",
            "_view_count": null,
            "_view_module": "@jupyter-widgets/base",
            "_view_module_version": "1.2.0",
            "_view_name": "LayoutView",
            "align_content": null,
            "align_items": null,
            "align_self": null,
            "border": null,
            "bottom": null,
            "display": null,
            "flex": null,
            "flex_flow": null,
            "grid_area": null,
            "grid_auto_columns": null,
            "grid_auto_flow": null,
            "grid_auto_rows": null,
            "grid_column": null,
            "grid_gap": null,
            "grid_row": null,
            "grid_template_areas": null,
            "grid_template_columns": null,
            "grid_template_rows": null,
            "height": null,
            "justify_content": null,
            "justify_items": null,
            "left": null,
            "margin": null,
            "max_height": null,
            "max_width": null,
            "min_height": null,
            "min_width": null,
            "object_fit": null,
            "object_position": null,
            "order": null,
            "overflow": null,
            "overflow_x": null,
            "overflow_y": null,
            "padding": null,
            "right": null,
            "top": null,
            "visibility": null,
            "width": null
          }
        },
        "7b261ebdc6c74ecabc955a2a8a06217a": {
          "model_module": "@jupyter-widgets/base",
          "model_name": "LayoutModel",
          "model_module_version": "1.2.0",
          "state": {
            "_model_module": "@jupyter-widgets/base",
            "_model_module_version": "1.2.0",
            "_model_name": "LayoutModel",
            "_view_count": null,
            "_view_module": "@jupyter-widgets/base",
            "_view_module_version": "1.2.0",
            "_view_name": "LayoutView",
            "align_content": null,
            "align_items": null,
            "align_self": null,
            "border": null,
            "bottom": null,
            "display": null,
            "flex": null,
            "flex_flow": null,
            "grid_area": null,
            "grid_auto_columns": null,
            "grid_auto_flow": null,
            "grid_auto_rows": null,
            "grid_column": null,
            "grid_gap": null,
            "grid_row": null,
            "grid_template_areas": null,
            "grid_template_columns": null,
            "grid_template_rows": null,
            "height": null,
            "justify_content": null,
            "justify_items": null,
            "left": null,
            "margin": null,
            "max_height": null,
            "max_width": null,
            "min_height": null,
            "min_width": null,
            "object_fit": null,
            "object_position": null,
            "order": null,
            "overflow": null,
            "overflow_x": null,
            "overflow_y": null,
            "padding": null,
            "right": null,
            "top": null,
            "visibility": null,
            "width": null
          }
        },
        "72032cb91cbd4f29a7c194fa051423db": {
          "model_module": "@jupyter-widgets/controls",
          "model_name": "DescriptionStyleModel",
          "model_module_version": "1.5.0",
          "state": {
            "_model_module": "@jupyter-widgets/controls",
            "_model_module_version": "1.5.0",
            "_model_name": "DescriptionStyleModel",
            "_view_count": null,
            "_view_module": "@jupyter-widgets/base",
            "_view_module_version": "1.2.0",
            "_view_name": "StyleView",
            "description_width": ""
          }
        },
        "e6136423c8534cfe8157b828d898030f": {
          "model_module": "@jupyter-widgets/base",
          "model_name": "LayoutModel",
          "model_module_version": "1.2.0",
          "state": {
            "_model_module": "@jupyter-widgets/base",
            "_model_module_version": "1.2.0",
            "_model_name": "LayoutModel",
            "_view_count": null,
            "_view_module": "@jupyter-widgets/base",
            "_view_module_version": "1.2.0",
            "_view_name": "LayoutView",
            "align_content": null,
            "align_items": null,
            "align_self": null,
            "border": null,
            "bottom": null,
            "display": null,
            "flex": null,
            "flex_flow": null,
            "grid_area": null,
            "grid_auto_columns": null,
            "grid_auto_flow": null,
            "grid_auto_rows": null,
            "grid_column": null,
            "grid_gap": null,
            "grid_row": null,
            "grid_template_areas": null,
            "grid_template_columns": null,
            "grid_template_rows": null,
            "height": null,
            "justify_content": null,
            "justify_items": null,
            "left": null,
            "margin": null,
            "max_height": null,
            "max_width": null,
            "min_height": null,
            "min_width": null,
            "object_fit": null,
            "object_position": null,
            "order": null,
            "overflow": null,
            "overflow_x": null,
            "overflow_y": null,
            "padding": null,
            "right": null,
            "top": null,
            "visibility": null,
            "width": null
          }
        },
        "65a19c0065424ff69e501421aeedc7cf": {
          "model_module": "@jupyter-widgets/controls",
          "model_name": "ProgressStyleModel",
          "model_module_version": "1.5.0",
          "state": {
            "_model_module": "@jupyter-widgets/controls",
            "_model_module_version": "1.5.0",
            "_model_name": "ProgressStyleModel",
            "_view_count": null,
            "_view_module": "@jupyter-widgets/base",
            "_view_module_version": "1.2.0",
            "_view_name": "StyleView",
            "bar_color": null,
            "description_width": ""
          }
        },
        "f85f7f1af3004dda989d3d4435cc37d8": {
          "model_module": "@jupyter-widgets/base",
          "model_name": "LayoutModel",
          "model_module_version": "1.2.0",
          "state": {
            "_model_module": "@jupyter-widgets/base",
            "_model_module_version": "1.2.0",
            "_model_name": "LayoutModel",
            "_view_count": null,
            "_view_module": "@jupyter-widgets/base",
            "_view_module_version": "1.2.0",
            "_view_name": "LayoutView",
            "align_content": null,
            "align_items": null,
            "align_self": null,
            "border": null,
            "bottom": null,
            "display": null,
            "flex": null,
            "flex_flow": null,
            "grid_area": null,
            "grid_auto_columns": null,
            "grid_auto_flow": null,
            "grid_auto_rows": null,
            "grid_column": null,
            "grid_gap": null,
            "grid_row": null,
            "grid_template_areas": null,
            "grid_template_columns": null,
            "grid_template_rows": null,
            "height": null,
            "justify_content": null,
            "justify_items": null,
            "left": null,
            "margin": null,
            "max_height": null,
            "max_width": null,
            "min_height": null,
            "min_width": null,
            "object_fit": null,
            "object_position": null,
            "order": null,
            "overflow": null,
            "overflow_x": null,
            "overflow_y": null,
            "padding": null,
            "right": null,
            "top": null,
            "visibility": null,
            "width": null
          }
        },
        "509599bb3a97431dbe0b7cc711bcfe57": {
          "model_module": "@jupyter-widgets/controls",
          "model_name": "DescriptionStyleModel",
          "model_module_version": "1.5.0",
          "state": {
            "_model_module": "@jupyter-widgets/controls",
            "_model_module_version": "1.5.0",
            "_model_name": "DescriptionStyleModel",
            "_view_count": null,
            "_view_module": "@jupyter-widgets/base",
            "_view_module_version": "1.2.0",
            "_view_name": "StyleView",
            "description_width": ""
          }
        },
        "b013ae8aaf5348f7abcf22e0a55beddd": {
          "model_module": "@jupyter-widgets/controls",
          "model_name": "HBoxModel",
          "model_module_version": "1.5.0",
          "state": {
            "_dom_classes": [],
            "_model_module": "@jupyter-widgets/controls",
            "_model_module_version": "1.5.0",
            "_model_name": "HBoxModel",
            "_view_count": null,
            "_view_module": "@jupyter-widgets/controls",
            "_view_module_version": "1.5.0",
            "_view_name": "HBoxView",
            "box_style": "",
            "children": [
              "IPY_MODEL_b2faa9d3dd374cb9bb9296ce106d2ba6",
              "IPY_MODEL_816ab30a17fb44fd8a31dcc635ab7f0e",
              "IPY_MODEL_33ddf9a1117e4f75ad63ed9368ecd91a"
            ],
            "layout": "IPY_MODEL_d52e82b1874a4e68970ba5b88e3ef1ba"
          }
        },
        "b2faa9d3dd374cb9bb9296ce106d2ba6": {
          "model_module": "@jupyter-widgets/controls",
          "model_name": "HTMLModel",
          "model_module_version": "1.5.0",
          "state": {
            "_dom_classes": [],
            "_model_module": "@jupyter-widgets/controls",
            "_model_module_version": "1.5.0",
            "_model_name": "HTMLModel",
            "_view_count": null,
            "_view_module": "@jupyter-widgets/controls",
            "_view_module_version": "1.5.0",
            "_view_name": "HTMLView",
            "description": "",
            "description_tooltip": null,
            "layout": "IPY_MODEL_ca7699233d45438583f741f1f26503e5",
            "placeholder": "​",
            "style": "IPY_MODEL_a44d04cba68f46059058ca61c48553e0",
            "value": "config.json: 100%"
          }
        },
        "816ab30a17fb44fd8a31dcc635ab7f0e": {
          "model_module": "@jupyter-widgets/controls",
          "model_name": "FloatProgressModel",
          "model_module_version": "1.5.0",
          "state": {
            "_dom_classes": [],
            "_model_module": "@jupyter-widgets/controls",
            "_model_module_version": "1.5.0",
            "_model_name": "FloatProgressModel",
            "_view_count": null,
            "_view_module": "@jupyter-widgets/controls",
            "_view_module_version": "1.5.0",
            "_view_name": "ProgressView",
            "bar_style": "success",
            "description": "",
            "description_tooltip": null,
            "layout": "IPY_MODEL_36a7a62b090747ba8788a67297725c8e",
            "max": 533,
            "min": 0,
            "orientation": "horizontal",
            "style": "IPY_MODEL_0e5657e7eaef4e4386f813999376622e",
            "value": 533
          }
        },
        "33ddf9a1117e4f75ad63ed9368ecd91a": {
          "model_module": "@jupyter-widgets/controls",
          "model_name": "HTMLModel",
          "model_module_version": "1.5.0",
          "state": {
            "_dom_classes": [],
            "_model_module": "@jupyter-widgets/controls",
            "_model_module_version": "1.5.0",
            "_model_name": "HTMLModel",
            "_view_count": null,
            "_view_module": "@jupyter-widgets/controls",
            "_view_module_version": "1.5.0",
            "_view_name": "HTMLView",
            "description": "",
            "description_tooltip": null,
            "layout": "IPY_MODEL_8ec0df2832fe4415b6c2d984ace69358",
            "placeholder": "​",
            "style": "IPY_MODEL_d1215de212ec40d6802cbc595bf673ca",
            "value": " 533/533 [00:00&lt;00:00, 34.7kB/s]"
          }
        },
        "d52e82b1874a4e68970ba5b88e3ef1ba": {
          "model_module": "@jupyter-widgets/base",
          "model_name": "LayoutModel",
          "model_module_version": "1.2.0",
          "state": {
            "_model_module": "@jupyter-widgets/base",
            "_model_module_version": "1.2.0",
            "_model_name": "LayoutModel",
            "_view_count": null,
            "_view_module": "@jupyter-widgets/base",
            "_view_module_version": "1.2.0",
            "_view_name": "LayoutView",
            "align_content": null,
            "align_items": null,
            "align_self": null,
            "border": null,
            "bottom": null,
            "display": null,
            "flex": null,
            "flex_flow": null,
            "grid_area": null,
            "grid_auto_columns": null,
            "grid_auto_flow": null,
            "grid_auto_rows": null,
            "grid_column": null,
            "grid_gap": null,
            "grid_row": null,
            "grid_template_areas": null,
            "grid_template_columns": null,
            "grid_template_rows": null,
            "height": null,
            "justify_content": null,
            "justify_items": null,
            "left": null,
            "margin": null,
            "max_height": null,
            "max_width": null,
            "min_height": null,
            "min_width": null,
            "object_fit": null,
            "object_position": null,
            "order": null,
            "overflow": null,
            "overflow_x": null,
            "overflow_y": null,
            "padding": null,
            "right": null,
            "top": null,
            "visibility": null,
            "width": null
          }
        },
        "ca7699233d45438583f741f1f26503e5": {
          "model_module": "@jupyter-widgets/base",
          "model_name": "LayoutModel",
          "model_module_version": "1.2.0",
          "state": {
            "_model_module": "@jupyter-widgets/base",
            "_model_module_version": "1.2.0",
            "_model_name": "LayoutModel",
            "_view_count": null,
            "_view_module": "@jupyter-widgets/base",
            "_view_module_version": "1.2.0",
            "_view_name": "LayoutView",
            "align_content": null,
            "align_items": null,
            "align_self": null,
            "border": null,
            "bottom": null,
            "display": null,
            "flex": null,
            "flex_flow": null,
            "grid_area": null,
            "grid_auto_columns": null,
            "grid_auto_flow": null,
            "grid_auto_rows": null,
            "grid_column": null,
            "grid_gap": null,
            "grid_row": null,
            "grid_template_areas": null,
            "grid_template_columns": null,
            "grid_template_rows": null,
            "height": null,
            "justify_content": null,
            "justify_items": null,
            "left": null,
            "margin": null,
            "max_height": null,
            "max_width": null,
            "min_height": null,
            "min_width": null,
            "object_fit": null,
            "object_position": null,
            "order": null,
            "overflow": null,
            "overflow_x": null,
            "overflow_y": null,
            "padding": null,
            "right": null,
            "top": null,
            "visibility": null,
            "width": null
          }
        },
        "a44d04cba68f46059058ca61c48553e0": {
          "model_module": "@jupyter-widgets/controls",
          "model_name": "DescriptionStyleModel",
          "model_module_version": "1.5.0",
          "state": {
            "_model_module": "@jupyter-widgets/controls",
            "_model_module_version": "1.5.0",
            "_model_name": "DescriptionStyleModel",
            "_view_count": null,
            "_view_module": "@jupyter-widgets/base",
            "_view_module_version": "1.2.0",
            "_view_name": "StyleView",
            "description_width": ""
          }
        },
        "36a7a62b090747ba8788a67297725c8e": {
          "model_module": "@jupyter-widgets/base",
          "model_name": "LayoutModel",
          "model_module_version": "1.2.0",
          "state": {
            "_model_module": "@jupyter-widgets/base",
            "_model_module_version": "1.2.0",
            "_model_name": "LayoutModel",
            "_view_count": null,
            "_view_module": "@jupyter-widgets/base",
            "_view_module_version": "1.2.0",
            "_view_name": "LayoutView",
            "align_content": null,
            "align_items": null,
            "align_self": null,
            "border": null,
            "bottom": null,
            "display": null,
            "flex": null,
            "flex_flow": null,
            "grid_area": null,
            "grid_auto_columns": null,
            "grid_auto_flow": null,
            "grid_auto_rows": null,
            "grid_column": null,
            "grid_gap": null,
            "grid_row": null,
            "grid_template_areas": null,
            "grid_template_columns": null,
            "grid_template_rows": null,
            "height": null,
            "justify_content": null,
            "justify_items": null,
            "left": null,
            "margin": null,
            "max_height": null,
            "max_width": null,
            "min_height": null,
            "min_width": null,
            "object_fit": null,
            "object_position": null,
            "order": null,
            "overflow": null,
            "overflow_x": null,
            "overflow_y": null,
            "padding": null,
            "right": null,
            "top": null,
            "visibility": null,
            "width": null
          }
        },
        "0e5657e7eaef4e4386f813999376622e": {
          "model_module": "@jupyter-widgets/controls",
          "model_name": "ProgressStyleModel",
          "model_module_version": "1.5.0",
          "state": {
            "_model_module": "@jupyter-widgets/controls",
            "_model_module_version": "1.5.0",
            "_model_name": "ProgressStyleModel",
            "_view_count": null,
            "_view_module": "@jupyter-widgets/base",
            "_view_module_version": "1.2.0",
            "_view_name": "StyleView",
            "bar_color": null,
            "description_width": ""
          }
        },
        "8ec0df2832fe4415b6c2d984ace69358": {
          "model_module": "@jupyter-widgets/base",
          "model_name": "LayoutModel",
          "model_module_version": "1.2.0",
          "state": {
            "_model_module": "@jupyter-widgets/base",
            "_model_module_version": "1.2.0",
            "_model_name": "LayoutModel",
            "_view_count": null,
            "_view_module": "@jupyter-widgets/base",
            "_view_module_version": "1.2.0",
            "_view_name": "LayoutView",
            "align_content": null,
            "align_items": null,
            "align_self": null,
            "border": null,
            "bottom": null,
            "display": null,
            "flex": null,
            "flex_flow": null,
            "grid_area": null,
            "grid_auto_columns": null,
            "grid_auto_flow": null,
            "grid_auto_rows": null,
            "grid_column": null,
            "grid_gap": null,
            "grid_row": null,
            "grid_template_areas": null,
            "grid_template_columns": null,
            "grid_template_rows": null,
            "height": null,
            "justify_content": null,
            "justify_items": null,
            "left": null,
            "margin": null,
            "max_height": null,
            "max_width": null,
            "min_height": null,
            "min_width": null,
            "object_fit": null,
            "object_position": null,
            "order": null,
            "overflow": null,
            "overflow_x": null,
            "overflow_y": null,
            "padding": null,
            "right": null,
            "top": null,
            "visibility": null,
            "width": null
          }
        },
        "d1215de212ec40d6802cbc595bf673ca": {
          "model_module": "@jupyter-widgets/controls",
          "model_name": "DescriptionStyleModel",
          "model_module_version": "1.5.0",
          "state": {
            "_model_module": "@jupyter-widgets/controls",
            "_model_module_version": "1.5.0",
            "_model_name": "DescriptionStyleModel",
            "_view_count": null,
            "_view_module": "@jupyter-widgets/base",
            "_view_module_version": "1.2.0",
            "_view_name": "StyleView",
            "description_width": ""
          }
        },
        "46a3480846e34128918e0559cf06e828": {
          "model_module": "@jupyter-widgets/controls",
          "model_name": "HBoxModel",
          "model_module_version": "1.5.0",
          "state": {
            "_dom_classes": [],
            "_model_module": "@jupyter-widgets/controls",
            "_model_module_version": "1.5.0",
            "_model_name": "HBoxModel",
            "_view_count": null,
            "_view_module": "@jupyter-widgets/controls",
            "_view_module_version": "1.5.0",
            "_view_name": "HBoxView",
            "box_style": "",
            "children": [
              "IPY_MODEL_ff42742e32e244989fc5512ccebe6b6b",
              "IPY_MODEL_af35099b8b914c53905789c8cc5f10d9",
              "IPY_MODEL_dc7bbff13e0344e58eb20a9123db2293"
            ],
            "layout": "IPY_MODEL_402cd2d1ef524586a9847d4be995d821"
          }
        },
        "ff42742e32e244989fc5512ccebe6b6b": {
          "model_module": "@jupyter-widgets/controls",
          "model_name": "HTMLModel",
          "model_module_version": "1.5.0",
          "state": {
            "_dom_classes": [],
            "_model_module": "@jupyter-widgets/controls",
            "_model_module_version": "1.5.0",
            "_model_name": "HTMLModel",
            "_view_count": null,
            "_view_module": "@jupyter-widgets/controls",
            "_view_module_version": "1.5.0",
            "_view_name": "HTMLView",
            "description": "",
            "description_tooltip": null,
            "layout": "IPY_MODEL_459e73bd3a754fcda74e9c5326cf6728",
            "placeholder": "​",
            "style": "IPY_MODEL_78326b5865ae469da4ffe05bceb51173",
            "value": "vocab.txt: 100%"
          }
        },
        "af35099b8b914c53905789c8cc5f10d9": {
          "model_module": "@jupyter-widgets/controls",
          "model_name": "FloatProgressModel",
          "model_module_version": "1.5.0",
          "state": {
            "_dom_classes": [],
            "_model_module": "@jupyter-widgets/controls",
            "_model_module_version": "1.5.0",
            "_model_name": "FloatProgressModel",
            "_view_count": null,
            "_view_module": "@jupyter-widgets/controls",
            "_view_module_version": "1.5.0",
            "_view_name": "ProgressView",
            "bar_style": "success",
            "description": "",
            "description_tooltip": null,
            "layout": "IPY_MODEL_55d532c1aa7345ab9e3eb2e200ed27b8",
            "max": 226122,
            "min": 0,
            "orientation": "horizontal",
            "style": "IPY_MODEL_a7ba64bad8024af0993199c8ce4ef7a4",
            "value": 226122
          }
        },
        "dc7bbff13e0344e58eb20a9123db2293": {
          "model_module": "@jupyter-widgets/controls",
          "model_name": "HTMLModel",
          "model_module_version": "1.5.0",
          "state": {
            "_dom_classes": [],
            "_model_module": "@jupyter-widgets/controls",
            "_model_module_version": "1.5.0",
            "_model_name": "HTMLModel",
            "_view_count": null,
            "_view_module": "@jupyter-widgets/controls",
            "_view_module_version": "1.5.0",
            "_view_name": "HTMLView",
            "description": "",
            "description_tooltip": null,
            "layout": "IPY_MODEL_5e93d140a946496093b4e45bc6509156",
            "placeholder": "​",
            "style": "IPY_MODEL_7b7962142f494efeb0bac4747eab1dd9",
            "value": " 226k/226k [00:00&lt;00:00, 3.46MB/s]"
          }
        },
        "402cd2d1ef524586a9847d4be995d821": {
          "model_module": "@jupyter-widgets/base",
          "model_name": "LayoutModel",
          "model_module_version": "1.2.0",
          "state": {
            "_model_module": "@jupyter-widgets/base",
            "_model_module_version": "1.2.0",
            "_model_name": "LayoutModel",
            "_view_count": null,
            "_view_module": "@jupyter-widgets/base",
            "_view_module_version": "1.2.0",
            "_view_name": "LayoutView",
            "align_content": null,
            "align_items": null,
            "align_self": null,
            "border": null,
            "bottom": null,
            "display": null,
            "flex": null,
            "flex_flow": null,
            "grid_area": null,
            "grid_auto_columns": null,
            "grid_auto_flow": null,
            "grid_auto_rows": null,
            "grid_column": null,
            "grid_gap": null,
            "grid_row": null,
            "grid_template_areas": null,
            "grid_template_columns": null,
            "grid_template_rows": null,
            "height": null,
            "justify_content": null,
            "justify_items": null,
            "left": null,
            "margin": null,
            "max_height": null,
            "max_width": null,
            "min_height": null,
            "min_width": null,
            "object_fit": null,
            "object_position": null,
            "order": null,
            "overflow": null,
            "overflow_x": null,
            "overflow_y": null,
            "padding": null,
            "right": null,
            "top": null,
            "visibility": null,
            "width": null
          }
        },
        "459e73bd3a754fcda74e9c5326cf6728": {
          "model_module": "@jupyter-widgets/base",
          "model_name": "LayoutModel",
          "model_module_version": "1.2.0",
          "state": {
            "_model_module": "@jupyter-widgets/base",
            "_model_module_version": "1.2.0",
            "_model_name": "LayoutModel",
            "_view_count": null,
            "_view_module": "@jupyter-widgets/base",
            "_view_module_version": "1.2.0",
            "_view_name": "LayoutView",
            "align_content": null,
            "align_items": null,
            "align_self": null,
            "border": null,
            "bottom": null,
            "display": null,
            "flex": null,
            "flex_flow": null,
            "grid_area": null,
            "grid_auto_columns": null,
            "grid_auto_flow": null,
            "grid_auto_rows": null,
            "grid_column": null,
            "grid_gap": null,
            "grid_row": null,
            "grid_template_areas": null,
            "grid_template_columns": null,
            "grid_template_rows": null,
            "height": null,
            "justify_content": null,
            "justify_items": null,
            "left": null,
            "margin": null,
            "max_height": null,
            "max_width": null,
            "min_height": null,
            "min_width": null,
            "object_fit": null,
            "object_position": null,
            "order": null,
            "overflow": null,
            "overflow_x": null,
            "overflow_y": null,
            "padding": null,
            "right": null,
            "top": null,
            "visibility": null,
            "width": null
          }
        },
        "78326b5865ae469da4ffe05bceb51173": {
          "model_module": "@jupyter-widgets/controls",
          "model_name": "DescriptionStyleModel",
          "model_module_version": "1.5.0",
          "state": {
            "_model_module": "@jupyter-widgets/controls",
            "_model_module_version": "1.5.0",
            "_model_name": "DescriptionStyleModel",
            "_view_count": null,
            "_view_module": "@jupyter-widgets/base",
            "_view_module_version": "1.2.0",
            "_view_name": "StyleView",
            "description_width": ""
          }
        },
        "55d532c1aa7345ab9e3eb2e200ed27b8": {
          "model_module": "@jupyter-widgets/base",
          "model_name": "LayoutModel",
          "model_module_version": "1.2.0",
          "state": {
            "_model_module": "@jupyter-widgets/base",
            "_model_module_version": "1.2.0",
            "_model_name": "LayoutModel",
            "_view_count": null,
            "_view_module": "@jupyter-widgets/base",
            "_view_module_version": "1.2.0",
            "_view_name": "LayoutView",
            "align_content": null,
            "align_items": null,
            "align_self": null,
            "border": null,
            "bottom": null,
            "display": null,
            "flex": null,
            "flex_flow": null,
            "grid_area": null,
            "grid_auto_columns": null,
            "grid_auto_flow": null,
            "grid_auto_rows": null,
            "grid_column": null,
            "grid_gap": null,
            "grid_row": null,
            "grid_template_areas": null,
            "grid_template_columns": null,
            "grid_template_rows": null,
            "height": null,
            "justify_content": null,
            "justify_items": null,
            "left": null,
            "margin": null,
            "max_height": null,
            "max_width": null,
            "min_height": null,
            "min_width": null,
            "object_fit": null,
            "object_position": null,
            "order": null,
            "overflow": null,
            "overflow_x": null,
            "overflow_y": null,
            "padding": null,
            "right": null,
            "top": null,
            "visibility": null,
            "width": null
          }
        },
        "a7ba64bad8024af0993199c8ce4ef7a4": {
          "model_module": "@jupyter-widgets/controls",
          "model_name": "ProgressStyleModel",
          "model_module_version": "1.5.0",
          "state": {
            "_model_module": "@jupyter-widgets/controls",
            "_model_module_version": "1.5.0",
            "_model_name": "ProgressStyleModel",
            "_view_count": null,
            "_view_module": "@jupyter-widgets/base",
            "_view_module_version": "1.2.0",
            "_view_name": "StyleView",
            "bar_color": null,
            "description_width": ""
          }
        },
        "5e93d140a946496093b4e45bc6509156": {
          "model_module": "@jupyter-widgets/base",
          "model_name": "LayoutModel",
          "model_module_version": "1.2.0",
          "state": {
            "_model_module": "@jupyter-widgets/base",
            "_model_module_version": "1.2.0",
            "_model_name": "LayoutModel",
            "_view_count": null,
            "_view_module": "@jupyter-widgets/base",
            "_view_module_version": "1.2.0",
            "_view_name": "LayoutView",
            "align_content": null,
            "align_items": null,
            "align_self": null,
            "border": null,
            "bottom": null,
            "display": null,
            "flex": null,
            "flex_flow": null,
            "grid_area": null,
            "grid_auto_columns": null,
            "grid_auto_flow": null,
            "grid_auto_rows": null,
            "grid_column": null,
            "grid_gap": null,
            "grid_row": null,
            "grid_template_areas": null,
            "grid_template_columns": null,
            "grid_template_rows": null,
            "height": null,
            "justify_content": null,
            "justify_items": null,
            "left": null,
            "margin": null,
            "max_height": null,
            "max_width": null,
            "min_height": null,
            "min_width": null,
            "object_fit": null,
            "object_position": null,
            "order": null,
            "overflow": null,
            "overflow_x": null,
            "overflow_y": null,
            "padding": null,
            "right": null,
            "top": null,
            "visibility": null,
            "width": null
          }
        },
        "7b7962142f494efeb0bac4747eab1dd9": {
          "model_module": "@jupyter-widgets/controls",
          "model_name": "DescriptionStyleModel",
          "model_module_version": "1.5.0",
          "state": {
            "_model_module": "@jupyter-widgets/controls",
            "_model_module_version": "1.5.0",
            "_model_name": "DescriptionStyleModel",
            "_view_count": null,
            "_view_module": "@jupyter-widgets/base",
            "_view_module_version": "1.2.0",
            "_view_name": "StyleView",
            "description_width": ""
          }
        },
        "9ae28fe801cf42c2a3e2b4634b17ef1b": {
          "model_module": "@jupyter-widgets/controls",
          "model_name": "HBoxModel",
          "model_module_version": "1.5.0",
          "state": {
            "_dom_classes": [],
            "_model_module": "@jupyter-widgets/controls",
            "_model_module_version": "1.5.0",
            "_model_name": "HBoxModel",
            "_view_count": null,
            "_view_module": "@jupyter-widgets/controls",
            "_view_module_version": "1.5.0",
            "_view_name": "HBoxView",
            "box_style": "",
            "children": [
              "IPY_MODEL_7b411dec9793439ca90e208440e29f79",
              "IPY_MODEL_7732ae9910a74e83ab566689b8da0f12",
              "IPY_MODEL_953c7d4d6efb414d91d9024c705ecd44"
            ],
            "layout": "IPY_MODEL_a4d18496c9504301ba84aaf95f4b7365"
          }
        },
        "7b411dec9793439ca90e208440e29f79": {
          "model_module": "@jupyter-widgets/controls",
          "model_name": "HTMLModel",
          "model_module_version": "1.5.0",
          "state": {
            "_dom_classes": [],
            "_model_module": "@jupyter-widgets/controls",
            "_model_module_version": "1.5.0",
            "_model_name": "HTMLModel",
            "_view_count": null,
            "_view_module": "@jupyter-widgets/controls",
            "_view_module_version": "1.5.0",
            "_view_name": "HTMLView",
            "description": "",
            "description_tooltip": null,
            "layout": "IPY_MODEL_89dc18d3061c4d749aab53f4972d649e",
            "placeholder": "​",
            "style": "IPY_MODEL_a683b2d9144e41dc94ef6573cdce496c",
            "value": "pytorch_model.bin: 100%"
          }
        },
        "7732ae9910a74e83ab566689b8da0f12": {
          "model_module": "@jupyter-widgets/controls",
          "model_name": "FloatProgressModel",
          "model_module_version": "1.5.0",
          "state": {
            "_dom_classes": [],
            "_model_module": "@jupyter-widgets/controls",
            "_model_module_version": "1.5.0",
            "_model_name": "FloatProgressModel",
            "_view_count": null,
            "_view_module": "@jupyter-widgets/controls",
            "_view_module_version": "1.5.0",
            "_view_name": "ProgressView",
            "bar_style": "success",
            "description": "",
            "description_tooltip": null,
            "layout": "IPY_MODEL_d376d556a0594752a5c1c8fc33ece58b",
            "max": 439101405,
            "min": 0,
            "orientation": "horizontal",
            "style": "IPY_MODEL_bb0f9385da0844b1aff711fc40973913",
            "value": 439101405
          }
        },
        "953c7d4d6efb414d91d9024c705ecd44": {
          "model_module": "@jupyter-widgets/controls",
          "model_name": "HTMLModel",
          "model_module_version": "1.5.0",
          "state": {
            "_dom_classes": [],
            "_model_module": "@jupyter-widgets/controls",
            "_model_module_version": "1.5.0",
            "_model_name": "HTMLModel",
            "_view_count": null,
            "_view_module": "@jupyter-widgets/controls",
            "_view_module_version": "1.5.0",
            "_view_name": "HTMLView",
            "description": "",
            "description_tooltip": null,
            "layout": "IPY_MODEL_3116a216527342acb47cef21efbcfb63",
            "placeholder": "​",
            "style": "IPY_MODEL_036138dea6e64c9b8cd866fd2c1fd193",
            "value": " 439M/439M [00:03&lt;00:00, 199MB/s]"
          }
        },
        "a4d18496c9504301ba84aaf95f4b7365": {
          "model_module": "@jupyter-widgets/base",
          "model_name": "LayoutModel",
          "model_module_version": "1.2.0",
          "state": {
            "_model_module": "@jupyter-widgets/base",
            "_model_module_version": "1.2.0",
            "_model_name": "LayoutModel",
            "_view_count": null,
            "_view_module": "@jupyter-widgets/base",
            "_view_module_version": "1.2.0",
            "_view_name": "LayoutView",
            "align_content": null,
            "align_items": null,
            "align_self": null,
            "border": null,
            "bottom": null,
            "display": null,
            "flex": null,
            "flex_flow": null,
            "grid_area": null,
            "grid_auto_columns": null,
            "grid_auto_flow": null,
            "grid_auto_rows": null,
            "grid_column": null,
            "grid_gap": null,
            "grid_row": null,
            "grid_template_areas": null,
            "grid_template_columns": null,
            "grid_template_rows": null,
            "height": null,
            "justify_content": null,
            "justify_items": null,
            "left": null,
            "margin": null,
            "max_height": null,
            "max_width": null,
            "min_height": null,
            "min_width": null,
            "object_fit": null,
            "object_position": null,
            "order": null,
            "overflow": null,
            "overflow_x": null,
            "overflow_y": null,
            "padding": null,
            "right": null,
            "top": null,
            "visibility": null,
            "width": null
          }
        },
        "89dc18d3061c4d749aab53f4972d649e": {
          "model_module": "@jupyter-widgets/base",
          "model_name": "LayoutModel",
          "model_module_version": "1.2.0",
          "state": {
            "_model_module": "@jupyter-widgets/base",
            "_model_module_version": "1.2.0",
            "_model_name": "LayoutModel",
            "_view_count": null,
            "_view_module": "@jupyter-widgets/base",
            "_view_module_version": "1.2.0",
            "_view_name": "LayoutView",
            "align_content": null,
            "align_items": null,
            "align_self": null,
            "border": null,
            "bottom": null,
            "display": null,
            "flex": null,
            "flex_flow": null,
            "grid_area": null,
            "grid_auto_columns": null,
            "grid_auto_flow": null,
            "grid_auto_rows": null,
            "grid_column": null,
            "grid_gap": null,
            "grid_row": null,
            "grid_template_areas": null,
            "grid_template_columns": null,
            "grid_template_rows": null,
            "height": null,
            "justify_content": null,
            "justify_items": null,
            "left": null,
            "margin": null,
            "max_height": null,
            "max_width": null,
            "min_height": null,
            "min_width": null,
            "object_fit": null,
            "object_position": null,
            "order": null,
            "overflow": null,
            "overflow_x": null,
            "overflow_y": null,
            "padding": null,
            "right": null,
            "top": null,
            "visibility": null,
            "width": null
          }
        },
        "a683b2d9144e41dc94ef6573cdce496c": {
          "model_module": "@jupyter-widgets/controls",
          "model_name": "DescriptionStyleModel",
          "model_module_version": "1.5.0",
          "state": {
            "_model_module": "@jupyter-widgets/controls",
            "_model_module_version": "1.5.0",
            "_model_name": "DescriptionStyleModel",
            "_view_count": null,
            "_view_module": "@jupyter-widgets/base",
            "_view_module_version": "1.2.0",
            "_view_name": "StyleView",
            "description_width": ""
          }
        },
        "d376d556a0594752a5c1c8fc33ece58b": {
          "model_module": "@jupyter-widgets/base",
          "model_name": "LayoutModel",
          "model_module_version": "1.2.0",
          "state": {
            "_model_module": "@jupyter-widgets/base",
            "_model_module_version": "1.2.0",
            "_model_name": "LayoutModel",
            "_view_count": null,
            "_view_module": "@jupyter-widgets/base",
            "_view_module_version": "1.2.0",
            "_view_name": "LayoutView",
            "align_content": null,
            "align_items": null,
            "align_self": null,
            "border": null,
            "bottom": null,
            "display": null,
            "flex": null,
            "flex_flow": null,
            "grid_area": null,
            "grid_auto_columns": null,
            "grid_auto_flow": null,
            "grid_auto_rows": null,
            "grid_column": null,
            "grid_gap": null,
            "grid_row": null,
            "grid_template_areas": null,
            "grid_template_columns": null,
            "grid_template_rows": null,
            "height": null,
            "justify_content": null,
            "justify_items": null,
            "left": null,
            "margin": null,
            "max_height": null,
            "max_width": null,
            "min_height": null,
            "min_width": null,
            "object_fit": null,
            "object_position": null,
            "order": null,
            "overflow": null,
            "overflow_x": null,
            "overflow_y": null,
            "padding": null,
            "right": null,
            "top": null,
            "visibility": null,
            "width": null
          }
        },
        "bb0f9385da0844b1aff711fc40973913": {
          "model_module": "@jupyter-widgets/controls",
          "model_name": "ProgressStyleModel",
          "model_module_version": "1.5.0",
          "state": {
            "_model_module": "@jupyter-widgets/controls",
            "_model_module_version": "1.5.0",
            "_model_name": "ProgressStyleModel",
            "_view_count": null,
            "_view_module": "@jupyter-widgets/base",
            "_view_module_version": "1.2.0",
            "_view_name": "StyleView",
            "bar_color": null,
            "description_width": ""
          }
        },
        "3116a216527342acb47cef21efbcfb63": {
          "model_module": "@jupyter-widgets/base",
          "model_name": "LayoutModel",
          "model_module_version": "1.2.0",
          "state": {
            "_model_module": "@jupyter-widgets/base",
            "_model_module_version": "1.2.0",
            "_model_name": "LayoutModel",
            "_view_count": null,
            "_view_module": "@jupyter-widgets/base",
            "_view_module_version": "1.2.0",
            "_view_name": "LayoutView",
            "align_content": null,
            "align_items": null,
            "align_self": null,
            "border": null,
            "bottom": null,
            "display": null,
            "flex": null,
            "flex_flow": null,
            "grid_area": null,
            "grid_auto_columns": null,
            "grid_auto_flow": null,
            "grid_auto_rows": null,
            "grid_column": null,
            "grid_gap": null,
            "grid_row": null,
            "grid_template_areas": null,
            "grid_template_columns": null,
            "grid_template_rows": null,
            "height": null,
            "justify_content": null,
            "justify_items": null,
            "left": null,
            "margin": null,
            "max_height": null,
            "max_width": null,
            "min_height": null,
            "min_width": null,
            "object_fit": null,
            "object_position": null,
            "order": null,
            "overflow": null,
            "overflow_x": null,
            "overflow_y": null,
            "padding": null,
            "right": null,
            "top": null,
            "visibility": null,
            "width": null
          }
        },
        "036138dea6e64c9b8cd866fd2c1fd193": {
          "model_module": "@jupyter-widgets/controls",
          "model_name": "DescriptionStyleModel",
          "model_module_version": "1.5.0",
          "state": {
            "_model_module": "@jupyter-widgets/controls",
            "_model_module_version": "1.5.0",
            "_model_name": "DescriptionStyleModel",
            "_view_count": null,
            "_view_module": "@jupyter-widgets/base",
            "_view_module_version": "1.2.0",
            "_view_name": "StyleView",
            "description_width": ""
          }
        }
      }
    }
  },
  "nbformat": 4,
  "nbformat_minor": 0
}