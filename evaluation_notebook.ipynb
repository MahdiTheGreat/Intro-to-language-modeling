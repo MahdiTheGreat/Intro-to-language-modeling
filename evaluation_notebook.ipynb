{
 "cells": [
  {
   "cell_type": "code",
   "execution_count": 1,
   "metadata": {},
   "outputs": [],
   "source": [
    "blue_chip_stocks = [\"AAPL\",\"MSFT\",\"KO\",\"PG\",\"JNJ\",\"DIS\",\"WMT\",\"JPM\",\"MCD\",\"GE\"]\n",
    "Growth_stocks = [\"TSLA\",\"AMZN\",\"NVDA\",\"GOOG\",\"META\",\"NFLX\",\"SHOP\",\"SQ\",\"CRM\",\"UBER\"]\n",
    "tickers = blue_chip_stocks + Growth_stocks"
   ]
  },
  {
   "cell_type": "markdown",
   "metadata": {},
   "source": [
    "Stocks based on Market Reputation and Company Size can be divided to:\n",
    "a) Blue-Chip Stocks\n",
    "\n",
    "    Definition: Stocks of large, well-established, and financially stable companies with a history of reliable performance.\n",
    "    Examples: Apple, Microsoft, Coca-Cola.\n",
    "    Key Features:\n",
    "        Considered low-risk investments.\n",
    "        Often pay consistent dividends.\n",
    "        Suitable for long-term, stable growth.\n",
    "\n",
    "b) Penny Stocks\n",
    "\n",
    "    Definition: Stocks of small companies that trade at very low prices, usually below $5 per share.\n",
    "    Key Features:\n",
    "        High-risk and speculative.\n",
    "        Low market capitalization.\n",
    "        Often traded over-the-counter (OTC).\n",
    "\n",
    "c) Growth Stocks\n",
    "\n",
    "    Definition: Stocks of companies expected to grow at a rate higher than the market average.\n",
    "    Key Features:\n",
    "        Usually reinvest earnings into growth (rarely pay dividends).\n",
    "        High potential for capital appreciation.\n",
    "        Often more volatile.\n",
    "\n",
    "d) Value Stocks\n",
    "\n",
    "    Definition: Stocks that are considered undervalued compared to their intrinsic value.\n",
    "    Key Features:\n",
    "        Low price-to-earnings (P/E) ratios.\n",
    "        May pay dividends.\n",
    "        Attractive to long-term investors.\n",
    "\n",
    "Since penny stocks are highly volatile and succeptable to market manipulation and value stocks are based on subjective opinion, for evaluation we use Blue chip and Growth stocks"
   ]
  },
  {
   "cell_type": "code",
   "execution_count": 2,
   "metadata": {},
   "outputs": [
    {
     "name": "stderr",
     "output_type": "stream",
     "text": [
      "C:\\Users\\ANv\\AppData\\Local\\Packages\\PythonSoftwareFoundation.Python.3.10_qbz5n2kfra8p0\\LocalCache\\local-packages\\Python310\\site-packages\\tqdm\\auto.py:21: TqdmWarning: IProgress not found. Please update jupyter and ipywidgets. See https://ipywidgets.readthedocs.io/en/stable/user_install.html\n",
      "  from .autonotebook import tqdm as notebook_tqdm\n"
     ]
    }
   ],
   "source": [
    "# Import libraries\n",
    "from transformers import AutoModelForCausalLM, AutoTokenizer\n",
    "import yfinance as yf\n",
    "import torch\n",
    "import pandas as pd\n",
    "import requests\n",
    "import numpy as np\n",
    "from datetime import datetime, timedelta\n",
    "import yfinance as yf\n",
    "import re"
   ]
  },
  {
   "cell_type": "code",
   "execution_count": 3,
   "metadata": {},
   "outputs": [],
   "source": [
    "from evaluate import evaluate\n",
    "from llama_model import run_llama"
   ]
  },
  {
   "cell_type": "code",
   "execution_count": 4,
   "metadata": {},
   "outputs": [
    {
     "name": "stderr",
     "output_type": "stream",
     "text": [
      "Loading checkpoint shards: 100%|██████████| 2/2 [00:07<00:00,  3.83s/it]\n"
     ]
    }
   ],
   "source": [
    "# Load Llama 2 model and tokenizer\n",
    "model_name = \"meta-llama/Llama-3.2-3B-Instruct\"  # Replace with the model you have downloaded or hosted\n",
    "tokenizer = AutoTokenizer.from_pretrained(model_name)\n",
    "model = AutoModelForCausalLM.from_pretrained(model_name, device_map=\"auto\", torch_dtype=torch.float16)"
   ]
  },
  {
   "cell_type": "code",
   "execution_count": null,
   "metadata": {},
   "outputs": [
    {
     "name": "stderr",
     "output_type": "stream",
     "text": [
      "Setting `pad_token_id` to `eos_token_id`:128001 for open-end generation.\n"
     ]
    },
    {
     "name": "stdout",
     "output_type": "stream",
     "text": [
      "mean_value: 2.25531914893617\n",
      "majority_value: 2\n",
      "model_sentiment: Sell\n"
     ]
    },
    {
     "name": "stderr",
     "output_type": "stream",
     "text": [
      "Setting `pad_token_id` to `eos_token_id`:128001 for open-end generation.\n"
     ]
    },
    {
     "name": "stdout",
     "output_type": "stream",
     "text": [
      "mean_value: 1.8421052631578947\n",
      "majority_value: 2\n",
      "model_sentiment: Strong Buy\n"
     ]
    },
    {
     "name": "stderr",
     "output_type": "stream",
     "text": [
      "Setting `pad_token_id` to `eos_token_id`:128001 for open-end generation.\n"
     ]
    }
   ],
   "source": [
    "corrects = 0\n",
    "for ticker in tickers:\n",
    "    response = run_llama(model, tokenizer, ticker)\n",
    "    correct = evaluate(response, ticker)\n",
    "    print(\"Correct:\",correct)\n",
    "    if correct:\n",
    "        corrects += 1"
   ]
  },
  {
   "cell_type": "code",
   "execution_count": null,
   "metadata": {},
   "outputs": [],
   "source": [
    "print(\"Accuracy:\",round(corrects/len(tickers),3)*100,\"%\")"
   ]
  }
 ],
 "metadata": {
  "kernelspec": {
   "display_name": "Python 3",
   "language": "python",
   "name": "python3"
  },
  "language_info": {
   "codemirror_mode": {
    "name": "ipython",
    "version": 3
   },
   "file_extension": ".py",
   "mimetype": "text/x-python",
   "name": "python",
   "nbconvert_exporter": "python",
   "pygments_lexer": "ipython3",
   "version": "3.10.11"
  }
 },
 "nbformat": 4,
 "nbformat_minor": 2
}
