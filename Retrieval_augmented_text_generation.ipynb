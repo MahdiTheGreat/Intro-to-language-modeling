{
  "nbformat": 4,
  "nbformat_minor": 0,
  "metadata": {
    "colab": {
      "provenance": [],
      "gpuType": "T4",
      "include_colab_link": true
    },
    "kernelspec": {
      "name": "python3",
      "display_name": "Python 3"
    },
    "language_info": {
      "name": "python"
    },
    "accelerator": "GPU"
  },
  "cells": [
    {
      "cell_type": "markdown",
      "metadata": {
        "id": "view-in-github",
        "colab_type": "text"
      },
      "source": [
        "<a href=\"https://colab.research.google.com/github/MahdiTheGreat/Intro-to-language-modeling/blob/main/Retrieval_augmented_text_generation.ipynb\" target=\"_parent\"><img src=\"https://colab.research.google.com/assets/colab-badge.svg\" alt=\"Open In Colab\"/></a>"
      ]
    },
    {
      "cell_type": "code",
      "source": [
        "generative_model=\"meta-llama/Llama-3.2-1B-Instruct\"\n",
        "sentence_model = \"dmis-lab/biobert-base-cased-v1.1\""
      ],
      "metadata": {
        "id": "LnquPAsyILL9"
      },
      "execution_count": 21,
      "outputs": []
    },
    {
      "cell_type": "code",
      "source": [
        "from google.colab import userdata"
      ],
      "metadata": {
        "id": "6fQ4PbgfETP_"
      },
      "execution_count": 22,
      "outputs": []
    },
    {
      "cell_type": "code",
      "source": [
        "!pip install langchain_huggingface\n",
        "!pip install -qU langchain-text-splitters\n",
        "!pip install -qU \"langchain-chroma>=0.1.2\"\n",
        "!pip install -U langchain-community\n",
        "!pip install nltk"
      ],
      "metadata": {
        "colab": {
          "base_uri": "https://localhost:8080/"
        },
        "id": "shXHjUCF3OD6",
        "outputId": "b6659dec-a30b-438d-dea5-4a8ca4632a72"
      },
      "execution_count": 161,
      "outputs": [
        {
          "output_type": "stream",
          "name": "stdout",
          "text": [
            "Requirement already satisfied: langchain_huggingface in /usr/local/lib/python3.10/dist-packages (0.1.2)\n",
            "Requirement already satisfied: huggingface-hub>=0.23.0 in /usr/local/lib/python3.10/dist-packages (from langchain_huggingface) (0.26.3)\n",
            "Requirement already satisfied: langchain-core<0.4.0,>=0.3.15 in /usr/local/lib/python3.10/dist-packages (from langchain_huggingface) (0.3.24)\n",
            "Requirement already satisfied: sentence-transformers>=2.6.0 in /usr/local/lib/python3.10/dist-packages (from langchain_huggingface) (3.2.1)\n",
            "Requirement already satisfied: tokenizers>=0.19.1 in /usr/local/lib/python3.10/dist-packages (from langchain_huggingface) (0.20.3)\n",
            "Requirement already satisfied: transformers>=4.39.0 in /usr/local/lib/python3.10/dist-packages (from langchain_huggingface) (4.46.3)\n",
            "Requirement already satisfied: filelock in /usr/local/lib/python3.10/dist-packages (from huggingface-hub>=0.23.0->langchain_huggingface) (3.16.1)\n",
            "Requirement already satisfied: fsspec>=2023.5.0 in /usr/local/lib/python3.10/dist-packages (from huggingface-hub>=0.23.0->langchain_huggingface) (2024.10.0)\n",
            "Requirement already satisfied: packaging>=20.9 in /usr/local/lib/python3.10/dist-packages (from huggingface-hub>=0.23.0->langchain_huggingface) (24.2)\n",
            "Requirement already satisfied: pyyaml>=5.1 in /usr/local/lib/python3.10/dist-packages (from huggingface-hub>=0.23.0->langchain_huggingface) (6.0.2)\n",
            "Requirement already satisfied: requests in /usr/local/lib/python3.10/dist-packages (from huggingface-hub>=0.23.0->langchain_huggingface) (2.32.3)\n",
            "Requirement already satisfied: tqdm>=4.42.1 in /usr/local/lib/python3.10/dist-packages (from huggingface-hub>=0.23.0->langchain_huggingface) (4.66.6)\n",
            "Requirement already satisfied: typing-extensions>=3.7.4.3 in /usr/local/lib/python3.10/dist-packages (from huggingface-hub>=0.23.0->langchain_huggingface) (4.12.2)\n",
            "Requirement already satisfied: jsonpatch<2.0,>=1.33 in /usr/local/lib/python3.10/dist-packages (from langchain-core<0.4.0,>=0.3.15->langchain_huggingface) (1.33)\n",
            "Requirement already satisfied: langsmith<0.3,>=0.1.125 in /usr/local/lib/python3.10/dist-packages (from langchain-core<0.4.0,>=0.3.15->langchain_huggingface) (0.1.147)\n",
            "Requirement already satisfied: pydantic<3.0.0,>=2.5.2 in /usr/local/lib/python3.10/dist-packages (from langchain-core<0.4.0,>=0.3.15->langchain_huggingface) (2.10.3)\n",
            "Requirement already satisfied: tenacity!=8.4.0,<10.0.0,>=8.1.0 in /usr/local/lib/python3.10/dist-packages (from langchain-core<0.4.0,>=0.3.15->langchain_huggingface) (9.0.0)\n",
            "Requirement already satisfied: torch>=1.11.0 in /usr/local/lib/python3.10/dist-packages (from sentence-transformers>=2.6.0->langchain_huggingface) (2.5.1+cu121)\n",
            "Requirement already satisfied: scikit-learn in /usr/local/lib/python3.10/dist-packages (from sentence-transformers>=2.6.0->langchain_huggingface) (1.5.2)\n",
            "Requirement already satisfied: scipy in /usr/local/lib/python3.10/dist-packages (from sentence-transformers>=2.6.0->langchain_huggingface) (1.13.1)\n",
            "Requirement already satisfied: Pillow in /usr/local/lib/python3.10/dist-packages (from sentence-transformers>=2.6.0->langchain_huggingface) (11.0.0)\n",
            "Requirement already satisfied: numpy>=1.17 in /usr/local/lib/python3.10/dist-packages (from transformers>=4.39.0->langchain_huggingface) (1.26.4)\n",
            "Requirement already satisfied: regex!=2019.12.17 in /usr/local/lib/python3.10/dist-packages (from transformers>=4.39.0->langchain_huggingface) (2024.9.11)\n",
            "Requirement already satisfied: safetensors>=0.4.1 in /usr/local/lib/python3.10/dist-packages (from transformers>=4.39.0->langchain_huggingface) (0.4.5)\n",
            "Requirement already satisfied: jsonpointer>=1.9 in /usr/local/lib/python3.10/dist-packages (from jsonpatch<2.0,>=1.33->langchain-core<0.4.0,>=0.3.15->langchain_huggingface) (3.0.0)\n",
            "Requirement already satisfied: httpx<1,>=0.23.0 in /usr/local/lib/python3.10/dist-packages (from langsmith<0.3,>=0.1.125->langchain-core<0.4.0,>=0.3.15->langchain_huggingface) (0.28.0)\n",
            "Requirement already satisfied: orjson<4.0.0,>=3.9.14 in /usr/local/lib/python3.10/dist-packages (from langsmith<0.3,>=0.1.125->langchain-core<0.4.0,>=0.3.15->langchain_huggingface) (3.10.12)\n",
            "Requirement already satisfied: requests-toolbelt<2.0.0,>=1.0.0 in /usr/local/lib/python3.10/dist-packages (from langsmith<0.3,>=0.1.125->langchain-core<0.4.0,>=0.3.15->langchain_huggingface) (1.0.0)\n",
            "Requirement already satisfied: annotated-types>=0.6.0 in /usr/local/lib/python3.10/dist-packages (from pydantic<3.0.0,>=2.5.2->langchain-core<0.4.0,>=0.3.15->langchain_huggingface) (0.7.0)\n",
            "Requirement already satisfied: pydantic-core==2.27.1 in /usr/local/lib/python3.10/dist-packages (from pydantic<3.0.0,>=2.5.2->langchain-core<0.4.0,>=0.3.15->langchain_huggingface) (2.27.1)\n",
            "Requirement already satisfied: charset-normalizer<4,>=2 in /usr/local/lib/python3.10/dist-packages (from requests->huggingface-hub>=0.23.0->langchain_huggingface) (3.4.0)\n",
            "Requirement already satisfied: idna<4,>=2.5 in /usr/local/lib/python3.10/dist-packages (from requests->huggingface-hub>=0.23.0->langchain_huggingface) (3.10)\n",
            "Requirement already satisfied: urllib3<3,>=1.21.1 in /usr/local/lib/python3.10/dist-packages (from requests->huggingface-hub>=0.23.0->langchain_huggingface) (2.2.3)\n",
            "Requirement already satisfied: certifi>=2017.4.17 in /usr/local/lib/python3.10/dist-packages (from requests->huggingface-hub>=0.23.0->langchain_huggingface) (2024.8.30)\n",
            "Requirement already satisfied: networkx in /usr/local/lib/python3.10/dist-packages (from torch>=1.11.0->sentence-transformers>=2.6.0->langchain_huggingface) (3.4.2)\n",
            "Requirement already satisfied: jinja2 in /usr/local/lib/python3.10/dist-packages (from torch>=1.11.0->sentence-transformers>=2.6.0->langchain_huggingface) (3.1.4)\n",
            "Requirement already satisfied: sympy==1.13.1 in /usr/local/lib/python3.10/dist-packages (from torch>=1.11.0->sentence-transformers>=2.6.0->langchain_huggingface) (1.13.1)\n",
            "Requirement already satisfied: mpmath<1.4,>=1.1.0 in /usr/local/lib/python3.10/dist-packages (from sympy==1.13.1->torch>=1.11.0->sentence-transformers>=2.6.0->langchain_huggingface) (1.3.0)\n",
            "Requirement already satisfied: joblib>=1.2.0 in /usr/local/lib/python3.10/dist-packages (from scikit-learn->sentence-transformers>=2.6.0->langchain_huggingface) (1.4.2)\n",
            "Requirement already satisfied: threadpoolctl>=3.1.0 in /usr/local/lib/python3.10/dist-packages (from scikit-learn->sentence-transformers>=2.6.0->langchain_huggingface) (3.5.0)\n",
            "Requirement already satisfied: anyio in /usr/local/lib/python3.10/dist-packages (from httpx<1,>=0.23.0->langsmith<0.3,>=0.1.125->langchain-core<0.4.0,>=0.3.15->langchain_huggingface) (3.7.1)\n",
            "Requirement already satisfied: httpcore==1.* in /usr/local/lib/python3.10/dist-packages (from httpx<1,>=0.23.0->langsmith<0.3,>=0.1.125->langchain-core<0.4.0,>=0.3.15->langchain_huggingface) (1.0.7)\n",
            "Requirement already satisfied: h11<0.15,>=0.13 in /usr/local/lib/python3.10/dist-packages (from httpcore==1.*->httpx<1,>=0.23.0->langsmith<0.3,>=0.1.125->langchain-core<0.4.0,>=0.3.15->langchain_huggingface) (0.14.0)\n",
            "Requirement already satisfied: MarkupSafe>=2.0 in /usr/local/lib/python3.10/dist-packages (from jinja2->torch>=1.11.0->sentence-transformers>=2.6.0->langchain_huggingface) (3.0.2)\n",
            "Requirement already satisfied: sniffio>=1.1 in /usr/local/lib/python3.10/dist-packages (from anyio->httpx<1,>=0.23.0->langsmith<0.3,>=0.1.125->langchain-core<0.4.0,>=0.3.15->langchain_huggingface) (1.3.1)\n",
            "Requirement already satisfied: exceptiongroup in /usr/local/lib/python3.10/dist-packages (from anyio->httpx<1,>=0.23.0->langsmith<0.3,>=0.1.125->langchain-core<0.4.0,>=0.3.15->langchain_huggingface) (1.2.2)\n",
            "Requirement already satisfied: langchain-community in /usr/local/lib/python3.10/dist-packages (0.3.11)\n",
            "Requirement already satisfied: PyYAML>=5.3 in /usr/local/lib/python3.10/dist-packages (from langchain-community) (6.0.2)\n",
            "Requirement already satisfied: SQLAlchemy<3,>=1.4 in /usr/local/lib/python3.10/dist-packages (from langchain-community) (2.0.36)\n",
            "Requirement already satisfied: aiohttp<4.0.0,>=3.8.3 in /usr/local/lib/python3.10/dist-packages (from langchain-community) (3.11.9)\n",
            "Requirement already satisfied: dataclasses-json<0.7,>=0.5.7 in /usr/local/lib/python3.10/dist-packages (from langchain-community) (0.6.7)\n",
            "Requirement already satisfied: httpx-sse<0.5.0,>=0.4.0 in /usr/local/lib/python3.10/dist-packages (from langchain-community) (0.4.0)\n",
            "Requirement already satisfied: langchain<0.4.0,>=0.3.11 in /usr/local/lib/python3.10/dist-packages (from langchain-community) (0.3.11)\n",
            "Requirement already satisfied: langchain-core<0.4.0,>=0.3.24 in /usr/local/lib/python3.10/dist-packages (from langchain-community) (0.3.24)\n",
            "Requirement already satisfied: langsmith<0.3,>=0.1.125 in /usr/local/lib/python3.10/dist-packages (from langchain-community) (0.1.147)\n",
            "Requirement already satisfied: numpy<2,>=1.22.4 in /usr/local/lib/python3.10/dist-packages (from langchain-community) (1.26.4)\n",
            "Requirement already satisfied: pydantic-settings<3.0.0,>=2.4.0 in /usr/local/lib/python3.10/dist-packages (from langchain-community) (2.6.1)\n",
            "Requirement already satisfied: requests<3,>=2 in /usr/local/lib/python3.10/dist-packages (from langchain-community) (2.32.3)\n",
            "Requirement already satisfied: tenacity!=8.4.0,<10,>=8.1.0 in /usr/local/lib/python3.10/dist-packages (from langchain-community) (9.0.0)\n",
            "Requirement already satisfied: aiohappyeyeballs>=2.3.0 in /usr/local/lib/python3.10/dist-packages (from aiohttp<4.0.0,>=3.8.3->langchain-community) (2.4.4)\n",
            "Requirement already satisfied: aiosignal>=1.1.2 in /usr/local/lib/python3.10/dist-packages (from aiohttp<4.0.0,>=3.8.3->langchain-community) (1.3.1)\n",
            "Requirement already satisfied: async-timeout<6.0,>=4.0 in /usr/local/lib/python3.10/dist-packages (from aiohttp<4.0.0,>=3.8.3->langchain-community) (4.0.3)\n",
            "Requirement already satisfied: attrs>=17.3.0 in /usr/local/lib/python3.10/dist-packages (from aiohttp<4.0.0,>=3.8.3->langchain-community) (24.2.0)\n",
            "Requirement already satisfied: frozenlist>=1.1.1 in /usr/local/lib/python3.10/dist-packages (from aiohttp<4.0.0,>=3.8.3->langchain-community) (1.5.0)\n",
            "Requirement already satisfied: multidict<7.0,>=4.5 in /usr/local/lib/python3.10/dist-packages (from aiohttp<4.0.0,>=3.8.3->langchain-community) (6.1.0)\n",
            "Requirement already satisfied: propcache>=0.2.0 in /usr/local/lib/python3.10/dist-packages (from aiohttp<4.0.0,>=3.8.3->langchain-community) (0.2.1)\n",
            "Requirement already satisfied: yarl<2.0,>=1.17.0 in /usr/local/lib/python3.10/dist-packages (from aiohttp<4.0.0,>=3.8.3->langchain-community) (1.18.3)\n",
            "Requirement already satisfied: marshmallow<4.0.0,>=3.18.0 in /usr/local/lib/python3.10/dist-packages (from dataclasses-json<0.7,>=0.5.7->langchain-community) (3.23.1)\n",
            "Requirement already satisfied: typing-inspect<1,>=0.4.0 in /usr/local/lib/python3.10/dist-packages (from dataclasses-json<0.7,>=0.5.7->langchain-community) (0.9.0)\n",
            "Requirement already satisfied: langchain-text-splitters<0.4.0,>=0.3.0 in /usr/local/lib/python3.10/dist-packages (from langchain<0.4.0,>=0.3.11->langchain-community) (0.3.2)\n",
            "Requirement already satisfied: pydantic<3.0.0,>=2.7.4 in /usr/local/lib/python3.10/dist-packages (from langchain<0.4.0,>=0.3.11->langchain-community) (2.10.3)\n",
            "Requirement already satisfied: jsonpatch<2.0,>=1.33 in /usr/local/lib/python3.10/dist-packages (from langchain-core<0.4.0,>=0.3.24->langchain-community) (1.33)\n",
            "Requirement already satisfied: packaging<25,>=23.2 in /usr/local/lib/python3.10/dist-packages (from langchain-core<0.4.0,>=0.3.24->langchain-community) (24.2)\n",
            "Requirement already satisfied: typing-extensions>=4.7 in /usr/local/lib/python3.10/dist-packages (from langchain-core<0.4.0,>=0.3.24->langchain-community) (4.12.2)\n",
            "Requirement already satisfied: httpx<1,>=0.23.0 in /usr/local/lib/python3.10/dist-packages (from langsmith<0.3,>=0.1.125->langchain-community) (0.28.0)\n",
            "Requirement already satisfied: orjson<4.0.0,>=3.9.14 in /usr/local/lib/python3.10/dist-packages (from langsmith<0.3,>=0.1.125->langchain-community) (3.10.12)\n",
            "Requirement already satisfied: requests-toolbelt<2.0.0,>=1.0.0 in /usr/local/lib/python3.10/dist-packages (from langsmith<0.3,>=0.1.125->langchain-community) (1.0.0)\n",
            "Requirement already satisfied: python-dotenv>=0.21.0 in /usr/local/lib/python3.10/dist-packages (from pydantic-settings<3.0.0,>=2.4.0->langchain-community) (1.0.1)\n",
            "Requirement already satisfied: charset-normalizer<4,>=2 in /usr/local/lib/python3.10/dist-packages (from requests<3,>=2->langchain-community) (3.4.0)\n",
            "Requirement already satisfied: idna<4,>=2.5 in /usr/local/lib/python3.10/dist-packages (from requests<3,>=2->langchain-community) (3.10)\n",
            "Requirement already satisfied: urllib3<3,>=1.21.1 in /usr/local/lib/python3.10/dist-packages (from requests<3,>=2->langchain-community) (2.2.3)\n",
            "Requirement already satisfied: certifi>=2017.4.17 in /usr/local/lib/python3.10/dist-packages (from requests<3,>=2->langchain-community) (2024.8.30)\n",
            "Requirement already satisfied: greenlet!=0.4.17 in /usr/local/lib/python3.10/dist-packages (from SQLAlchemy<3,>=1.4->langchain-community) (3.1.1)\n",
            "Requirement already satisfied: anyio in /usr/local/lib/python3.10/dist-packages (from httpx<1,>=0.23.0->langsmith<0.3,>=0.1.125->langchain-community) (3.7.1)\n",
            "Requirement already satisfied: httpcore==1.* in /usr/local/lib/python3.10/dist-packages (from httpx<1,>=0.23.0->langsmith<0.3,>=0.1.125->langchain-community) (1.0.7)\n",
            "Requirement already satisfied: h11<0.15,>=0.13 in /usr/local/lib/python3.10/dist-packages (from httpcore==1.*->httpx<1,>=0.23.0->langsmith<0.3,>=0.1.125->langchain-community) (0.14.0)\n",
            "Requirement already satisfied: jsonpointer>=1.9 in /usr/local/lib/python3.10/dist-packages (from jsonpatch<2.0,>=1.33->langchain-core<0.4.0,>=0.3.24->langchain-community) (3.0.0)\n",
            "Requirement already satisfied: annotated-types>=0.6.0 in /usr/local/lib/python3.10/dist-packages (from pydantic<3.0.0,>=2.7.4->langchain<0.4.0,>=0.3.11->langchain-community) (0.7.0)\n",
            "Requirement already satisfied: pydantic-core==2.27.1 in /usr/local/lib/python3.10/dist-packages (from pydantic<3.0.0,>=2.7.4->langchain<0.4.0,>=0.3.11->langchain-community) (2.27.1)\n",
            "Requirement already satisfied: mypy-extensions>=0.3.0 in /usr/local/lib/python3.10/dist-packages (from typing-inspect<1,>=0.4.0->dataclasses-json<0.7,>=0.5.7->langchain-community) (1.0.0)\n",
            "Requirement already satisfied: sniffio>=1.1 in /usr/local/lib/python3.10/dist-packages (from anyio->httpx<1,>=0.23.0->langsmith<0.3,>=0.1.125->langchain-community) (1.3.1)\n",
            "Requirement already satisfied: exceptiongroup in /usr/local/lib/python3.10/dist-packages (from anyio->httpx<1,>=0.23.0->langsmith<0.3,>=0.1.125->langchain-community) (1.2.2)\n",
            "Requirement already satisfied: nltk in /usr/local/lib/python3.10/dist-packages (3.9.1)\n",
            "Requirement already satisfied: click in /usr/local/lib/python3.10/dist-packages (from nltk) (8.1.7)\n",
            "Requirement already satisfied: joblib in /usr/local/lib/python3.10/dist-packages (from nltk) (1.4.2)\n",
            "Requirement already satisfied: regex>=2021.8.3 in /usr/local/lib/python3.10/dist-packages (from nltk) (2024.9.11)\n",
            "Requirement already satisfied: tqdm in /usr/local/lib/python3.10/dist-packages (from nltk) (4.66.6)\n"
          ]
        }
      ]
    },
    {
      "cell_type": "code",
      "source": [
        "!wget https://raw.githubusercontent.com/pubmedqa/pubmedqa/refs/heads/master/data/ori_pqal.json"
      ],
      "metadata": {
        "id": "kDHf_aRL3zOw",
        "colab": {
          "base_uri": "https://localhost:8080/"
        },
        "outputId": "1c96955e-8eda-4d82-8f11-b2aec64f673c"
      },
      "execution_count": 162,
      "outputs": [
        {
          "output_type": "stream",
          "name": "stdout",
          "text": [
            "--2024-12-11 13:28:50--  https://raw.githubusercontent.com/pubmedqa/pubmedqa/refs/heads/master/data/ori_pqal.json\n",
            "Resolving raw.githubusercontent.com (raw.githubusercontent.com)... 185.199.108.133, 185.199.109.133, 185.199.110.133, ...\n",
            "Connecting to raw.githubusercontent.com (raw.githubusercontent.com)|185.199.108.133|:443... connected.\n",
            "HTTP request sent, awaiting response... 200 OK\n",
            "Length: 2584787 (2.5M) [text/plain]\n",
            "Saving to: ‘ori_pqal.json.2’\n",
            "\n",
            "\rori_pqal.json.2       0%[                    ]       0  --.-KB/s               \rori_pqal.json.2     100%[===================>]   2.46M  --.-KB/s    in 0.06s   \n",
            "\n",
            "2024-12-11 13:28:51 (43.7 MB/s) - ‘ori_pqal.json.2’ saved [2584787/2584787]\n",
            "\n"
          ]
        }
      ]
    },
    {
      "cell_type": "markdown",
      "source": [
        "We collect two datasets:\n",
        "\n",
        "    ‘questions’: the questions with corresponding gold long answer, gold document ID, and year.\n",
        "    ‘documents’: the abstracts (contexts+long_answer concatenated), and year.\n"
      ],
      "metadata": {
        "id": "VtIF9fhM1pp7"
      }
    },
    {
      "cell_type": "code",
      "source": [
        "import pandas as pd\n",
        "tmp_data = pd.read_json(\"/content/ori_pqal.json\").T\n",
        "# some labels have been defined as \"maybe\", only keep the yes/no answers\n",
        "tmp_data = tmp_data[tmp_data.final_decision.isin([\"yes\", \"no\"])]\n",
        "\n",
        "documents = pd.DataFrame({\"abstract\": tmp_data.apply(lambda row: (\" \").join(row.CONTEXTS+[row.LONG_ANSWER]), axis=1),\n",
        "             \"year\": tmp_data.YEAR})\n",
        "questions = pd.DataFrame({\"question\": tmp_data.QUESTION,\n",
        "             \"year\": tmp_data.YEAR,\n",
        "             \"gold_label\": tmp_data.final_decision,\n",
        "             \"gold_context\": tmp_data.LONG_ANSWER,\n",
        "             \"gold_document_id\": documents.index})"
      ],
      "metadata": {
        "id": "AvPd5mor1kS8"
      },
      "execution_count": 163,
      "outputs": []
    },
    {
      "cell_type": "markdown",
      "source": [
        "For an example of a query:"
      ],
      "metadata": {
        "id": "e0vBarDm1vu_"
      }
    },
    {
      "cell_type": "code",
      "source": [
        "questions.iloc[0].question"
      ],
      "metadata": {
        "colab": {
          "base_uri": "https://localhost:8080/",
          "height": 35
        },
        "id": "4bJl5W6E1w3H",
        "outputId": "ce905b07-6b92-4d4b-b107-e6b6b0a4e622"
      },
      "execution_count": 164,
      "outputs": [
        {
          "output_type": "execute_result",
          "data": {
            "text/plain": [
              "'Do mitochondria play a role in remodelling lace plant leaves during programmed cell death?'"
            ],
            "application/vnd.google.colaboratory.intrinsic+json": {
              "type": "string"
            }
          },
          "metadata": {},
          "execution_count": 164
        }
      ]
    },
    {
      "cell_type": "markdown",
      "source": [
        "For an example of a document to leverage for the queries:"
      ],
      "metadata": {
        "id": "leu9QnKI14Ku"
      }
    },
    {
      "cell_type": "code",
      "source": [
        "text = documents.iloc[0].abstract"
      ],
      "metadata": {
        "id": "OtkC_kq412Nj"
      },
      "execution_count": 165,
      "outputs": []
    },
    {
      "cell_type": "code",
      "source": [
        "from langchain_huggingface import HuggingFaceEmbeddings\n",
        "\n",
        "model_kwargs = {'device': 'cpu'}\n",
        "encode_kwargs = {'normalize_embeddings': False}\n",
        "hf = HuggingFaceEmbeddings(\n",
        "    model_name=sentence_model,\n",
        "    model_kwargs=model_kwargs,\n",
        "    encode_kwargs=encode_kwargs\n",
        ")"
      ],
      "metadata": {
        "colab": {
          "base_uri": "https://localhost:8080/"
        },
        "id": "tY92swK72-Om",
        "outputId": "b8c65760-0e83-4bef-e744-2d657babcb01"
      },
      "execution_count": 166,
      "outputs": [
        {
          "output_type": "stream",
          "name": "stderr",
          "text": [
            "WARNING:sentence_transformers.SentenceTransformer:No sentence-transformers model found with name dmis-lab/biobert-base-cased-v1.1. Creating a new one with mean pooling.\n"
          ]
        }
      ]
    },
    {
      "cell_type": "code",
      "source": [
        "import nltk\n",
        "nltk.download('punkt')\n",
        "nltk.download('punkt_tab')\n"
      ],
      "metadata": {
        "id": "boj-Dkzn5sjz",
        "outputId": "6645b7b4-56f8-4915-94ef-90b3acab50de",
        "colab": {
          "base_uri": "https://localhost:8080/"
        }
      },
      "execution_count": 175,
      "outputs": [
        {
          "output_type": "stream",
          "name": "stderr",
          "text": [
            "[nltk_data] Downloading package punkt to /root/nltk_data...\n",
            "[nltk_data]   Package punkt is already up-to-date!\n",
            "[nltk_data] Downloading package punkt_tab to /root/nltk_data...\n",
            "[nltk_data]   Unzipping tokenizers/punkt_tab.zip.\n"
          ]
        },
        {
          "output_type": "execute_result",
          "data": {
            "text/plain": [
              "True"
            ]
          },
          "metadata": {},
          "execution_count": 175
        }
      ]
    },
    {
      "cell_type": "code",
      "source": [
        "from langchain.text_splitter import NLTKTextSplitter\n",
        "import re\n",
        "\n",
        "# Initialize the NLTKTextSplitter\n",
        "text_splitter = NLTKTextSplitter(chunk_size=1000, chunk_overlap=200)\n",
        "\n",
        "# Split the text\n",
        "chunks = text_splitter.split_text(text)\n",
        "\n",
        "chunks = [re.sub(r'\\s+', ' ', chunk) for chunk in chunks]\n",
        "\n",
        "# Output the chunks\n",
        "for i, chunk in enumerate(chunks):\n",
        "    print(f\"Chunk {i+1}: {chunk}\\n\")"
      ],
      "metadata": {
        "id": "UVNLC2sv5S7A",
        "outputId": "948cb04b-1677-43ac-c5c1-1f322a21fdb3",
        "colab": {
          "base_uri": "https://localhost:8080/"
        }
      },
      "execution_count": 192,
      "outputs": [
        {
          "output_type": "stream",
          "name": "stdout",
          "text": [
            "Chunk 1: Programmed cell death (PCD) is the regulated death of cells within an organism. The lace plant (Aponogeton madagascariensis) produces perforations in its leaves through PCD. The leaves of the plant consist of a latticework of longitudinal and transverse veins enclosing areoles. PCD occurs in the cells at the center of these areoles and progresses outwards, stopping approximately five cells from the vasculature. The role of mitochondria during PCD has been recognized in animals; however, it has been less studied during PCD in plants. The following paper elucidates the role of mitochondrial dynamics during developmentally regulated PCD in vivo in A. madagascariensis. A single areole within a window stage leaf (PCD is occurring) was divided into three areas based on the progression of PCD; cells that will not undergo PCD (NPCD), cells in early stages of PCD (EPCD), and cells in late stages of PCD (LPCD).\n",
            "\n",
            "Chunk 2: Window stage leaves were stained with the mitochondrial dye MitoTracker Red CMXRos and examined. Mitochondrial dynamics were delineated into four categories (M1-M4) based on characteristics including distribution, motility, and membrane potential (ΔΨm). A TUNEL assay showed fragmented nDNA in a gradient over these mitochondrial stages. Chloroplasts and transvacuolar strands were also examined using live cell imaging. The possible importance of mitochondrial permeability transition pore (PTP) formation during PCD was indirectly examined via in vivo cyclosporine A (CsA) treatment. This treatment resulted in lace plant leaves with a significantly lower number of perforations compared to controls, and that displayed mitochondrial dynamics similar to that of non-PCD cells. Results depicted mitochondrial dynamics in vivo as PCD progresses within the lace plant, and highlight the correlation of this organelle with other organelles during developmental PCD.\n",
            "\n",
            "Chunk 3: Results depicted mitochondrial dynamics in vivo as PCD progresses within the lace plant, and highlight the correlation of this organelle with other organelles during developmental PCD. To the best of our knowledge, this is the first report of mitochondria and chloroplasts moving on transvacuolar strands to form a ring structure surrounding the nucleus during developmental PCD. Also, for the first time, we have shown the feasibility for the use of CsA in a whole plant system. Overall, our findings implicate the mitochondria as playing a critical and early role in developmentally regulated PCD in the lace plant.\n",
            "\n"
          ]
        }
      ]
    },
    {
      "cell_type": "code",
      "source": [
        "print(chunks[0])\n",
        "print(chunks[1])"
      ],
      "metadata": {
        "colab": {
          "base_uri": "https://localhost:8080/"
        },
        "id": "6Mjm6nvN4Vvz",
        "outputId": "e8d1f3b5-a8f5-42ea-9a96-0790f50e4d54"
      },
      "execution_count": 193,
      "outputs": [
        {
          "output_type": "stream",
          "name": "stdout",
          "text": [
            "Programmed cell death (PCD) is the regulated death of cells within an organism. The lace plant (Aponogeton madagascariensis) produces perforations in its leaves through PCD. The leaves of the plant consist of a latticework of longitudinal and transverse veins enclosing areoles. PCD occurs in the cells at the center of these areoles and progresses outwards, stopping approximately five cells from the vasculature. The role of mitochondria during PCD has been recognized in animals; however, it has been less studied during PCD in plants. The following paper elucidates the role of mitochondrial dynamics during developmentally regulated PCD in vivo in A. madagascariensis. A single areole within a window stage leaf (PCD is occurring) was divided into three areas based on the progression of PCD; cells that will not undergo PCD (NPCD), cells in early stages of PCD (EPCD), and cells in late stages of PCD (LPCD).\n",
            "Window stage leaves were stained with the mitochondrial dye MitoTracker Red CMXRos and examined. Mitochondrial dynamics were delineated into four categories (M1-M4) based on characteristics including distribution, motility, and membrane potential (ΔΨm). A TUNEL assay showed fragmented nDNA in a gradient over these mitochondrial stages. Chloroplasts and transvacuolar strands were also examined using live cell imaging. The possible importance of mitochondrial permeability transition pore (PTP) formation during PCD was indirectly examined via in vivo cyclosporine A (CsA) treatment. This treatment resulted in lace plant leaves with a significantly lower number of perforations compared to controls, and that displayed mitochondrial dynamics similar to that of non-PCD cells. Results depicted mitochondrial dynamics in vivo as PCD progresses within the lace plant, and highlight the correlation of this organelle with other organelles during developmental PCD.\n"
          ]
        }
      ]
    },
    {
      "cell_type": "code",
      "source": [
        "# Generate unique ids for the chunks\n",
        "chunk_ids = [i for i in range(len(chunks))]"
      ],
      "metadata": {
        "id": "grhdHIehyqUK"
      },
      "execution_count": 194,
      "outputs": []
    },
    {
      "cell_type": "markdown",
      "source": [
        "If you want to get best in-class automated tracing of your model calls you can also set your LangSmith API key by uncommenting below:"
      ],
      "metadata": {
        "id": "nISnA1oD5Cks"
      }
    },
    {
      "cell_type": "code",
      "source": [
        "# os.environ[\"LANGSMITH_API_KEY\"] = getpass.getpass(\"Enter your LangSmith API key: \")\n",
        "# os.environ[\"LANGSMITH_TRACING\"] = \"true\""
      ],
      "metadata": {
        "id": "u3Y-7bof4nlp"
      },
      "execution_count": 182,
      "outputs": []
    },
    {
      "cell_type": "code",
      "source": [
        "from uuid import uuid4\n",
        "from langchain_core.documents import Document\n",
        "\n",
        "using_chunks = True\n",
        "docs=[]\n",
        "split_idx = 10\n",
        "\n",
        "if using_chunks:\n",
        "  ids = chunk_ids\n",
        "\n",
        "  for i, doc in enumerate(chunks[:split_idx]):\n",
        "    temp_doc = Document(\n",
        "        page_content=doc,\n",
        "        metadata={\"source\": \"tweet\"},\n",
        "        id=ids[i],\n",
        "    )\n",
        "    docs.append(temp_doc)\n",
        "\n",
        "else:\n",
        "\n",
        "  ids = documents.iloc[:split_idx].index\n",
        "\n",
        "  for i, doc in enumerate(documents.iloc[:split_idx].values):\n",
        "    temp_doc = Document(\n",
        "        page_content=doc[0],\n",
        "        metadata={\"source\": \"tweet\"},\n",
        "        id=ids[i],\n",
        "    )\n",
        "    docs.append(temp_doc)"
      ],
      "metadata": {
        "id": "dT_ojlmF6r5t"
      },
      "execution_count": 195,
      "outputs": []
    },
    {
      "cell_type": "code",
      "source": [
        "from langchain.vectorstores import Chroma\n",
        "\n",
        "try:\n",
        "  vector_store.delete_collection() # Delete vector_store collection if it already exists\n",
        "except:\n",
        "  pass # Ignore if it doesnt exist\n",
        "\n",
        "vector_store = Chroma.from_documents(docs, hf)\n",
        "#retriever = vector_store.as_retriever(...)"
      ],
      "metadata": {
        "id": "wibFDXwd5E9h"
      },
      "execution_count": 196,
      "outputs": []
    },
    {
      "cell_type": "code",
      "source": [
        "print(vector_store._collection.count())"
      ],
      "metadata": {
        "colab": {
          "base_uri": "https://localhost:8080/"
        },
        "id": "o27cbnUTwJRk",
        "outputId": "4d19d7ff-a8ba-433c-ce16-479969e0b16e"
      },
      "execution_count": 197,
      "outputs": [
        {
          "output_type": "stream",
          "name": "stdout",
          "text": [
            "3\n"
          ]
        }
      ]
    },
    {
      "cell_type": "code",
      "source": [
        "results = vector_store.similarity_search_with_score(\n",
        "    \"What is programmed cell death?\", k=10\n",
        ")\n",
        "for res, score in results:\n",
        "    print(f\"* [SIM={score:3f}] {res.page_content} [{res.metadata}]\")"
      ],
      "metadata": {
        "colab": {
          "base_uri": "https://localhost:8080/"
        },
        "id": "oWQqxlv_5b8g",
        "outputId": "36947364-f59d-4bc1-9329-dc904366bbd8"
      },
      "execution_count": 198,
      "outputs": [
        {
          "output_type": "stream",
          "name": "stderr",
          "text": [
            "WARNING:chromadb.segment.impl.vector.local_hnsw:Number of requested results 10 is greater than number of elements in index 3, updating n_results = 3\n"
          ]
        },
        {
          "output_type": "stream",
          "name": "stdout",
          "text": [
            "* [SIM=40.248814] Programmed cell death (PCD) is the regulated death of cells within an organism. The lace plant (Aponogeton madagascariensis) produces perforations in its leaves through PCD. The leaves of the plant consist of a latticework of longitudinal and transverse veins enclosing areoles. PCD occurs in the cells at the center of these areoles and progresses outwards, stopping approximately five cells from the vasculature. The role of mitochondria during PCD has been recognized in animals; however, it has been less studied during PCD in plants. The following paper elucidates the role of mitochondrial dynamics during developmentally regulated PCD in vivo in A. madagascariensis. A single areole within a window stage leaf (PCD is occurring) was divided into three areas based on the progression of PCD; cells that will not undergo PCD (NPCD), cells in early stages of PCD (EPCD), and cells in late stages of PCD (LPCD). [{'source': 'tweet'}]\n",
            "* [SIM=44.876183] Window stage leaves were stained with the mitochondrial dye MitoTracker Red CMXRos and examined. Mitochondrial dynamics were delineated into four categories (M1-M4) based on characteristics including distribution, motility, and membrane potential (ΔΨm). A TUNEL assay showed fragmented nDNA in a gradient over these mitochondrial stages. Chloroplasts and transvacuolar strands were also examined using live cell imaging. The possible importance of mitochondrial permeability transition pore (PTP) formation during PCD was indirectly examined via in vivo cyclosporine A (CsA) treatment. This treatment resulted in lace plant leaves with a significantly lower number of perforations compared to controls, and that displayed mitochondrial dynamics similar to that of non-PCD cells. Results depicted mitochondrial dynamics in vivo as PCD progresses within the lace plant, and highlight the correlation of this organelle with other organelles during developmental PCD. [{'source': 'tweet'}]\n",
            "* [SIM=49.699303] Results depicted mitochondrial dynamics in vivo as PCD progresses within the lace plant, and highlight the correlation of this organelle with other organelles during developmental PCD. To the best of our knowledge, this is the first report of mitochondria and chloroplasts moving on transvacuolar strands to form a ring structure surrounding the nucleus during developmental PCD. Also, for the first time, we have shown the feasibility for the use of CsA in a whole plant system. Overall, our findings implicate the mitochondria as playing a critical and early role in developmentally regulated PCD in the lace plant. [{'source': 'tweet'}]\n"
          ]
        }
      ]
    },
    {
      "cell_type": "code",
      "source": [
        "from huggingface_hub import login\n",
        "login(userdata.get('huggingface_token'))"
      ],
      "metadata": {
        "id": "wlGgA32045hW"
      },
      "execution_count": 199,
      "outputs": []
    },
    {
      "cell_type": "code",
      "source": [
        "! huggingface-cli download $generative_model --local-dir ./$generative_model"
      ],
      "metadata": {
        "id": "6cblxoGL4u3c",
        "colab": {
          "base_uri": "https://localhost:8080/"
        },
        "outputId": "afcfb03e-9522-437b-d64c-5a961eb3ce69"
      },
      "execution_count": null,
      "outputs": [
        {
          "output_type": "stream",
          "name": "stdout",
          "text": [
            "\rFetching 13 files:   0% 0/13 [00:00<?, ?it/s]Downloading 'USE_POLICY.md' to 'meta-llama/Llama-3.2-1B-Instruct/.cache/huggingface/download/USE_POLICY.md.ac3c5f21b9779e3da0677d6d3c587778fe3a331e.incomplete'\n",
            "Downloading '.gitattributes' to 'meta-llama/Llama-3.2-1B-Instruct/.cache/huggingface/download/.gitattributes.a6344aac8c09253b3b630fb776ae94478aa0275b.incomplete'\n",
            "Downloading 'config.json' to 'meta-llama/Llama-3.2-1B-Instruct/.cache/huggingface/download/config.json.3e3aaf51a035cb5092d9f6827a0dc074657ba88c.incomplete'\n",
            "Downloading 'original/params.json' to 'meta-llama/Llama-3.2-1B-Instruct/.cache/huggingface/download/original/params.json.9cd8dbdf2dc6f4d8abb60bdb5ce64f4bec2fdfd9.incomplete'\n",
            "Downloading 'generation_config.json' to 'meta-llama/Llama-3.2-1B-Instruct/.cache/huggingface/download/generation_config.json.75ae08310d6d23df373ee2644b497192b3cce6d8.incomplete'\n",
            "Downloading 'model.safetensors' to 'meta-llama/Llama-3.2-1B-Instruct/.cache/huggingface/download/model.safetensors.1ff795ff6a07e6a68085d206fb84417da2f083f68391c2843cd2b8ac6df8538f.incomplete'\n",
            "Downloading 'original/consolidated.00.pth' to 'meta-llama/Llama-3.2-1B-Instruct/.cache/huggingface/download/original/consolidated.00.pth.fc17d497df5e4175b3a8acb4f5865b26f7fc1b009b25bef814b95fde10e8a1f3.incomplete'\n",
            "Downloading 'original/tokenizer.model' to 'meta-llama/Llama-3.2-1B-Instruct/.cache/huggingface/download/original/tokenizer.model.82e9d31979e92ab929cd544440f129d9ecd797b69e327f80f17e1c50d5551b55.incomplete'\n",
            "\n",
            "model.safetensors:   0% 0.00/2.47G [00:00<?, ?B/s]\u001b[A\n",
            "\n",
            "generation_config.json: 100% 189/189 [00:00<00:00, 1.47MB/s]\n",
            "Download complete. Moving file to meta-llama/Llama-3.2-1B-Instruct/generation_config.json\n",
            "\n",
            "\n",
            "config.json: 100% 877/877 [00:00<00:00, 1.28MB/s]\n",
            "\n",
            "\n",
            ".gitattributes: 100% 1.52k/1.52k [00:00<00:00, 10.8MB/s]\n",
            "Download complete. Moving file to meta-llama/Llama-3.2-1B-Instruct/config.json\n",
            "Download complete. Moving file to meta-llama/Llama-3.2-1B-Instruct/.gitattributes\n",
            "\n",
            "\n",
            "original/params.json: 100% 220/220 [00:00<00:00, 1.93MB/s]\n",
            "Download complete. Moving file to meta-llama/Llama-3.2-1B-Instruct/original/params.json\n",
            "Fetching 13 files:   8% 1/13 [00:00<00:02,  4.32it/s]\n",
            "\n",
            "USE_POLICY.md:   0% 0.00/6.02k [00:00<?, ?B/s]\u001b[A\u001b[A\n",
            "\n",
            "\n",
            "USE_POLICY.md: 100% 6.02k/6.02k [00:00<00:00, 5.48MB/s]\n",
            "Download complete. Moving file to meta-llama/Llama-3.2-1B-Instruct/USE_POLICY.md\n",
            "Downloading 'special_tokens_map.json' to 'meta-llama/Llama-3.2-1B-Instruct/.cache/huggingface/download/special_tokens_map.json.02ee80b6196926a5ad790a004d9efd6ab1ba6542.incomplete'\n",
            "Downloading 'tokenizer_config.json' to 'meta-llama/Llama-3.2-1B-Instruct/.cache/huggingface/download/tokenizer_config.json.4ff488a165e900e5129cda7c20ab32d568d2a475.incomplete'\n",
            "Downloading 'tokenizer.json' to 'meta-llama/Llama-3.2-1B-Instruct/.cache/huggingface/download/tokenizer.json.5cc5f00a5b203e90a27a3bd60d1ec393b07971e8.incomplete'\n",
            "\n",
            "\n",
            "tokenizer.model: 100% 2.18M/2.18M [00:00<00:00, 40.3MB/s]\n",
            "Download complete. Moving file to meta-llama/Llama-3.2-1B-Instruct/original/tokenizer.model\n",
            "\n",
            "\n",
            "special_tokens_map.json: 100% 296/296 [00:00<00:00, 2.61MB/s]\n",
            "Download complete. Moving file to meta-llama/Llama-3.2-1B-Instruct/special_tokens_map.json\n",
            "\n",
            "\n",
            "tokenizer.json:   0% 0.00/9.09M [00:00<?, ?B/s]\u001b[A\u001b[A\n",
            "model.safetensors:   0% 10.5M/2.47G [00:00<01:01, 40.3MB/s]\u001b[A\n",
            "\n",
            "\n",
            "\n",
            "tokenizer_config.json: 100% 54.5k/54.5k [00:00<00:00, 5.41MB/s]\n",
            "Download complete. Moving file to meta-llama/Llama-3.2-1B-Instruct/tokenizer_config.json\n",
            "\n",
            "\n",
            "\n",
            "consolidated.00.pth:   0% 10.5M/2.47G [00:00<01:00, 41.0MB/s]\u001b[A\u001b[A\u001b[A\n",
            "model.safetensors:   1% 21.0M/2.47G [00:00<00:58, 41.6MB/s]\u001b[A\n",
            "\n",
            "\n",
            "consolidated.00.pth:   1% 21.0M/2.47G [00:00<00:57, 42.3MB/s]\u001b[A\u001b[A\u001b[A\n",
            "\n",
            "tokenizer.json: 100% 9.09M/9.09M [00:00<00:00, 21.5MB/s]\n",
            "Download complete. Moving file to meta-llama/Llama-3.2-1B-Instruct/tokenizer.json\n",
            "\n",
            "model.safetensors:   1% 31.5M/2.47G [00:00<00:57, 42.2MB/s]\u001b[A\n",
            "\n",
            "\n",
            "consolidated.00.pth:   1% 31.5M/2.47G [00:00<00:56, 42.9MB/s]\u001b[A\u001b[A\u001b[A\n",
            "model.safetensors:   2% 41.9M/2.47G [00:00<00:56, 42.8MB/s]\u001b[A\n",
            "\n",
            "\n",
            "consolidated.00.pth:   2% 41.9M/2.47G [00:00<00:56, 42.8MB/s]\u001b[A\u001b[A\u001b[A\n",
            "model.safetensors:   2% 52.4M/2.47G [00:01<00:56, 42.8MB/s]\u001b[A\n",
            "\n",
            "\n",
            "consolidated.00.pth:   2% 52.4M/2.47G [00:01<00:56, 42.8MB/s]\u001b[A\u001b[A\u001b[A\n",
            "model.safetensors:   3% 62.9M/2.47G [00:01<00:56, 42.7MB/s]\u001b[A\n",
            "\n",
            "\n",
            "consolidated.00.pth:   3% 62.9M/2.47G [00:01<00:56, 42.7MB/s]\u001b[A\u001b[A\u001b[A\n",
            "model.safetensors:   3% 73.4M/2.47G [00:01<00:56, 42.8MB/s]\u001b[A\n",
            "\n",
            "\n",
            "consolidated.00.pth:   3% 73.4M/2.47G [00:01<00:55, 42.9MB/s]\u001b[A\u001b[A\u001b[A\n",
            "model.safetensors:   3% 83.9M/2.47G [00:01<00:55, 42.8MB/s]\u001b[A\n",
            "\n",
            "\n",
            "consolidated.00.pth:   3% 83.9M/2.47G [00:01<00:55, 42.9MB/s]\u001b[A\u001b[A\u001b[A\n",
            "model.safetensors:   4% 94.4M/2.47G [00:02<00:55, 42.8MB/s]\u001b[A\n",
            "\n",
            "\n",
            "consolidated.00.pth:   4% 94.4M/2.47G [00:02<00:55, 42.8MB/s]\u001b[A\u001b[A\u001b[A\n",
            "model.safetensors:   4% 105M/2.47G [00:02<00:55, 42.9MB/s] \u001b[A\n",
            "\n",
            "\n",
            "consolidated.00.pth:   4% 105M/2.47G [00:02<00:55, 42.7MB/s] \u001b[A\u001b[A\u001b[A\n",
            "model.safetensors:   5% 115M/2.47G [00:02<00:54, 42.8MB/s]\u001b[A\n",
            "\n",
            "\n",
            "consolidated.00.pth:   5% 115M/2.47G [00:02<00:55, 42.8MB/s]\u001b[A\u001b[A\u001b[A\n",
            "model.safetensors:   5% 126M/2.47G [00:02<00:54, 42.8MB/s]\u001b[A\n",
            "\n",
            "\n",
            "consolidated.00.pth:   5% 126M/2.47G [00:02<00:54, 42.9MB/s]\u001b[A\u001b[A\u001b[A\n",
            "model.safetensors:   6% 136M/2.47G [00:03<00:54, 42.9MB/s]\u001b[A\n",
            "\n",
            "\n",
            "consolidated.00.pth:   6% 136M/2.47G [00:03<00:54, 42.9MB/s]\u001b[A\u001b[A\u001b[A\n",
            "model.safetensors:   6% 147M/2.47G [00:03<00:54, 43.0MB/s]\u001b[A\n",
            "model.safetensors:   6% 157M/2.47G [00:05<02:50, 13.6MB/s]\u001b[A\n",
            "\n",
            "\n",
            "consolidated.00.pth:   6% 147M/2.47G [00:05<03:01, 12.8MB/s]\u001b[A\u001b[A\u001b[A\n",
            "\n",
            "\n",
            "consolidated.00.pth:   7% 168M/2.47G [00:05<01:50, 20.8MB/s]\u001b[A\u001b[A\u001b[A\n",
            "model.safetensors:   7% 178M/2.47G [00:05<01:46, 21.6MB/s]\u001b[A\n",
            "\n",
            "\n",
            "consolidated.00.pth:   7% 178M/2.47G [00:05<01:36, 23.8MB/s]\u001b[A\u001b[A\u001b[A\n",
            "model.safetensors:   8% 189M/2.47G [00:05<01:32, 24.7MB/s]\u001b[A\n",
            "\n",
            "\n",
            "consolidated.00.pth:   8% 189M/2.47G [00:06<01:24, 27.0MB/s]\u001b[A\u001b[A\u001b[A\n",
            "model.safetensors:   8% 199M/2.47G [00:06<01:21, 27.8MB/s]\u001b[A\n",
            "\n",
            "\n",
            "consolidated.00.pth:   8% 199M/2.47G [00:06<01:15, 30.0MB/s]\u001b[A\u001b[A\u001b[A\n",
            "model.safetensors:   8% 210M/2.47G [00:06<01:13, 30.8MB/s]\u001b[A\n",
            "\n",
            "\n",
            "consolidated.00.pth:   8% 210M/2.47G [00:06<01:09, 32.8MB/s]\u001b[A\u001b[A\u001b[A\n",
            "model.safetensors:   9% 220M/2.47G [00:06<01:07, 33.3MB/s]\u001b[A\n",
            "model.safetensors:   9% 231M/2.47G [00:06<01:02, 35.9MB/s]\u001b[A\n",
            "\n",
            "\n",
            "consolidated.00.pth:   9% 220M/2.47G [00:06<01:04, 35.0MB/s]\u001b[A\u001b[A\u001b[A\n",
            "model.safetensors:  10% 241M/2.47G [00:07<00:59, 37.7MB/s]\u001b[A\n",
            "\n",
            "\n",
            "consolidated.00.pth:   9% 231M/2.47G [00:07<01:00, 36.9MB/s]\u001b[A\u001b[A\u001b[A\n",
            "\n",
            "\n",
            "consolidated.00.pth:  10% 241M/2.47G [00:07<00:57, 38.6MB/s]\u001b[A\u001b[A\u001b[A\n",
            "model.safetensors:  10% 252M/2.47G [00:07<00:57, 38.9MB/s]\u001b[A\n",
            "\n",
            "\n",
            "consolidated.00.pth:  10% 252M/2.47G [00:07<00:55, 39.7MB/s]\u001b[A\u001b[A\u001b[A\n",
            "model.safetensors:  11% 262M/2.47G [00:07<00:55, 40.0MB/s]\u001b[A\n",
            "\n",
            "\n",
            "consolidated.00.pth:  11% 262M/2.47G [00:07<00:54, 40.7MB/s]\u001b[A\u001b[A\u001b[A\n",
            "model.safetensors:  11% 273M/2.47G [00:07<00:54, 40.7MB/s]\u001b[A\n",
            "\n",
            "\n",
            "consolidated.00.pth:  11% 273M/2.47G [00:08<00:53, 41.4MB/s]\u001b[A\u001b[A\u001b[A\n",
            "model.safetensors:  11% 283M/2.47G [00:08<00:52, 41.4MB/s]\u001b[A\n",
            "\n",
            "\n",
            "consolidated.00.pth:  11% 283M/2.47G [00:08<00:52, 42.0MB/s]\u001b[A\u001b[A\u001b[A\n",
            "model.safetensors:  12% 294M/2.47G [00:08<00:51, 42.0MB/s]\u001b[A\n",
            "\n",
            "\n",
            "consolidated.00.pth:  12% 294M/2.47G [00:08<00:51, 42.2MB/s]\u001b[A\u001b[A\u001b[A\n",
            "model.safetensors:  12% 304M/2.47G [00:08<00:51, 42.2MB/s]\u001b[A\n",
            "\n",
            "\n",
            "consolidated.00.pth:  12% 304M/2.47G [00:08<00:51, 42.4MB/s]\u001b[A\u001b[A\u001b[A\n",
            "model.safetensors:  13% 315M/2.47G [00:08<00:50, 42.4MB/s]\u001b[A\n",
            "model.safetensors:  13% 325M/2.47G [00:09<01:05, 32.9MB/s]\u001b[A\n",
            "\n",
            "\n",
            "consolidated.00.pth:  13% 315M/2.47G [00:09<01:07, 32.1MB/s]\u001b[A\u001b[A\u001b[A\n",
            "\n",
            "\n",
            "consolidated.00.pth:  13% 325M/2.47G [00:09<00:54, 39.1MB/s]\u001b[A\u001b[A\u001b[A\n",
            "model.safetensors:  14% 346M/2.47G [00:11<02:17, 15.5MB/s]\u001b[A\n",
            "\n",
            "\n",
            "consolidated.00.pth:  14% 336M/2.47G [00:11<02:44, 13.0MB/s]\u001b[A\u001b[A\u001b[A\n",
            "model.safetensors:  14% 357M/2.47G [00:11<01:49, 19.3MB/s]\u001b[A\n",
            "model.safetensors:  15% 367M/2.47G [00:11<01:25, 24.6MB/s]\u001b[A\n",
            "\n",
            "\n",
            "consolidated.00.pth:  14% 357M/2.47G [00:11<01:39, 21.3MB/s]\u001b[A\u001b[A\u001b[A\n",
            "model.safetensors:  15% 377M/2.47G [00:12<01:15, 27.8MB/s]\u001b[A\n",
            "\n",
            "\n",
            "consolidated.00.pth:  15% 367M/2.47G [00:12<01:27, 24.0MB/s]\u001b[A\u001b[A\u001b[A\n",
            "model.safetensors:  16% 388M/2.47G [00:12<01:07, 30.9MB/s]\u001b[A\n",
            "\n",
            "\n",
            "consolidated.00.pth:  15% 377M/2.47G [00:12<01:16, 27.5MB/s]\u001b[A\u001b[A\u001b[A\n",
            "model.safetensors:  16% 398M/2.47G [00:12<01:01, 33.5MB/s]\u001b[A\n",
            "\n",
            "\n",
            "consolidated.00.pth:  16% 388M/2.47G [00:12<01:08, 30.4MB/s]\u001b[A\u001b[A\u001b[A\n",
            "model.safetensors:  17% 409M/2.47G [00:12<00:57, 35.6MB/s]\u001b[A\n",
            "\n",
            "\n",
            "consolidated.00.pth:  16% 398M/2.47G [00:12<01:07, 30.5MB/s]\u001b[A\u001b[A\u001b[A\n",
            "\n",
            "\n",
            "consolidated.00.pth:  17% 409M/2.47G [00:12<00:57, 36.2MB/s]\u001b[A\u001b[A\u001b[A\n",
            "model.safetensors:  17% 419M/2.47G [00:13<01:03, 32.5MB/s]\u001b[A\n",
            "\n",
            "\n",
            "consolidated.00.pth:  17% 419M/2.47G [00:13<00:53, 38.0MB/s]\u001b[A\u001b[A\u001b[A\n",
            "model.safetensors:  18% 440M/2.47G [00:13<00:49, 41.4MB/s]\u001b[A\n",
            "\n",
            "\n",
            "consolidated.00.pth:  17% 430M/2.47G [00:13<00:51, 39.4MB/s]\u001b[A\u001b[A\u001b[A\n",
            "model.safetensors:  18% 451M/2.47G [00:13<00:48, 41.7MB/s]\u001b[A\n",
            "\n",
            "\n",
            "consolidated.00.pth:  18% 440M/2.47G [00:13<00:50, 40.4MB/s]\u001b[A\u001b[A\u001b[A\n",
            "model.safetensors:  19% 461M/2.47G [00:14<00:47, 41.9MB/s]\u001b[A\n",
            "\n",
            "\n",
            "consolidated.00.pth:  18% 451M/2.47G [00:13<00:49, 41.0MB/s]\u001b[A\u001b[A\u001b[A\n",
            "model.safetensors:  19% 472M/2.47G [00:14<00:47, 42.2MB/s]\u001b[A\n",
            "\n",
            "\n",
            "consolidated.00.pth:  19% 461M/2.47G [00:14<00:48, 41.6MB/s]\u001b[A\u001b[A\u001b[A\n",
            "model.safetensors:  20% 482M/2.47G [00:14<00:46, 42.4MB/s]\u001b[A\n",
            "\n",
            "\n",
            "consolidated.00.pth:  19% 472M/2.47G [00:14<00:48, 41.2MB/s]\u001b[A\u001b[A\u001b[A\n",
            "model.safetensors:  20% 493M/2.47G [00:14<00:47, 42.0MB/s]\u001b[A\n",
            "\n",
            "\n",
            "consolidated.00.pth:  20% 482M/2.47G [00:14<00:47, 41.6MB/s]\u001b[A\u001b[A\u001b[A\n",
            "model.safetensors:  20% 503M/2.47G [00:15<00:46, 42.4MB/s]\u001b[A\n",
            "\n",
            "\n",
            "consolidated.00.pth:  20% 493M/2.47G [00:14<00:47, 41.9MB/s]\u001b[A\u001b[A\u001b[A\n",
            "model.safetensors:  21% 514M/2.47G [00:15<00:46, 42.5MB/s]\u001b[A\n",
            "\n",
            "\n",
            "consolidated.00.pth:  20% 503M/2.47G [00:15<00:46, 42.2MB/s]\u001b[A\u001b[A\u001b[A\n",
            "model.safetensors:  21% 524M/2.47G [00:15<00:45, 42.4MB/s]\u001b[A\n",
            "\n",
            "\n",
            "consolidated.00.pth:  21% 514M/2.47G [00:15<00:46, 42.4MB/s]\u001b[A\u001b[A\u001b[A\n",
            "model.safetensors:  22% 535M/2.47G [00:15<00:45, 42.6MB/s]\u001b[A\n",
            "\n",
            "\n",
            "consolidated.00.pth:  21% 524M/2.47G [00:15<00:45, 42.7MB/s]\u001b[A\u001b[A\u001b[A\n",
            "model.safetensors:  22% 545M/2.47G [00:15<00:45, 42.8MB/s]\u001b[A\n",
            "\n",
            "\n",
            "consolidated.00.pth:  22% 535M/2.47G [00:15<00:45, 42.8MB/s]\u001b[A\u001b[A\u001b[A\n",
            "model.safetensors:  22% 556M/2.47G [00:16<00:44, 42.8MB/s]\u001b[A\n",
            "\n",
            "\n",
            "consolidated.00.pth:  22% 545M/2.47G [00:16<00:44, 42.8MB/s]\u001b[A\u001b[A\u001b[A\n",
            "model.safetensors:  23% 566M/2.47G [00:16<00:44, 42.7MB/s]\u001b[A\n",
            "\n",
            "\n",
            "consolidated.00.pth:  22% 556M/2.47G [00:16<00:44, 42.7MB/s]\u001b[A\u001b[A\u001b[A\n",
            "model.safetensors:  23% 577M/2.47G [00:16<00:44, 42.7MB/s]\u001b[A\n",
            "\n",
            "\n",
            "consolidated.00.pth:  23% 566M/2.47G [00:16<00:44, 42.8MB/s]\u001b[A\u001b[A\u001b[A\n",
            "model.safetensors:  24% 587M/2.47G [00:16<00:44, 42.8MB/s]\u001b[A\n",
            "\n",
            "\n",
            "consolidated.00.pth:  23% 577M/2.47G [00:16<00:44, 42.8MB/s]\u001b[A\u001b[A\u001b[A\n",
            "model.safetensors:  24% 598M/2.47G [00:17<00:43, 42.8MB/s]\u001b[A\n",
            "\n",
            "\n",
            "consolidated.00.pth:  24% 587M/2.47G [00:17<00:44, 42.6MB/s]\u001b[A\u001b[A\u001b[A\n",
            "model.safetensors:  25% 608M/2.47G [00:17<00:43, 43.0MB/s]\u001b[A\n",
            "\n",
            "\n",
            "consolidated.00.pth:  24% 598M/2.47G [00:17<00:44, 42.6MB/s]\u001b[A\u001b[A\u001b[A\n",
            "model.safetensors:  25% 619M/2.47G [00:17<00:43, 42.9MB/s]\u001b[A\n",
            "\n",
            "\n",
            "consolidated.00.pth:  25% 608M/2.47G [00:17<00:43, 42.6MB/s]\u001b[A\u001b[A\u001b[A\n",
            "model.safetensors:  25% 629M/2.47G [00:17<00:43, 42.7MB/s]\u001b[A\n",
            "\n",
            "\n",
            "consolidated.00.pth:  25% 619M/2.47G [00:17<00:43, 42.5MB/s]\u001b[A\u001b[A\u001b[A\n",
            "model.safetensors:  26% 640M/2.47G [00:18<00:43, 42.6MB/s]\u001b[A\n",
            "\n",
            "\n",
            "consolidated.00.pth:  25% 629M/2.47G [00:18<00:43, 42.5MB/s]\u001b[A\u001b[A\u001b[A\n",
            "model.safetensors:  26% 650M/2.47G [00:18<00:42, 42.6MB/s]\u001b[A\n",
            "\n",
            "\n",
            "consolidated.00.pth:  26% 640M/2.47G [00:18<00:43, 42.5MB/s]\u001b[A\u001b[A\u001b[A\n",
            "model.safetensors:  27% 661M/2.47G [00:18<00:42, 42.6MB/s]\u001b[A\n",
            "\n",
            "\n",
            "consolidated.00.pth:  26% 650M/2.47G [00:18<00:42, 42.7MB/s]\u001b[A\u001b[A\u001b[A\n",
            "model.safetensors:  27% 671M/2.47G [00:18<00:42, 42.8MB/s]\u001b[A\n",
            "\n",
            "\n",
            "consolidated.00.pth:  27% 661M/2.47G [00:18<00:42, 42.7MB/s]\u001b[A\u001b[A\u001b[A\n",
            "model.safetensors:  28% 682M/2.47G [00:19<00:41, 42.7MB/s]\u001b[A\n",
            "model.safetensors:  28% 692M/2.47G [00:19<00:48, 36.4MB/s]\u001b[A\n",
            "\n",
            "\n",
            "consolidated.00.pth:  27% 671M/2.47G [00:19<00:59, 30.4MB/s]\u001b[A\u001b[A\u001b[A\n",
            "model.safetensors:  28% 703M/2.47G [00:19<00:40, 44.1MB/s]\u001b[A\n",
            "\n",
            "\n",
            "consolidated.00.pth:  28% 682M/2.47G [00:19<00:48, 37.0MB/s]\u001b[A\u001b[A\u001b[A\n",
            "model.safetensors:  29% 713M/2.47G [00:19<00:39, 44.4MB/s]\u001b[A\n",
            "model.safetensors:  29% 724M/2.47G [00:20<00:39, 44.0MB/s]\u001b[A\n",
            "model.safetensors:  30% 734M/2.47G [00:20<00:39, 43.6MB/s]\u001b[A\n",
            "model.safetensors:  30% 744M/2.47G [00:20<00:39, 43.3MB/s]\u001b[A\n",
            "model.safetensors:  31% 755M/2.47G [00:20<00:39, 43.3MB/s]\u001b[A\n",
            "\n",
            "\n",
            "consolidated.00.pth:  28% 692M/2.47G [00:21<01:45, 16.8MB/s]\u001b[A\u001b[A\u001b[A\n",
            "model.safetensors:  31% 765M/2.47G [00:21<00:39, 43.2MB/s]\u001b[A\n",
            "\n",
            "\n",
            "consolidated.00.pth:  28% 703M/2.47G [00:21<01:20, 21.9MB/s]\u001b[A\u001b[A\u001b[A\n",
            "\n",
            "\n",
            "consolidated.00.pth:  29% 713M/2.47G [00:21<01:01, 28.6MB/s]\u001b[A\u001b[A\u001b[A\n",
            "model.safetensors:  31% 776M/2.47G [00:21<00:39, 43.0MB/s]\u001b[A\n",
            "\n",
            "\n",
            "consolidated.00.pth:  29% 724M/2.47G [00:21<00:55, 31.6MB/s]\u001b[A\u001b[A\u001b[A\n",
            "model.safetensors:  32% 786M/2.47G [00:21<00:39, 43.0MB/s]\u001b[A\n",
            "\n",
            "\n",
            "consolidated.00.pth:  30% 734M/2.47G [00:21<00:50, 34.3MB/s]\u001b[A\u001b[A\u001b[A\n",
            "model.safetensors:  32% 797M/2.47G [00:21<00:39, 42.8MB/s]\u001b[A\n",
            "\n",
            "\n",
            "consolidated.00.pth:  30% 744M/2.47G [00:22<00:47, 36.6MB/s]\u001b[A\u001b[A\u001b[A\n",
            "model.safetensors:  33% 807M/2.47G [00:22<00:38, 42.8MB/s]\u001b[A\n",
            "\n",
            "\n",
            "consolidated.00.pth:  31% 755M/2.47G [00:22<00:44, 38.3MB/s]\u001b[A\u001b[A\u001b[A\n",
            "model.safetensors:  33% 818M/2.47G [00:22<00:38, 42.9MB/s]\u001b[A\n",
            "\n",
            "\n",
            "consolidated.00.pth:  31% 765M/2.47G [00:22<00:43, 39.4MB/s]\u001b[A\u001b[A\u001b[A\n",
            "model.safetensors:  34% 828M/2.47G [00:22<00:38, 42.8MB/s]\u001b[A\n",
            "\n",
            "\n",
            "consolidated.00.pth:  31% 776M/2.47G [00:22<00:41, 40.5MB/s]\u001b[A\u001b[A\u001b[A\n",
            "model.safetensors:  34% 839M/2.47G [00:22<00:37, 43.0MB/s]\u001b[A\n",
            "\n",
            "\n",
            "consolidated.00.pth:  32% 786M/2.47G [00:22<00:40, 41.2MB/s]\u001b[A\u001b[A\u001b[A\n",
            "model.safetensors:  34% 849M/2.47G [00:23<00:37, 42.9MB/s]\u001b[A\n",
            "\n",
            "\n",
            "consolidated.00.pth:  32% 797M/2.47G [00:23<00:40, 41.6MB/s]\u001b[A\u001b[A\u001b[A\n",
            "model.safetensors:  35% 860M/2.47G [00:23<00:37, 42.7MB/s]\u001b[A\n",
            "\n",
            "\n",
            "consolidated.00.pth:  33% 807M/2.47G [00:23<00:39, 41.9MB/s]\u001b[A\u001b[A\u001b[A\n",
            "model.safetensors:  35% 870M/2.47G [00:23<00:37, 42.7MB/s]\u001b[A\n",
            "\n",
            "\n",
            "consolidated.00.pth:  33% 818M/2.47G [00:23<00:39, 42.1MB/s]\u001b[A\u001b[A\u001b[A\n",
            "model.safetensors:  36% 881M/2.47G [00:23<00:37, 42.8MB/s]\u001b[A\n",
            "\n",
            "\n",
            "consolidated.00.pth:  34% 828M/2.47G [00:23<00:38, 42.4MB/s]\u001b[A\u001b[A\u001b[A\n",
            "model.safetensors:  36% 891M/2.47G [00:24<00:37, 42.7MB/s]\u001b[A\n",
            "\n",
            "\n",
            "consolidated.00.pth:  34% 839M/2.47G [00:24<00:38, 42.5MB/s]\u001b[A\u001b[A\u001b[A\n",
            "model.safetensors:  36% 902M/2.47G [00:24<00:36, 42.6MB/s]\u001b[A\n",
            "\n",
            "\n",
            "consolidated.00.pth:  34% 849M/2.47G [00:24<00:38, 41.8MB/s]\u001b[A\u001b[A\u001b[A\n",
            "model.safetensors:  37% 912M/2.47G [00:24<00:44, 35.1MB/s]\u001b[A\n",
            "\n",
            "\n",
            "consolidated.00.pth:  35% 860M/2.47G [00:24<00:38, 41.9MB/s]\u001b[A\u001b[A\u001b[A\n",
            "model.safetensors:  38% 933M/2.47G [00:25<00:33, 45.4MB/s]\u001b[A\n",
            "\n",
            "\n",
            "consolidated.00.pth:  35% 870M/2.47G [00:25<00:47, 33.8MB/s]\u001b[A\u001b[A\u001b[A\n",
            "model.safetensors:  38% 944M/2.47G [00:25<00:34, 44.6MB/s]\u001b[A\n",
            "model.safetensors:  39% 954M/2.47G [00:25<00:34, 44.3MB/s]\u001b[A\n",
            "\n",
            "\n",
            "consolidated.00.pth:  36% 891M/2.47G [00:25<00:34, 45.3MB/s]\u001b[A\u001b[A\u001b[A\n",
            "model.safetensors:  39% 965M/2.47G [00:25<00:34, 43.8MB/s]\u001b[A\n",
            "\n",
            "\n",
            "consolidated.00.pth:  36% 902M/2.47G [00:25<00:35, 44.6MB/s]\u001b[A\u001b[A\u001b[A\n",
            "model.safetensors:  39% 975M/2.47G [00:26<00:34, 43.4MB/s]\u001b[A\n",
            "\n",
            "\n",
            "consolidated.00.pth:  37% 912M/2.47G [00:25<00:35, 44.3MB/s]\u001b[A\u001b[A\u001b[A\n",
            "model.safetensors:  40% 986M/2.47G [00:26<00:34, 43.2MB/s]\u001b[A\n",
            "\n",
            "\n",
            "consolidated.00.pth:  37% 923M/2.47G [00:26<00:35, 43.4MB/s]\u001b[A\u001b[A\u001b[A\n",
            "model.safetensors:  40% 996M/2.47G [00:26<00:34, 43.1MB/s]\u001b[A\n",
            "\n",
            "\n",
            "consolidated.00.pth:  38% 933M/2.47G [00:26<00:35, 43.5MB/s]\u001b[A\u001b[A\u001b[A\n",
            "model.safetensors:  41% 1.01G/2.47G [00:26<00:34, 42.9MB/s]\u001b[A\n",
            "\n",
            "\n",
            "consolidated.00.pth:  38% 944M/2.47G [00:26<00:35, 43.5MB/s]\u001b[A\u001b[A\u001b[A\n",
            "model.safetensors:  41% 1.02G/2.47G [00:27<00:33, 42.9MB/s]\u001b[A\n",
            "\n",
            "\n",
            "consolidated.00.pth:  39% 954M/2.47G [00:26<00:35, 43.3MB/s]\u001b[A\u001b[A\u001b[A\n",
            "model.safetensors:  42% 1.03G/2.47G [00:27<00:33, 42.9MB/s]\u001b[A\n",
            "\n",
            "\n",
            "consolidated.00.pth:  39% 965M/2.47G [00:27<00:34, 43.1MB/s]\u001b[A\u001b[A\u001b[A\n",
            "model.safetensors:  42% 1.04G/2.47G [00:27<00:33, 42.9MB/s]\u001b[A\n",
            "\n",
            "\n",
            "consolidated.00.pth:  39% 975M/2.47G [00:27<00:34, 43.0MB/s]\u001b[A\u001b[A\u001b[A\n",
            "model.safetensors:  42% 1.05G/2.47G [00:27<00:33, 43.1MB/s]\u001b[A\n",
            "\n",
            "\n",
            "consolidated.00.pth:  40% 986M/2.47G [00:27<00:34, 42.7MB/s]\u001b[A\u001b[A\u001b[A\n",
            "model.safetensors:  43% 1.06G/2.47G [00:27<00:32, 43.1MB/s]\u001b[A\n",
            "\n",
            "\n",
            "consolidated.00.pth:  40% 996M/2.47G [00:27<00:34, 43.1MB/s]\u001b[A\u001b[A\u001b[A\n",
            "model.safetensors:  43% 1.07G/2.47G [00:28<00:32, 43.1MB/s]\u001b[A\n",
            "\n",
            "\n",
            "consolidated.00.pth:  41% 1.01G/2.47G [00:28<00:33, 43.1MB/s]\u001b[A\u001b[A\u001b[A\n",
            "model.safetensors:  44% 1.08G/2.47G [00:28<00:32, 42.8MB/s]\u001b[A\n",
            "\n",
            "\n",
            "consolidated.00.pth:  41% 1.02G/2.47G [00:28<00:33, 43.0MB/s]\u001b[A\u001b[A\u001b[A\n",
            "model.safetensors:  44% 1.09G/2.47G [00:28<00:32, 43.0MB/s]\u001b[A\n",
            "\n",
            "\n",
            "consolidated.00.pth:  42% 1.03G/2.47G [00:28<00:33, 42.8MB/s]\u001b[A\u001b[A\u001b[A\n",
            "model.safetensors:  45% 1.10G/2.47G [00:28<00:31, 42.9MB/s]\u001b[A\n",
            "\n",
            "\n",
            "consolidated.00.pth:  42% 1.04G/2.47G [00:28<00:33, 42.8MB/s]\u001b[A\u001b[A\u001b[A\n",
            "model.safetensors:  45% 1.11G/2.47G [00:29<00:31, 43.0MB/s]\u001b[A\n",
            "\n",
            "\n",
            "consolidated.00.pth:  42% 1.05G/2.47G [00:29<00:33, 42.4MB/s]\u001b[A\u001b[A\u001b[A\n",
            "model.safetensors:  45% 1.12G/2.47G [00:29<00:31, 43.0MB/s]\u001b[A\n",
            "\n",
            "\n",
            "consolidated.00.pth:  43% 1.06G/2.47G [00:29<00:32, 43.0MB/s]\u001b[A\u001b[A\u001b[A\n",
            "model.safetensors:  46% 1.13G/2.47G [00:29<00:31, 42.9MB/s]\u001b[A\n",
            "\n",
            "\n",
            "consolidated.00.pth:  43% 1.07G/2.47G [00:29<00:32, 43.1MB/s]\u001b[A\u001b[A\u001b[A\n",
            "model.safetensors:  46% 1.14G/2.47G [00:29<00:31, 42.8MB/s]\u001b[A\n",
            "\n",
            "\n",
            "consolidated.00.pth:  44% 1.08G/2.47G [00:29<00:32, 43.0MB/s]\u001b[A\u001b[A\u001b[A\n",
            "model.safetensors:  47% 1.15G/2.47G [00:30<00:30, 42.8MB/s]\u001b[A\n",
            "\n",
            "\n",
            "consolidated.00.pth:  44% 1.09G/2.47G [00:30<00:32, 43.1MB/s]\u001b[A\u001b[A\u001b[A\n",
            "model.safetensors:  47% 1.16G/2.47G [00:30<00:30, 42.7MB/s]\u001b[A\n",
            "\n",
            "\n",
            "consolidated.00.pth:  45% 1.10G/2.47G [00:30<00:32, 42.6MB/s]\u001b[A\u001b[A\u001b[A\n",
            "model.safetensors:  48% 1.17G/2.47G [00:30<00:30, 42.6MB/s]\u001b[A\n",
            "\n",
            "\n",
            "consolidated.00.pth:  45% 1.11G/2.47G [00:30<00:31, 42.9MB/s]\u001b[A\u001b[A\u001b[A\n",
            "model.safetensors:  48% 1.18G/2.47G [00:30<00:30, 42.7MB/s]\u001b[A\n",
            "\n",
            "\n",
            "consolidated.00.pth:  45% 1.12G/2.47G [00:30<00:31, 42.2MB/s]\u001b[A\u001b[A\u001b[A\n",
            "model.safetensors:  48% 1.20G/2.47G [00:31<00:29, 42.7MB/s]\u001b[A\n",
            "\n",
            "\n",
            "consolidated.00.pth:  46% 1.13G/2.47G [00:31<00:31, 42.8MB/s]\u001b[A\u001b[A\u001b[A\n",
            "model.safetensors:  49% 1.21G/2.47G [00:31<00:29, 42.8MB/s]\u001b[A\n",
            "\n",
            "\n",
            "consolidated.00.pth:  46% 1.14G/2.47G [00:31<00:31, 42.8MB/s]\u001b[A\u001b[A\u001b[A\n",
            "model.safetensors:  49% 1.22G/2.47G [00:31<00:29, 42.8MB/s]\u001b[A\n",
            "\n",
            "\n",
            "consolidated.00.pth:  47% 1.15G/2.47G [00:31<00:30, 43.0MB/s]\u001b[A\u001b[A\u001b[A\n",
            "model.safetensors:  50% 1.23G/2.47G [00:31<00:29, 42.7MB/s]\u001b[A\n",
            "\n",
            "\n",
            "consolidated.00.pth:  47% 1.16G/2.47G [00:31<00:30, 42.7MB/s]\u001b[A\u001b[A\u001b[A\n",
            "model.safetensors:  50% 1.24G/2.47G [00:32<00:29, 42.6MB/s]\u001b[A\n",
            "\n",
            "\n",
            "consolidated.00.pth:  48% 1.17G/2.47G [00:32<00:30, 42.9MB/s]\u001b[A\u001b[A\u001b[A\n",
            "model.safetensors:  50% 1.25G/2.47G [00:34<01:33, 13.0MB/s]\u001b[A\n",
            "\n",
            "\n",
            "consolidated.00.pth:  48% 1.18G/2.47G [00:34<01:39, 12.9MB/s]\u001b[A\u001b[A\u001b[A\n",
            "model.safetensors:  51% 1.26G/2.47G [00:34<01:08, 17.7MB/s]\u001b[A\n",
            "\n",
            "\n",
            "consolidated.00.pth:  48% 1.20G/2.47G [00:34<01:12, 17.5MB/s]\u001b[A\u001b[A\u001b[A\n",
            "model.safetensors:  51% 1.27G/2.47G [00:34<00:52, 22.9MB/s]\u001b[A\n",
            "\n",
            "\n",
            "consolidated.00.pth:  49% 1.21G/2.47G [00:34<00:55, 22.7MB/s]\u001b[A\u001b[A\u001b[A\n",
            "\n",
            "\n",
            "consolidated.00.pth:  49% 1.22G/2.47G [00:34<00:47, 26.3MB/s]\u001b[A\u001b[A\u001b[A\n",
            "model.safetensors:  52% 1.28G/2.47G [00:34<00:51, 23.0MB/s]\u001b[A\n",
            "\n",
            "\n",
            "consolidated.00.pth:  50% 1.23G/2.47G [00:34<00:41, 29.7MB/s]\u001b[A\u001b[A\u001b[A\n",
            "model.safetensors:  52% 1.29G/2.47G [00:35<00:39, 30.0MB/s]\u001b[A\n",
            "model.safetensors:  53% 1.30G/2.47G [00:35<00:33, 34.9MB/s]\u001b[A\n",
            "\n",
            "\n",
            "consolidated.00.pth:  50% 1.24G/2.47G [00:35<00:37, 32.8MB/s]\u001b[A\u001b[A\u001b[A\n",
            "model.safetensors:  53% 1.31G/2.47G [00:35<00:31, 36.9MB/s]\u001b[A\n",
            "\n",
            "\n",
            "consolidated.00.pth:  50% 1.25G/2.47G [00:35<00:34, 35.4MB/s]\u001b[A\u001b[A\u001b[A\n",
            "model.safetensors:  53% 1.32G/2.47G [00:35<00:29, 38.4MB/s]\u001b[A\n",
            "\n",
            "\n",
            "consolidated.00.pth:  51% 1.26G/2.47G [00:35<00:32, 37.3MB/s]\u001b[A\u001b[A\u001b[A\n",
            "model.safetensors:  54% 1.33G/2.47G [00:35<00:28, 39.6MB/s]\u001b[A\n",
            "\n",
            "\n",
            "consolidated.00.pth:  51% 1.27G/2.47G [00:35<00:32, 37.5MB/s]\u001b[A\u001b[A\u001b[A\n",
            "model.safetensors:  54% 1.34G/2.47G [00:36<00:27, 40.3MB/s]\u001b[A\n",
            "\n",
            "\n",
            "consolidated.00.pth:  52% 1.28G/2.47G [00:36<00:31, 38.0MB/s]\u001b[A\u001b[A\u001b[A\n",
            "model.safetensors:  55% 1.35G/2.47G [00:36<00:27, 41.1MB/s]\u001b[A\n",
            "\n",
            "\n",
            "consolidated.00.pth:  52% 1.29G/2.47G [00:36<00:31, 38.0MB/s]\u001b[A\u001b[A\u001b[A\n",
            "model.safetensors:  55% 1.36G/2.47G [00:36<00:26, 41.6MB/s]\u001b[A\n",
            "\n",
            "\n",
            "consolidated.00.pth:  53% 1.30G/2.47G [00:36<00:31, 37.8MB/s]\u001b[A\u001b[A\u001b[A\n",
            "model.safetensors:  56% 1.37G/2.47G [00:36<00:26, 42.2MB/s]\u001b[A\n",
            "\n",
            "\n",
            "consolidated.00.pth:  53% 1.31G/2.47G [00:37<00:30, 37.6MB/s]\u001b[A\u001b[A\u001b[A\n",
            "model.safetensors:  56% 1.38G/2.47G [00:37<00:25, 42.4MB/s]\u001b[A\n",
            "\n",
            "\n",
            "consolidated.00.pth:  53% 1.32G/2.47G [00:37<00:30, 37.3MB/s]\u001b[A\u001b[A\u001b[A\n",
            "model.safetensors:  56% 1.39G/2.47G [00:37<00:25, 42.2MB/s]\u001b[A\n",
            "model.safetensors:  57% 1.41G/2.47G [00:37<00:25, 42.5MB/s]\u001b[A\n",
            "\n",
            "\n",
            "consolidated.00.pth:  54% 1.33G/2.47G [00:37<00:30, 37.0MB/s]\u001b[A\u001b[A\u001b[A\n",
            "model.safetensors:  57% 1.42G/2.47G [00:37<00:24, 42.8MB/s]\u001b[A\n",
            "\n",
            "\n",
            "consolidated.00.pth:  54% 1.34G/2.47G [00:37<00:30, 36.9MB/s]\u001b[A\u001b[A\u001b[A\n",
            "model.safetensors:  58% 1.43G/2.47G [00:38<00:24, 42.8MB/s]\u001b[A\n",
            "\n",
            "\n",
            "consolidated.00.pth:  55% 1.35G/2.47G [00:38<00:30, 36.8MB/s]\u001b[A\u001b[A\u001b[A"
          ]
        }
      ]
    },
    {
      "cell_type": "code",
      "source": [
        "from langchain_core.output_parsers import StrOutputParser\n",
        "from langchain_core.prompts import ChatPromptTemplate\n",
        "from langchain_core.runnables import RunnablePassthrough\n",
        "from transformers import AutoTokenizer, AutoModelForCausalLM, pipeline\n",
        "from langchain.llms import HuggingFacePipeline\n",
        "\n",
        "# Load the model and tokenizer\n",
        "tokenizer = AutoTokenizer.from_pretrained(\"./\"+generative_model)\n",
        "model_hf = AutoModelForCausalLM.from_pretrained(\"./\"+generative_model)"
      ],
      "metadata": {
        "id": "oBPEX_CgAfiV",
        "colab": {
          "base_uri": "https://localhost:8080/",
          "height": 478
        },
        "outputId": "91c1a55a-1284-4662-ecec-e4c7c244fbf8"
      },
      "execution_count": 38,
      "outputs": [
        {
          "output_type": "error",
          "ename": "OSError",
          "evalue": "Can't load tokenizer for './meta-llama/Llama-3.2-1B-Instruct'. If you were trying to load it from 'https://huggingface.co/models', make sure you don't have a local directory with the same name. Otherwise, make sure './meta-llama/Llama-3.2-1B-Instruct' is the correct path to a directory containing all relevant files for a LlamaTokenizerFast tokenizer.",
          "traceback": [
            "\u001b[0;31m---------------------------------------------------------------------------\u001b[0m",
            "\u001b[0;31mOSError\u001b[0m                                   Traceback (most recent call last)",
            "\u001b[0;32m<ipython-input-38-3d7736bda35f>\u001b[0m in \u001b[0;36m<cell line: 8>\u001b[0;34m()\u001b[0m\n\u001b[1;32m      6\u001b[0m \u001b[0;34m\u001b[0m\u001b[0m\n\u001b[1;32m      7\u001b[0m \u001b[0;31m# Load the model and tokenizer\u001b[0m\u001b[0;34m\u001b[0m\u001b[0;34m\u001b[0m\u001b[0m\n\u001b[0;32m----> 8\u001b[0;31m \u001b[0mtokenizer\u001b[0m \u001b[0;34m=\u001b[0m \u001b[0mAutoTokenizer\u001b[0m\u001b[0;34m.\u001b[0m\u001b[0mfrom_pretrained\u001b[0m\u001b[0;34m(\u001b[0m\u001b[0;34m\"./\"\u001b[0m\u001b[0;34m+\u001b[0m\u001b[0mgenerative_model\u001b[0m\u001b[0;34m)\u001b[0m\u001b[0;34m\u001b[0m\u001b[0;34m\u001b[0m\u001b[0m\n\u001b[0m\u001b[1;32m      9\u001b[0m \u001b[0mmodel_hf\u001b[0m \u001b[0;34m=\u001b[0m \u001b[0mAutoModelForCausalLM\u001b[0m\u001b[0;34m.\u001b[0m\u001b[0mfrom_pretrained\u001b[0m\u001b[0;34m(\u001b[0m\u001b[0;34m\"./\"\u001b[0m\u001b[0;34m+\u001b[0m\u001b[0mgenerative_model\u001b[0m\u001b[0;34m)\u001b[0m\u001b[0;34m\u001b[0m\u001b[0;34m\u001b[0m\u001b[0m\n",
            "\u001b[0;32m/usr/local/lib/python3.10/dist-packages/transformers/models/auto/tokenization_auto.py\u001b[0m in \u001b[0;36mfrom_pretrained\u001b[0;34m(cls, pretrained_model_name_or_path, *inputs, **kwargs)\u001b[0m\n\u001b[1;32m    937\u001b[0m \u001b[0;34m\u001b[0m\u001b[0m\n\u001b[1;32m    938\u001b[0m             \u001b[0;32mif\u001b[0m \u001b[0mtokenizer_class_fast\u001b[0m \u001b[0;32mand\u001b[0m \u001b[0;34m(\u001b[0m\u001b[0muse_fast\u001b[0m \u001b[0;32mor\u001b[0m \u001b[0mtokenizer_class_py\u001b[0m \u001b[0;32mis\u001b[0m \u001b[0;32mNone\u001b[0m\u001b[0;34m)\u001b[0m\u001b[0;34m:\u001b[0m\u001b[0;34m\u001b[0m\u001b[0;34m\u001b[0m\u001b[0m\n\u001b[0;32m--> 939\u001b[0;31m                 \u001b[0;32mreturn\u001b[0m \u001b[0mtokenizer_class_fast\u001b[0m\u001b[0;34m.\u001b[0m\u001b[0mfrom_pretrained\u001b[0m\u001b[0;34m(\u001b[0m\u001b[0mpretrained_model_name_or_path\u001b[0m\u001b[0;34m,\u001b[0m \u001b[0;34m*\u001b[0m\u001b[0minputs\u001b[0m\u001b[0;34m,\u001b[0m \u001b[0;34m**\u001b[0m\u001b[0mkwargs\u001b[0m\u001b[0;34m)\u001b[0m\u001b[0;34m\u001b[0m\u001b[0;34m\u001b[0m\u001b[0m\n\u001b[0m\u001b[1;32m    940\u001b[0m             \u001b[0;32melse\u001b[0m\u001b[0;34m:\u001b[0m\u001b[0;34m\u001b[0m\u001b[0;34m\u001b[0m\u001b[0m\n\u001b[1;32m    941\u001b[0m                 \u001b[0;32mif\u001b[0m \u001b[0mtokenizer_class_py\u001b[0m \u001b[0;32mis\u001b[0m \u001b[0;32mnot\u001b[0m \u001b[0;32mNone\u001b[0m\u001b[0;34m:\u001b[0m\u001b[0;34m\u001b[0m\u001b[0;34m\u001b[0m\u001b[0m\n",
            "\u001b[0;32m/usr/local/lib/python3.10/dist-packages/transformers/tokenization_utils_base.py\u001b[0m in \u001b[0;36mfrom_pretrained\u001b[0;34m(cls, pretrained_model_name_or_path, cache_dir, force_download, local_files_only, token, revision, trust_remote_code, *init_inputs, **kwargs)\u001b[0m\n\u001b[1;32m   2195\u001b[0m         \u001b[0;31m# loaded directly from the GGUF file.\u001b[0m\u001b[0;34m\u001b[0m\u001b[0;34m\u001b[0m\u001b[0m\n\u001b[1;32m   2196\u001b[0m         \u001b[0;32mif\u001b[0m \u001b[0mall\u001b[0m\u001b[0;34m(\u001b[0m\u001b[0mfull_file_name\u001b[0m \u001b[0;32mis\u001b[0m \u001b[0;32mNone\u001b[0m \u001b[0;32mfor\u001b[0m \u001b[0mfull_file_name\u001b[0m \u001b[0;32min\u001b[0m \u001b[0mresolved_vocab_files\u001b[0m\u001b[0;34m.\u001b[0m\u001b[0mvalues\u001b[0m\u001b[0;34m(\u001b[0m\u001b[0;34m)\u001b[0m\u001b[0;34m)\u001b[0m \u001b[0;32mand\u001b[0m \u001b[0;32mnot\u001b[0m \u001b[0mgguf_file\u001b[0m\u001b[0;34m:\u001b[0m\u001b[0;34m\u001b[0m\u001b[0;34m\u001b[0m\u001b[0m\n\u001b[0;32m-> 2197\u001b[0;31m             raise EnvironmentError(\n\u001b[0m\u001b[1;32m   2198\u001b[0m                 \u001b[0;34mf\"Can't load tokenizer for '{pretrained_model_name_or_path}'. If you were trying to load it from \"\u001b[0m\u001b[0;34m\u001b[0m\u001b[0;34m\u001b[0m\u001b[0m\n\u001b[1;32m   2199\u001b[0m                 \u001b[0;34m\"'https://huggingface.co/models', make sure you don't have a local directory with the same name. \"\u001b[0m\u001b[0;34m\u001b[0m\u001b[0;34m\u001b[0m\u001b[0m\n",
            "\u001b[0;31mOSError\u001b[0m: Can't load tokenizer for './meta-llama/Llama-3.2-1B-Instruct'. If you were trying to load it from 'https://huggingface.co/models', make sure you don't have a local directory with the same name. Otherwise, make sure './meta-llama/Llama-3.2-1B-Instruct' is the correct path to a directory containing all relevant files for a LlamaTokenizerFast tokenizer."
          ]
        }
      ]
    },
    {
      "cell_type": "code",
      "source": [
        "retriever = vector_store.as_retriever()\n",
        "template = \"\"\"Answer the question based only on the following context:\n",
        "{context}\n",
        "\n",
        "Question: {question}\n",
        "\"\"\"\n",
        "\n",
        "prompt = ChatPromptTemplate.from_template(template)\n",
        "\n",
        "# Create a pipeline for text generation\n",
        "pipe = pipeline(\n",
        "    \"text-generation\",\n",
        "    model=model_hf,\n",
        "    tokenizer=tokenizer,\n",
        "    max_new_tokens=512,\n",
        "    device=\"cuda\"\n",
        "    )\n",
        "\n",
        "# Wrap the pipeline in a LangChain HuggingFacePipeline object\n",
        "llm = HuggingFacePipeline(pipeline=pipe)\n",
        "\n",
        "retrieval_chain = (\n",
        "    {\"context\": retriever, \"question\": RunnablePassthrough()}\n",
        "    | prompt\n",
        "    | llm\n",
        "    | StrOutputParser()\n",
        ")\n",
        "\n",
        "response = retrieval_chain.invoke(\"Do mitochondria play a role in remodelling lace plant leaves during programmed cell death?\")"
      ],
      "metadata": {
        "id": "i-u8QePJ9T_C"
      },
      "execution_count": null,
      "outputs": []
    },
    {
      "cell_type": "code",
      "source": [
        "\n",
        "# Assuming the output is a dictionary or a similar structure:\n",
        "if isinstance(response, dict):\n",
        "    for key, value in response.items():\n",
        "        print(f\"{key}: {value}\")\n",
        "elif isinstance(response, list):\n",
        "    for idx, item in enumerate(response):\n",
        "        print(f\"Item {idx + 1}: {item}\")\n",
        "else:\n",
        "    print(response)\n"
      ],
      "metadata": {
        "id": "qtljo1LJpZZT"
      },
      "execution_count": null,
      "outputs": []
    },
    {
      "cell_type": "code",
      "source": [
        "from tqdm import tqdm\n",
        "template = \"\"\"Answer the question, only with yes or no, based only on the following context:\n",
        "{context}\n",
        "Do not write anything else. Do not explain your answer.\n",
        "Question: {question}\n",
        "\"\"\"\n",
        "\n",
        "prompt = ChatPromptTemplate.from_template(template)\n",
        "\n",
        "# Create a pipeline for text generation\n",
        "pipe = pipeline(\n",
        "    \"text-generation\",\n",
        "    model=model_hf,\n",
        "    tokenizer=tokenizer,\n",
        "    max_new_tokens=10,\n",
        "    device=\"cuda\"\n",
        "    )\n",
        "\n",
        "# Wrap the pipeline in a LangChain HuggingFacePipeline object\n",
        "llm = HuggingFacePipeline(pipeline=pipe)\n",
        "\n",
        "retrieval_chain = (\n",
        "    {\"context\": retriever, \"question\": RunnablePassthrough()}\n",
        "    | prompt\n",
        "    | llm\n",
        "    | StrOutputParser()\n",
        ")\n",
        "\n",
        "# Initialize a counter for correct answers\n",
        "correct_count = 0\n",
        "q_a = zip(questions.question, questions.gold_label)\n",
        "print(len(questions.question))\n",
        "for question, gold_label in q_a:\n",
        "    answer = retrieval_chain.invoke(question)\n",
        "    print(type(answer))\n",
        "    y_n = answer.splitlines()[-1].split()[0]\n",
        "    # Check if the answer is \"yes\" or \"no\" and matches the gold label\n",
        "    if gold_label.lower() in answer[-1].lower():\n",
        "        print(\"Correct\")\n",
        "        correct_count += 1\n",
        "    else:\n",
        "        print(\"Incorrect\")\n",
        "\n",
        "# Print the total number of correct answers\n",
        "print(f\"Total correct answers: {correct_count}\")\n",
        "\n",
        "\n"
      ],
      "metadata": {
        "id": "_XKBrhsQHJ4z"
      },
      "execution_count": null,
      "outputs": []
    }
  ]
}