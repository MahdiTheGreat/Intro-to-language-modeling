{
  "cells": [
    {
      "cell_type": "markdown",
      "metadata": {
        "id": "IgzPiclr4Cun"
      },
      "source": [
        "# Step 0: Imports"
      ]
    },
    {
      "cell_type": "code",
      "source": [
        "from tqdm import tqdm\n",
        "from sklearn.datasets import fetch_20newsgroups # We use the 20 news groups text dataset\n",
        "import nltk\n",
        "from nltk.corpus import stopwords\n",
        "from nltk.tokenize import word_tokenize\n",
        "from collections import Counter\n",
        "import numpy as np\n",
        "import pandas as pd"
      ],
      "metadata": {
        "id": "S471E7Q86cPH"
      },
      "execution_count": 18,
      "outputs": []
    },
    {
      "cell_type": "markdown",
      "metadata": {
        "id": "AW53Mx7p3LqE"
      },
      "source": [
        "# Step 1: Fetching data and preprocessing"
      ]
    },
    {
      "cell_type": "code",
      "execution_count": 19,
      "metadata": {
        "id": "qZHLDZSB2iOq"
      },
      "outputs": [],
      "source": [
        "newsgroups_train = fetch_20newsgroups(subset='train')"
      ]
    },
    {
      "cell_type": "code",
      "source": [
        "print(len(newsgroups_train.target_names))"
      ],
      "metadata": {
        "id": "-nLT1si_CqT4",
        "outputId": "62cf3f43-1505-4e80-feb0-5af29ab84904",
        "colab": {
          "base_uri": "https://localhost:8080/"
        }
      },
      "execution_count": 20,
      "outputs": [
        {
          "output_type": "stream",
          "name": "stdout",
          "text": [
            "20\n"
          ]
        }
      ]
    },
    {
      "cell_type": "code",
      "source": [
        "# Split into smaller training sets in percentage\n",
        "percentage = 0.8\n",
        "split_index = int(len(newsgroups_train.data) * percentage)\n",
        "train_data_small = newsgroups_train.data[:split_index]\n",
        "train_targets_small = newsgroups_train.target[:split_index]"
      ],
      "metadata": {
        "id": "ejgOpsbANmyk"
      },
      "execution_count": 21,
      "outputs": []
    },
    {
      "cell_type": "code",
      "source": [
        "print(train_data_small[0])"
      ],
      "metadata": {
        "id": "wv0CKmXAOKnx",
        "outputId": "59f8e694-9e7d-40fa-af0e-a28a29b55e27",
        "colab": {
          "base_uri": "https://localhost:8080/"
        }
      },
      "execution_count": 22,
      "outputs": [
        {
          "output_type": "stream",
          "name": "stdout",
          "text": [
            "From: lerxst@wam.umd.edu (where's my thing)\n",
            "Subject: WHAT car is this!?\n",
            "Nntp-Posting-Host: rac3.wam.umd.edu\n",
            "Organization: University of Maryland, College Park\n",
            "Lines: 15\n",
            "\n",
            " I was wondering if anyone out there could enlighten me on this car I saw\n",
            "the other day. It was a 2-door sports car, looked to be from the late 60s/\n",
            "early 70s. It was called a Bricklin. The doors were really small. In addition,\n",
            "the front bumper was separate from the rest of the body. This is \n",
            "all I know. If anyone can tellme a model name, engine specs, years\n",
            "of production, where this car is made, history, or whatever info you\n",
            "have on this funky looking car, please e-mail.\n",
            "\n",
            "Thanks,\n",
            "- IL\n",
            "   ---- brought to you by your neighborhood Lerxst ----\n",
            "\n",
            "\n",
            "\n",
            "\n",
            "\n"
          ]
        }
      ]
    },
    {
      "cell_type": "code",
      "execution_count": 23,
      "metadata": {
        "colab": {
          "base_uri": "https://localhost:8080/"
        },
        "id": "pmHCCZWe3b9X",
        "outputId": "b6f10aa3-9c59-4c07-f3e7-e62a4e92bd53"
      },
      "outputs": [
        {
          "output_type": "stream",
          "name": "stderr",
          "text": [
            "[nltk_data] Downloading package stopwords to /root/nltk_data...\n",
            "[nltk_data]   Package stopwords is already up-to-date!\n",
            "[nltk_data] Downloading package punkt_tab to /root/nltk_data...\n",
            "[nltk_data]   Package punkt_tab is already up-to-date!\n"
          ]
        },
        {
          "output_type": "stream",
          "name": "stdout",
          "text": [
            "Processing Articles\n"
          ]
        },
        {
          "output_type": "stream",
          "name": "stderr",
          "text": [
            "100%|██████████| 9051/9051 [00:25<00:00, 355.44it/s]\n"
          ]
        },
        {
          "output_type": "stream",
          "name": "stdout",
          "text": [
            "Total unique words: 154018\n",
            "Word-to-ID mapping example: {'\\x03': 0, '\\x03\\x03\\x1b': 1, '\\x1a': 2, '\\x1b': 3, '!': 4}\n",
            "Integer Corpus example (first article): []\n"
          ]
        }
      ],
      "source": [
        "nltk.download('stopwords')\n",
        "nltk.download('punkt_tab')\n",
        "\n",
        "stop_words = set(stopwords.words('english'))\n",
        "\n",
        "# Initialize structures for the preprocessed corpus\n",
        "filtered_train = [[] for _ in range(len(train_data_small))]  # Preprocessed articles\n",
        "flattened_train = []  # A single list of all words in the corpus\n",
        "\n",
        "# Tokenizing and removing stopwords\n",
        "print(\"Processing Articles\")\n",
        "for i, article in tqdm(enumerate(train_data_small), total=len(train_data_small)):\n",
        "    word_tokens = word_tokenize(article)  # Tokenize article\n",
        "    # Remove stop words and add to both filtered_train and flattened_train\n",
        "    filtered_words = [w.lower() for w in word_tokens if w.lower() not in stop_words]\n",
        "    filtered_train[i] = filtered_words\n",
        "    flattened_train.extend(filtered_words)\n",
        "\n",
        "# Create a vocabulary mapping\n",
        "unique_words = sorted(set(flattened_train))  # Get unique words\n",
        "word_to_id = {word: idx for idx, word in enumerate(unique_words)}  # Map word to ID\n",
        "id_to_word = {idx: word for word, idx in word_to_id.items()}  # Reverse mapping\n",
        "\n",
        "# Map the filtered articles to integer IDs\n",
        "int_corpus = [[word_to_id[word] for word in article] for article in filtered_train]\n",
        "\n",
        "# Display mappings and a small example\n",
        "print(f\"Total unique words: {len(unique_words)}\")\n",
        "print(\"Word-to-ID mapping example:\", {k: word_to_id[k] for k in list(word_to_id)[:5]})\n",
        "print(\"Integer Corpus example (first article):\", int_corpus[0][100:110])"
      ]
    },
    {
      "cell_type": "code",
      "source": [
        "word_count = Counter(flattened_train)"
      ],
      "metadata": {
        "id": "Ku3E7_9eW93G"
      },
      "execution_count": 24,
      "outputs": []
    },
    {
      "cell_type": "code",
      "source": [
        "# Extract low-frequency words (occurrence <= 10) into a set\n",
        "low_frequency_words = {word for word, count in word_count.items() if count <= 10}"
      ],
      "metadata": {
        "id": "vU3wP-jEL1u1"
      },
      "execution_count": 25,
      "outputs": []
    },
    {
      "cell_type": "code",
      "source": [
        "# Filter articles efficiently using set operations\n",
        "corpus_hf = []\n",
        "for article in tqdm(int_corpus, desc=\"Removing LF words\"):\n",
        "    article_set = set(article)\n",
        "    filtered_article = list(article_set - low_frequency_words)\n",
        "    corpus_hf.append(filtered_article)"
      ],
      "metadata": {
        "id": "2Q7WUkGCFsIX",
        "outputId": "77a8de04-68af-4ef2-9fbc-d3b320f561b7",
        "colab": {
          "base_uri": "https://localhost:8080/"
        }
      },
      "execution_count": 26,
      "outputs": [
        {
          "output_type": "stream",
          "name": "stderr",
          "text": [
            "Removing LF words: 100%|██████████| 9051/9051 [00:00<00:00, 32187.96it/s]\n"
          ]
        }
      ]
    },
    {
      "cell_type": "code",
      "source": [
        "flattened_train = [word for word in flattened_train if word not in low_frequency_words]\n",
        "voc_size = len(sorted(set(flattened_train)))\n",
        "print(\"Number of words in corpus\", len(flattened_train))\n",
        "print(\"Vocabulary size after removing LF words\", voc_size)"
      ],
      "metadata": {
        "id": "NLmxtbMSQNjs",
        "colab": {
          "base_uri": "https://localhost:8080/"
        },
        "outputId": "c81e98d4-4400-4051-e797-5a650e0995a9"
      },
      "execution_count": 27,
      "outputs": [
        {
          "output_type": "stream",
          "name": "stdout",
          "text": [
            "Number of words in corpus 2518661\n",
            "Vocabulary size after removing LF words 15665\n"
          ]
        }
      ]
    },
    {
      "cell_type": "markdown",
      "source": [
        "# Step 2: Gibbs sampling"
      ],
      "metadata": {
        "id": "8X4pGSix73wx"
      }
    },
    {
      "cell_type": "code",
      "source": [
        "from collections import defaultdict\n",
        "\n",
        "def lda_gibbs_sampling(corpus, K, alpha, beta, iterations):\n",
        "    \"\"\"\n",
        "    Implements Collapsed Gibbs Sampling for LDA.\n",
        "\n",
        "    :param corpus: List of lists, where each inner list contains word IDs in a document.\n",
        "    :param K: Number of topics.\n",
        "    :param alpha: Dirichlet prior for document-topic distribution.\n",
        "    :param beta: Dirichlet prior for topic-word distribution.\n",
        "    :param iterations: Number of Gibbs sampling iterations.\n",
        "    :return: Topic assignments, document-topic counts, topic-word counts, topic totals.\n",
        "    \"\"\"\n",
        "    # Initialize variables\n",
        "    D = len(corpus)  # Number of documents\n",
        "    V = max(max(doc) for doc in corpus) + 1  # Vocabulary size (assumes word IDs are 0-indexed)\n",
        "\n",
        "    # Count matrices\n",
        "    ndk = np.zeros((D, K))  # Document-topic counts\n",
        "    nkw = np.zeros((K, V))  # Topic-word counts\n",
        "    nk = np.zeros(K)        # Total words in each topic\n",
        "\n",
        "    # Topic assignments for each word\n",
        "    z = []  # Topic assignment for each word in corpus\n",
        "    for d, doc in enumerate(corpus):\n",
        "        doc_topics = []\n",
        "        for word in doc:\n",
        "            topic = np.random.randint(K)  # Randomly assign a topic\n",
        "            doc_topics.append(topic)\n",
        "            ndk[d, topic] += 1\n",
        "            nkw[topic, word] += 1\n",
        "            nk[topic] += 1\n",
        "        z.append(doc_topics)\n",
        "\n",
        "    # Gibbs sampling\n",
        "    for _ in tqdm(range(iterations)):\n",
        "        for d, doc in enumerate(corpus):\n",
        "            for i, word in enumerate(doc):\n",
        "                current_topic = z[d][i]\n",
        "\n",
        "                # Decrement counts\n",
        "                ndk[d, current_topic] -= 1\n",
        "                nkw[current_topic, word] -= 1\n",
        "                nk[current_topic] -= 1\n",
        "\n",
        "                # Compute topic probabilities (Maybe do a for loop here instead)\n",
        "                topic_probs = (ndk[d] + alpha) * (nkw[:, word] + beta) / (nk + beta * V)\n",
        "                topic_probs /= np.sum(topic_probs)  # Normalize\n",
        "\n",
        "                # Sample new topic\n",
        "                new_topic = np.random.choice(K, p=topic_probs)\n",
        "                z[d][i] = new_topic\n",
        "\n",
        "                # Increment counts\n",
        "                ndk[d, new_topic] += 1\n",
        "                nkw[new_topic, word] += 1\n",
        "                nk[new_topic] += 1\n",
        "\n",
        "    return z, ndk, nkw, nk"
      ],
      "metadata": {
        "id": "U85ycesL76R8"
      },
      "execution_count": 28,
      "outputs": []
    },
    {
      "cell_type": "code",
      "source": [
        "# Initialize data\n",
        "corpus = corpus_hf.copy()\n",
        "targets = train_targets_small.copy()\n",
        "topics = newsgroups_train.target_names.copy()\n",
        "\n",
        "# First parameter combo\n",
        "z, ndk, nkw, nk = lda_gibbs_sampling(corpus, alpha = 0.1, beta = 0.1, K=len(topics), iterations=100)"
      ],
      "metadata": {
        "id": "QaMPOEWe8FB1",
        "colab": {
          "base_uri": "https://localhost:8080/"
        },
        "outputId": "6c6cade7-0f60-44c0-828d-b3c7b352286c"
      },
      "execution_count": null,
      "outputs": [
        {
          "output_type": "stream",
          "name": "stderr",
          "text": [
            " 33%|███▎      | 50/150 [43:38<1:27:10, 52.31s/it]"
          ]
        }
      ]
    },
    {
      "cell_type": "code",
      "source": [
        "print(ndk.shape, nkw.shape, nk.shape)"
      ],
      "metadata": {
        "id": "TKX8MdD3cGWr"
      },
      "execution_count": null,
      "outputs": []
    },
    {
      "cell_type": "code",
      "source": [
        "import pandas as pd\n",
        "def get_top_words(nkw, id_to_word, top_n=20, method=\"raw\", beta=0.1):\n",
        "    \"\"\"\n",
        "    Get the top words for each topic.\n",
        "\n",
        "    :param nkw: Topic-word counts (K x V matrix).\n",
        "    :param id_to_word: Dictionary mapping word IDs to their original words.\n",
        "    :param top_n: Number of top words to retrieve per topic.\n",
        "    :param method: \"raw\" for raw counts, \"relative\" for relative frequencies.\n",
        "    :param beta: Dirichlet prior for smoothing (used in relative frequency).\n",
        "    :return: Dictionary of top words for each topic.\n",
        "    \"\"\"\n",
        "    K, V = nkw.shape\n",
        "    top_words_per_topic = {}\n",
        "\n",
        "    if method == \"raw\":\n",
        "        # Use raw counts\n",
        "        for k in range(K):\n",
        "            top_word_indices = np.argsort(nkw[k, :])[::-1][:top_n]  # Top N words by count\n",
        "            top_words_per_topic[k] = [id_to_word[idx] for idx in top_word_indices]\n",
        "\n",
        "    elif method == \"relative\":\n",
        "        # Compute relative frequencies\n",
        "        word_totals = np.sum(nkw, axis=0)  # Total count of each word across all topics\n",
        "        for k in range(K):\n",
        "            relative_freqs = (nkw[k, :] + beta) / (word_totals + beta * K)  # Smoothed relative frequency\n",
        "            top_word_indices = np.argsort(relative_freqs)[::-1][:top_n]  # Top N words by relative frequency\n",
        "            top_words_per_topic[k] = [\n",
        "                id_to_word[idx] for idx in top_word_indices\n",
        "            ]\n",
        "\n",
        "    return top_words_per_topic\n",
        "\n",
        "\n",
        "def top_words_to_df(top_words_per_topic, method=\"raw\"):\n",
        "    \"\"\"\n",
        "    Display the top words for each topic in a table format.\n",
        "\n",
        "    :param top_words_per_topic: Dictionary of top words for each topic.\n",
        "    :param method: Description of the method used (\"raw\" or \"relative\").\n",
        "    \"\"\"\n",
        "    df_top_words = pd.DataFrame.from_dict(top_words_per_topic, orient=\"index\")\n",
        "    df_top_words.columns = [f\"Topic {i+1}\" for i in range(df_top_words.shape[1])]\n",
        "    return df_top_words\n",
        "\n"
      ],
      "metadata": {
        "id": "8AxH9Ge6fQIv"
      },
      "execution_count": null,
      "outputs": []
    },
    {
      "cell_type": "code",
      "source": [
        "top_words_per_topic = get_top_words(nkw, id_to_word, top_n=20)\n",
        "df_top_words = top_words_to_df(top_words_per_topic)\n",
        "df_top_words"
      ],
      "metadata": {
        "id": "OBiSOQR0cZ0g"
      },
      "execution_count": null,
      "outputs": []
    }
  ],
  "metadata": {
    "colab": {
      "provenance": [],
      "gpuType": "T4"
    },
    "kernelspec": {
      "display_name": "Python 3",
      "name": "python3"
    },
    "language_info": {
      "name": "python"
    },
    "accelerator": "GPU"
  },
  "nbformat": 4,
  "nbformat_minor": 0
}